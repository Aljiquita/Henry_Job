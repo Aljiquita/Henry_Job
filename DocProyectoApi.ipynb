{
 "cells": [
  {
   "attachments": {},
   "cell_type": "markdown",
   "metadata": {},
   "source": [
    "# ***Desarrollo API***\n",
    " Propones disponibilizar los datos de la empresa usando el framework FastAPI. Las consultas que propones son las siguientes:\n",
    "\n",
    "Deben crear 6 funciones para los endpoints que se consumirán en la API, recuerden que deben tener un decorador por cada una (@app.get(‘/’))."
   ]
  },
  {
   "attachments": {},
   "cell_type": "markdown",
   "metadata": {},
   "source": [
    "### Creamos Data Frame con el DataFrame Normalizado"
   ]
  },
  {
   "cell_type": "code",
   "execution_count": 156,
   "metadata": {},
   "outputs": [],
   "source": [
    "import pandas as pd\n",
    "import datetime as dt\n",
    "import numpy as np\n",
    "from datetime import datetime\n",
    "from fastapi import FastAPI\n",
    "import joblib\n",
    "import fastparquet\n",
    "import nltk\n",
    "import re\n",
    "from nltk.stem import WordNetLemmatizer\n",
    "wordnet_lemmatizer = WordNetLemmatizer()\n",
    "from nltk.stem import PorterStemmer\n",
    "stemmer = PorterStemmer()\n",
    "from nltk.corpus import wordnet\n",
    "\n",
    "from sklearn.linear_model import LinearRegression\n",
    "\n"
   ]
  },
  {
   "cell_type": "code",
   "execution_count": 157,
   "metadata": {},
   "outputs": [],
   "source": [
    "df = pd.read_csv('./DataSet/movies_dataset_normalizado.csv' )\n",
    "\n"
   ]
  },
  {
   "attachments": {},
   "cell_type": "markdown",
   "metadata": {},
   "source": [
    "##### Levantamos nuestro servidor con FastAPI\n",
    "uvicorn ProyectoApi:app --reload"
   ]
  },
  {
   "cell_type": "code",
   "execution_count": 158,
   "metadata": {},
   "outputs": [
    {
     "data": {
      "text/html": [
       "<div>\n",
       "<style scoped>\n",
       "    .dataframe tbody tr th:only-of-type {\n",
       "        vertical-align: middle;\n",
       "    }\n",
       "\n",
       "    .dataframe tbody tr th {\n",
       "        vertical-align: top;\n",
       "    }\n",
       "\n",
       "    .dataframe thead th {\n",
       "        text-align: right;\n",
       "    }\n",
       "</style>\n",
       "<table border=\"1\" class=\"dataframe\">\n",
       "  <thead>\n",
       "    <tr style=\"text-align: right;\">\n",
       "      <th></th>\n",
       "      <th>belongs_to_collection</th>\n",
       "      <th>budget</th>\n",
       "      <th>genres</th>\n",
       "      <th>id</th>\n",
       "      <th>original_language</th>\n",
       "      <th>overview</th>\n",
       "      <th>popularity</th>\n",
       "      <th>production_companies</th>\n",
       "      <th>production_countries</th>\n",
       "      <th>release_date</th>\n",
       "      <th>revenue</th>\n",
       "      <th>runtime</th>\n",
       "      <th>spoken_languages</th>\n",
       "      <th>status</th>\n",
       "      <th>tagline</th>\n",
       "      <th>title</th>\n",
       "      <th>vote_average</th>\n",
       "      <th>release_year</th>\n",
       "      <th>return</th>\n",
       "    </tr>\n",
       "  </thead>\n",
       "  <tbody>\n",
       "    <tr>\n",
       "      <th>0</th>\n",
       "      <td>Toy Story Collection</td>\n",
       "      <td>30000000.0</td>\n",
       "      <td>['Animation', 'Comedy', 'Family']</td>\n",
       "      <td>862</td>\n",
       "      <td>en</td>\n",
       "      <td>Led by Woody, Andy's toys live happily in his ...</td>\n",
       "      <td>21.946943</td>\n",
       "      <td>['Pixar Animation Studios']</td>\n",
       "      <td>['United States of America']</td>\n",
       "      <td>1995-10-30</td>\n",
       "      <td>373554033.0</td>\n",
       "      <td>81.0</td>\n",
       "      <td>['English']</td>\n",
       "      <td>Released</td>\n",
       "      <td>NaN</td>\n",
       "      <td>Toy Story</td>\n",
       "      <td>7.7</td>\n",
       "      <td>1995</td>\n",
       "      <td>12.0</td>\n",
       "    </tr>\n",
       "    <tr>\n",
       "      <th>1</th>\n",
       "      <td>0</td>\n",
       "      <td>65000000.0</td>\n",
       "      <td>['Adventure', 'Fantasy', 'Family']</td>\n",
       "      <td>8844</td>\n",
       "      <td>en</td>\n",
       "      <td>When siblings Judy and Peter discover an encha...</td>\n",
       "      <td>17.015539</td>\n",
       "      <td>['TriStar Pictures', 'Teitler Film', 'Intersco...</td>\n",
       "      <td>['United States of America']</td>\n",
       "      <td>1995-12-15</td>\n",
       "      <td>262797249.0</td>\n",
       "      <td>104.0</td>\n",
       "      <td>['English', 'Français']</td>\n",
       "      <td>Released</td>\n",
       "      <td>Roll the dice and unleash the excitement!</td>\n",
       "      <td>Jumanji</td>\n",
       "      <td>6.9</td>\n",
       "      <td>1995</td>\n",
       "      <td>4.0</td>\n",
       "    </tr>\n",
       "    <tr>\n",
       "      <th>2</th>\n",
       "      <td>Grumpy Old Men Collection</td>\n",
       "      <td>0.0</td>\n",
       "      <td>['Romance', 'Comedy']</td>\n",
       "      <td>15602</td>\n",
       "      <td>en</td>\n",
       "      <td>A family wedding reignites the ancient feud be...</td>\n",
       "      <td>11.712900</td>\n",
       "      <td>['Warner Bros.', 'Lancaster Gate']</td>\n",
       "      <td>['United States of America']</td>\n",
       "      <td>1995-12-22</td>\n",
       "      <td>0.0</td>\n",
       "      <td>101.0</td>\n",
       "      <td>['English']</td>\n",
       "      <td>Released</td>\n",
       "      <td>Still Yelling. Still Fighting. Still Ready for...</td>\n",
       "      <td>Grumpier Old Men</td>\n",
       "      <td>6.5</td>\n",
       "      <td>1995</td>\n",
       "      <td>0.0</td>\n",
       "    </tr>\n",
       "    <tr>\n",
       "      <th>3</th>\n",
       "      <td>0</td>\n",
       "      <td>16000000.0</td>\n",
       "      <td>['Comedy', 'Drama', 'Romance']</td>\n",
       "      <td>31357</td>\n",
       "      <td>en</td>\n",
       "      <td>Cheated on, mistreated and stepped on, the wom...</td>\n",
       "      <td>3.859495</td>\n",
       "      <td>['Twentieth Century Fox Film Corporation']</td>\n",
       "      <td>['United States of America']</td>\n",
       "      <td>1995-12-22</td>\n",
       "      <td>81452156.0</td>\n",
       "      <td>127.0</td>\n",
       "      <td>['English']</td>\n",
       "      <td>Released</td>\n",
       "      <td>Friends are the people who let you be yourself...</td>\n",
       "      <td>Waiting to Exhale</td>\n",
       "      <td>6.1</td>\n",
       "      <td>1995</td>\n",
       "      <td>5.0</td>\n",
       "    </tr>\n",
       "    <tr>\n",
       "      <th>4</th>\n",
       "      <td>Father of the Bride Collection</td>\n",
       "      <td>0.0</td>\n",
       "      <td>['Comedy']</td>\n",
       "      <td>11862</td>\n",
       "      <td>en</td>\n",
       "      <td>Just when George Banks has recovered from his ...</td>\n",
       "      <td>8.387519</td>\n",
       "      <td>['Sandollar Productions', 'Touchstone Pictures']</td>\n",
       "      <td>['United States of America']</td>\n",
       "      <td>1995-02-10</td>\n",
       "      <td>76578911.0</td>\n",
       "      <td>106.0</td>\n",
       "      <td>['English']</td>\n",
       "      <td>Released</td>\n",
       "      <td>Just When His World Is Back To Normal... He's ...</td>\n",
       "      <td>Father of the Bride Part II</td>\n",
       "      <td>5.7</td>\n",
       "      <td>1995</td>\n",
       "      <td>0.0</td>\n",
       "    </tr>\n",
       "  </tbody>\n",
       "</table>\n",
       "</div>"
      ],
      "text/plain": [
       "            belongs_to_collection      budget   \n",
       "0            Toy Story Collection  30000000.0  \\\n",
       "1                               0  65000000.0   \n",
       "2       Grumpy Old Men Collection         0.0   \n",
       "3                               0  16000000.0   \n",
       "4  Father of the Bride Collection         0.0   \n",
       "\n",
       "                               genres     id original_language   \n",
       "0   ['Animation', 'Comedy', 'Family']    862                en  \\\n",
       "1  ['Adventure', 'Fantasy', 'Family']   8844                en   \n",
       "2               ['Romance', 'Comedy']  15602                en   \n",
       "3      ['Comedy', 'Drama', 'Romance']  31357                en   \n",
       "4                          ['Comedy']  11862                en   \n",
       "\n",
       "                                            overview  popularity   \n",
       "0  Led by Woody, Andy's toys live happily in his ...   21.946943  \\\n",
       "1  When siblings Judy and Peter discover an encha...   17.015539   \n",
       "2  A family wedding reignites the ancient feud be...   11.712900   \n",
       "3  Cheated on, mistreated and stepped on, the wom...    3.859495   \n",
       "4  Just when George Banks has recovered from his ...    8.387519   \n",
       "\n",
       "                                production_companies   \n",
       "0                        ['Pixar Animation Studios']  \\\n",
       "1  ['TriStar Pictures', 'Teitler Film', 'Intersco...   \n",
       "2                 ['Warner Bros.', 'Lancaster Gate']   \n",
       "3         ['Twentieth Century Fox Film Corporation']   \n",
       "4   ['Sandollar Productions', 'Touchstone Pictures']   \n",
       "\n",
       "           production_countries release_date      revenue  runtime   \n",
       "0  ['United States of America']   1995-10-30  373554033.0     81.0  \\\n",
       "1  ['United States of America']   1995-12-15  262797249.0    104.0   \n",
       "2  ['United States of America']   1995-12-22          0.0    101.0   \n",
       "3  ['United States of America']   1995-12-22   81452156.0    127.0   \n",
       "4  ['United States of America']   1995-02-10   76578911.0    106.0   \n",
       "\n",
       "          spoken_languages    status   \n",
       "0              ['English']  Released  \\\n",
       "1  ['English', 'Français']  Released   \n",
       "2              ['English']  Released   \n",
       "3              ['English']  Released   \n",
       "4              ['English']  Released   \n",
       "\n",
       "                                             tagline   \n",
       "0                                                NaN  \\\n",
       "1          Roll the dice and unleash the excitement!   \n",
       "2  Still Yelling. Still Fighting. Still Ready for...   \n",
       "3  Friends are the people who let you be yourself...   \n",
       "4  Just When His World Is Back To Normal... He's ...   \n",
       "\n",
       "                         title  vote_average  release_year  return  \n",
       "0                    Toy Story           7.7          1995    12.0  \n",
       "1                      Jumanji           6.9          1995     4.0  \n",
       "2             Grumpier Old Men           6.5          1995     0.0  \n",
       "3            Waiting to Exhale           6.1          1995     5.0  \n",
       "4  Father of the Bride Part II           5.7          1995     0.0  "
      ]
     },
     "execution_count": 158,
     "metadata": {},
     "output_type": "execute_result"
    }
   ],
   "source": [
    "df.head(5)"
   ]
  },
  {
   "cell_type": "markdown",
   "metadata": {},
   "source": []
  },
  {
   "cell_type": "code",
   "execution_count": 159,
   "metadata": {},
   "outputs": [
    {
     "name": "stdout",
     "output_type": "stream",
     "text": [
      "<class 'pandas.core.frame.DataFrame'>\n",
      "RangeIndex: 45376 entries, 0 to 45375\n",
      "Data columns (total 19 columns):\n",
      " #   Column                 Non-Null Count  Dtype  \n",
      "---  ------                 --------------  -----  \n",
      " 0   belongs_to_collection  45376 non-null  object \n",
      " 1   budget                 45376 non-null  float64\n",
      " 2   genres                 45376 non-null  object \n",
      " 3   id                     45376 non-null  int64  \n",
      " 4   original_language      45365 non-null  object \n",
      " 5   overview               44435 non-null  object \n",
      " 6   popularity             45376 non-null  float64\n",
      " 7   production_companies   45376 non-null  object \n",
      " 8   production_countries   45376 non-null  object \n",
      " 9   release_date           45376 non-null  object \n",
      " 10  revenue                45376 non-null  float64\n",
      " 11  runtime                45130 non-null  float64\n",
      " 12  spoken_languages       45376 non-null  object \n",
      " 13  status                 45296 non-null  object \n",
      " 14  tagline                20398 non-null  object \n",
      " 15  title                  45376 non-null  object \n",
      " 16  vote_average           45376 non-null  float64\n",
      " 17  release_year           45376 non-null  int64  \n",
      " 18  return                 45376 non-null  float64\n",
      "dtypes: float64(6), int64(2), object(11)\n",
      "memory usage: 6.6+ MB\n"
     ]
    }
   ],
   "source": [
    "df.info()"
   ]
  },
  {
   "cell_type": "code",
   "execution_count": 160,
   "metadata": {},
   "outputs": [
    {
     "data": {
      "text/plain": [
       "Index(['belongs_to_collection', 'budget', 'genres', 'id', 'original_language',\n",
       "       'overview', 'popularity', 'production_companies',\n",
       "       'production_countries', 'release_date', 'revenue', 'runtime',\n",
       "       'spoken_languages', 'status', 'tagline', 'title', 'vote_average',\n",
       "       'release_year', 'return'],\n",
       "      dtype='object')"
      ]
     },
     "execution_count": 160,
     "metadata": {},
     "output_type": "execute_result"
    }
   ],
   "source": [
    "df.columns"
   ]
  },
  {
   "attachments": {},
   "cell_type": "markdown",
   "metadata": {},
   "source": [
    "#### A-) def peliculas_mes(mes): '''Se ingresa el mes y la funcion retorna la cantidad de peliculas que se estrenaron ese mes historicamente''' return {'mes':mes, 'cantidad':respuesta}"
   ]
  },
  {
   "cell_type": "code",
   "execution_count": 161,
   "metadata": {},
   "outputs": [
    {
     "data": {
      "text/plain": [
       "array([10, 12,  2, 11,  9,  5,  4,  8,  7,  6,  1,  3])"
      ]
     },
     "execution_count": 161,
     "metadata": {},
     "output_type": "execute_result"
    }
   ],
   "source": [
    "df[\"release_date\"] = pd.to_datetime(df[\"release_date\"])\n",
    "df[\"release_month_name\"] = df[\"release_date\"].dt.month\n",
    "df[\"release_month_name\"].unique()"
   ]
  },
  {
   "cell_type": "code",
   "execution_count": 162,
   "metadata": {},
   "outputs": [],
   "source": [
    "mes_letras= [\n",
    "    df[\"release_month_name\"] == 1,\n",
    "    df[\"release_month_name\"] == 2,\n",
    "    df[\"release_month_name\"] == 3,\n",
    "    df[\"release_month_name\"] == 4,\n",
    "    df[\"release_month_name\"] == 5,\n",
    "    df[\"release_month_name\"] == 6,\n",
    "    df[\"release_month_name\"] == 7,\n",
    "    df[\"release_month_name\"] == 8,\n",
    "    df[\"release_month_name\"] == 9,\n",
    "    df[\"release_month_name\"] == 10,\n",
    "    df[\"release_month_name\"] == 11,\n",
    "    df[\"release_month_name\"] == 12\n",
    "]\n",
    "opciones_mes_letras = [\"enero\", \"febrero\", \"marzo\", \"abril\", \"mayo\", \"junio\", \"julio\", \"agosto\", \"septiembre\", \"octubre\", \"noviembre\", \"diciembre\"]\n"
   ]
  },
  {
   "cell_type": "code",
   "execution_count": 163,
   "metadata": {},
   "outputs": [
    {
     "data": {
      "text/plain": [
       "array(['octubre', 'diciembre', 'febrero', 'noviembre', 'septiembre',\n",
       "       'mayo', 'abril', 'agosto', 'julio', 'junio', 'enero', 'marzo'],\n",
       "      dtype=object)"
      ]
     },
     "execution_count": 163,
     "metadata": {},
     "output_type": "execute_result"
    }
   ],
   "source": [
    "df[\"release_month_name\"] = np.select(mes_letras, opciones_mes_letras)\n",
    "df[\"release_month_name\"].unique()"
   ]
  },
  {
   "cell_type": "code",
   "execution_count": 164,
   "metadata": {},
   "outputs": [
    {
     "data": {
      "text/plain": [
       "{'mes': 'diciembre', 'cantidad': '3786'}"
      ]
     },
     "execution_count": 164,
     "metadata": {},
     "output_type": "execute_result"
    }
   ],
   "source": [
    "def peliculas_mes(mes: str):\n",
    "    '''Se ingresa el mes y la función retorna la cantidad de películas \n",
    "        que se estrenaron ese mes históricamente'''\n",
    "    respuesta = df[\"release_month_name\"][df[\"release_month_name\"] == mes].count()\n",
    "    if respuesta > 0:\n",
    "        return {'mes':mes, 'cantidad': f\"{respuesta}\"  }\n",
    "    return \"Valor invalido.. Ej (enero) \"\n",
    "peliculas_mes('diciembre')"
   ]
  },
  {
   "attachments": {},
   "cell_type": "markdown",
   "metadata": {},
   "source": [
    "#### B-) def peliculas_dia(dia): '''Se ingresa el dia y la funcion retorna la cantidad de peliculas que se estrebaron ese dia historicamente''' return {'dia':dia, 'cantidad':respuesta}"
   ]
  },
  {
   "cell_type": "code",
   "execution_count": 165,
   "metadata": {},
   "outputs": [
    {
     "data": {
      "text/plain": [
       "array(['Monday', 'Friday', 'Thursday', 'Wednesday', 'Saturday', 'Tuesday',\n",
       "       'Sunday'], dtype=object)"
      ]
     },
     "execution_count": 165,
     "metadata": {},
     "output_type": "execute_result"
    }
   ],
   "source": [
    "df[\"release_day_name\"] = df[\"release_date\"].dt.day_name()\n",
    "df[\"release_day_name\"].unique()\n"
   ]
  },
  {
   "cell_type": "code",
   "execution_count": 166,
   "metadata": {},
   "outputs": [],
   "source": [
    "dia_letras= [\n",
    "    df[\"release_day_name\"] == 'Monday',\n",
    "    df[\"release_day_name\"] == 'Friday',\n",
    "    df[\"release_day_name\"] == 'Thursday',\n",
    "    df[\"release_day_name\"] == 'Wednesday',\n",
    "    df[\"release_day_name\"] == 'Saturday',\n",
    "    df[\"release_day_name\"] == 'Tuesday',\n",
    "    df[\"release_day_name\"] == 'Sunday']\n",
    "opciones_dia_letras = [\"lunes\", \"martes\", \"miercoles\", 'jueves', 'viernes', 'sabado', 'domingo']\n"
   ]
  },
  {
   "cell_type": "code",
   "execution_count": 167,
   "metadata": {},
   "outputs": [
    {
     "data": {
      "text/plain": [
       "array(['lunes', 'martes', 'miercoles', 'jueves', 'viernes', 'sabado',\n",
       "       'domingo'], dtype=object)"
      ]
     },
     "execution_count": 167,
     "metadata": {},
     "output_type": "execute_result"
    }
   ],
   "source": [
    "df[\"release_day_name\"] = np.select(dia_letras, opciones_dia_letras)\n",
    "df[\"release_day_name\"].unique()"
   ]
  },
  {
   "cell_type": "code",
   "execution_count": 168,
   "metadata": {},
   "outputs": [],
   "source": [
    "def peliculas_dia(dia: str):\n",
    "    respuesta = df[\"release_day_name\"][df[\"release_day_name\"].str.contains(f\"{dia}\")].count()\n",
    "    if respuesta > 0:\n",
    "        return {'dia':dia, 'cantidad':respuesta}\n",
    "    return \"Valor invalido\""
   ]
  },
  {
   "cell_type": "code",
   "execution_count": 169,
   "metadata": {},
   "outputs": [
    {
     "name": "stdout",
     "output_type": "stream",
     "text": [
      "Valor invalido\n",
      "Valor invalido\n"
     ]
    }
   ],
   "source": [
    "print(peliculas_dia(\"Lunes\"))\n",
    "print(peliculas_dia(\"Mates\"))"
   ]
  },
  {
   "attachments": {},
   "cell_type": "markdown",
   "metadata": {},
   "source": [
    "#### C-) def franquicia(franquicia): '''Se ingresa la franquicia, retornando la cantidad de peliculas, ganancia total y promedio''' return {'franquicia':franquicia, 'cantidad':respuesta, 'ganancia_total':respuesta, 'ganancia_promedio':respuesta}"
   ]
  },
  {
   "cell_type": "code",
   "execution_count": 170,
   "metadata": {},
   "outputs": [],
   "source": [
    "def franquicia(franquicia: str):\n",
    "    ft = df[\"belongs_to_collection\"][df[\"belongs_to_collection\"].str.contains(franquicia)]\n",
    "    gt = df[\"revenue\"][df[\"belongs_to_collection\"].str.contains(franquicia)]\n",
    "    return {'franquicia':franquicia, 'cantidad': ft.count(), 'ganancia_total':gt.sum(), 'ganancia_promedio':gt.sum()/ft.count()}"
   ]
  },
  {
   "cell_type": "code",
   "execution_count": 171,
   "metadata": {},
   "outputs": [
    {
     "data": {
      "text/plain": [
       "{'franquicia': 'Father of the Bride Collection',\n",
       " 'cantidad': 2,\n",
       " 'ganancia_total': 165904691.0,\n",
       " 'ganancia_promedio': 82952345.5}"
      ]
     },
     "execution_count": 171,
     "metadata": {},
     "output_type": "execute_result"
    }
   ],
   "source": [
    "franquicia(\"Father of the Bride Collection\")"
   ]
  },
  {
   "attachments": {},
   "cell_type": "markdown",
   "metadata": {},
   "source": [
    "#### D-) def peliculas_pais(pais): '''Ingresas el pais, retornando la cantidad de peliculas producidas en el mismo''' return {'pais':pais, 'cantidad':respuesta}"
   ]
  },
  {
   "cell_type": "code",
   "execution_count": 172,
   "metadata": {},
   "outputs": [],
   "source": [
    "def peliculas_pais(pais: str):\n",
    "    pp = df[\"production_countries\"][df[\"production_countries\"].str.contains(f\"{pais}\")]\n",
    "    return   {'pais':pais, 'cantidad':pp.count()}\n"
   ]
  },
  {
   "cell_type": "code",
   "execution_count": 173,
   "metadata": {},
   "outputs": [
    {
     "data": {
      "text/plain": [
       "{'pais': 'Spain', 'cantidad': 964}"
      ]
     },
     "execution_count": 173,
     "metadata": {},
     "output_type": "execute_result"
    }
   ],
   "source": [
    "peliculas_pais(\"Spain\")"
   ]
  },
  {
   "attachments": {},
   "cell_type": "markdown",
   "metadata": {},
   "source": [
    "#### E-) def productoras(productora): '''Ingresas la productora, retornando la ganancia total y la cantidad de peliculas que produjeron''' return {'productora':productora, 'ganancia_total':respuesta, 'cantidad':respuesta}"
   ]
  },
  {
   "cell_type": "code",
   "execution_count": 174,
   "metadata": {},
   "outputs": [],
   "source": [
    "def productoras(productora: str):\n",
    "    pt = df[\"production_companies\"][df[\"production_companies\"].str.contains(f\"{productora}\")]\n",
    "    ptg = df[\"revenue\"][df[\"production_companies\"].str.contains(f\"{productora}\")]\n",
    "    return {'productora':productora, 'ganancia_total':ptg.sum(), 'cantidad':pt.count()}"
   ]
  },
  {
   "cell_type": "code",
   "execution_count": 175,
   "metadata": {},
   "outputs": [
    {
     "data": {
      "text/plain": [
       "{'productora': '20th Century Fox Television',\n",
       " 'ganancia_total': 42000000.0,\n",
       " 'cantidad': 22}"
      ]
     },
     "execution_count": 175,
     "metadata": {},
     "output_type": "execute_result"
    }
   ],
   "source": [
    "productoras(\"20th Century Fox Television\")"
   ]
  },
  {
   "attachments": {},
   "cell_type": "markdown",
   "metadata": {},
   "source": [
    "#### F-) def retorno(pelicula): '''Ingresas la pelicula, retornando la inversion, la ganancia, el retorno y el año en el que se lanzo''' return {'pelicula':pelicula, 'inversion':respuesta, 'ganacia':respuesta,'retorno':respuesta, 'anio':respuesta}"
   ]
  },
  {
   "cell_type": "code",
   "execution_count": 176,
   "metadata": {},
   "outputs": [],
   "source": [
    "\n",
    "def retorno(pelicula):\n",
    "    plGan = df[\"revenue\"][(df[\"title\"] == f\"{pelicula}\") & (df[\"return\"] > 0) ]\n",
    "    plInv = df[\"budget\"][(df[\"title\"] == f\"{pelicula}\") & (df[\"return\"] > 0) ]\n",
    "    plRet = df[\"return\"][(df[\"title\"] == f\"{pelicula}\") & (df[\"return\"] > 0) ]\n",
    "    anio = df[\"release_year\"][(df[\"title\"] == f\"{pelicula}\") & (df[\"return\"] > 0) ]\n",
    "    anio = anio[anio.index[0]]\n",
    "    \n",
    "    return {'pelicula':pelicula, 'inversion':plInv.sum(), 'ganacia':plGan.sum(),'retorno':plRet.median(), 'anio': anio}\n",
    "\n",
    "\n"
   ]
  },
  {
   "cell_type": "code",
   "execution_count": 177,
   "metadata": {},
   "outputs": [
    {
     "data": {
      "text/html": [
       "<div>\n",
       "<style scoped>\n",
       "    .dataframe tbody tr th:only-of-type {\n",
       "        vertical-align: middle;\n",
       "    }\n",
       "\n",
       "    .dataframe tbody tr th {\n",
       "        vertical-align: top;\n",
       "    }\n",
       "\n",
       "    .dataframe thead th {\n",
       "        text-align: right;\n",
       "    }\n",
       "</style>\n",
       "<table border=\"1\" class=\"dataframe\">\n",
       "  <thead>\n",
       "    <tr style=\"text-align: right;\">\n",
       "      <th></th>\n",
       "      <th>title</th>\n",
       "      <th>budget</th>\n",
       "      <th>revenue</th>\n",
       "      <th>return</th>\n",
       "    </tr>\n",
       "  </thead>\n",
       "  <tbody>\n",
       "    <tr>\n",
       "      <th>2915</th>\n",
       "      <td>Robin Hood</td>\n",
       "      <td>15000000.0</td>\n",
       "      <td>32056467.0</td>\n",
       "      <td>2.0</td>\n",
       "    </tr>\n",
       "    <tr>\n",
       "      <th>12258</th>\n",
       "      <td>Robin Hood</td>\n",
       "      <td>0.0</td>\n",
       "      <td>0.0</td>\n",
       "      <td>0.0</td>\n",
       "    </tr>\n",
       "    <tr>\n",
       "      <th>15195</th>\n",
       "      <td>Robin Hood</td>\n",
       "      <td>200000000.0</td>\n",
       "      <td>310669540.0</td>\n",
       "      <td>1.0</td>\n",
       "    </tr>\n",
       "    <tr>\n",
       "      <th>45371</th>\n",
       "      <td>Robin Hood</td>\n",
       "      <td>0.0</td>\n",
       "      <td>0.0</td>\n",
       "      <td>0.0</td>\n",
       "    </tr>\n",
       "  </tbody>\n",
       "</table>\n",
       "</div>"
      ],
      "text/plain": [
       "            title       budget      revenue  return\n",
       "2915   Robin Hood   15000000.0   32056467.0     2.0\n",
       "12258  Robin Hood          0.0          0.0     0.0\n",
       "15195  Robin Hood  200000000.0  310669540.0     1.0\n",
       "45371  Robin Hood          0.0          0.0     0.0"
      ]
     },
     "execution_count": 177,
     "metadata": {},
     "output_type": "execute_result"
    }
   ],
   "source": [
    "pl = df[[\"title\", \"budget\", \"revenue\", \"return\"]][(df[\"title\"] == \"Robin Hood\") ]\n",
    "pl"
   ]
  },
  {
   "cell_type": "code",
   "execution_count": 178,
   "metadata": {},
   "outputs": [
    {
     "data": {
      "text/html": [
       "<div>\n",
       "<style scoped>\n",
       "    .dataframe tbody tr th:only-of-type {\n",
       "        vertical-align: middle;\n",
       "    }\n",
       "\n",
       "    .dataframe tbody tr th {\n",
       "        vertical-align: top;\n",
       "    }\n",
       "\n",
       "    .dataframe thead th {\n",
       "        text-align: right;\n",
       "    }\n",
       "</style>\n",
       "<table border=\"1\" class=\"dataframe\">\n",
       "  <thead>\n",
       "    <tr style=\"text-align: right;\">\n",
       "      <th></th>\n",
       "      <th>title</th>\n",
       "      <th>budget</th>\n",
       "      <th>revenue</th>\n",
       "      <th>return</th>\n",
       "    </tr>\n",
       "  </thead>\n",
       "  <tbody>\n",
       "    <tr>\n",
       "      <th>2915</th>\n",
       "      <td>Robin Hood</td>\n",
       "      <td>15000000.0</td>\n",
       "      <td>32056467.0</td>\n",
       "      <td>2.0</td>\n",
       "    </tr>\n",
       "    <tr>\n",
       "      <th>15195</th>\n",
       "      <td>Robin Hood</td>\n",
       "      <td>200000000.0</td>\n",
       "      <td>310669540.0</td>\n",
       "      <td>1.0</td>\n",
       "    </tr>\n",
       "  </tbody>\n",
       "</table>\n",
       "</div>"
      ],
      "text/plain": [
       "            title       budget      revenue  return\n",
       "2915   Robin Hood   15000000.0   32056467.0     2.0\n",
       "15195  Robin Hood  200000000.0  310669540.0     1.0"
      ]
     },
     "execution_count": 178,
     "metadata": {},
     "output_type": "execute_result"
    }
   ],
   "source": [
    "pl = df[[\"title\", \"budget\", \"revenue\", \"return\"]][(df[\"title\"] == \"Robin Hood\") & (df[\"return\"] > 0) ]\n",
    "pl"
   ]
  },
  {
   "cell_type": "code",
   "execution_count": 179,
   "metadata": {},
   "outputs": [
    {
     "data": {
      "text/plain": [
       "{'pelicula': 'Robin Hood',\n",
       " 'inversion': 215000000.0,\n",
       " 'ganacia': 342726007.0,\n",
       " 'retorno': 1.5,\n",
       " 'anio': 1973}"
      ]
     },
     "execution_count": 179,
     "metadata": {},
     "output_type": "execute_result"
    }
   ],
   "source": [
    "retorno(\"Robin Hood\")"
   ]
  },
  {
   "attachments": {},
   "cell_type": "markdown",
   "metadata": {},
   "source": [
    "#### G-) def recomendacion('titulo'): '''Ingresas un nombre de pelicula y te recomienda las similares en una lista de 5 valores''' return {'lista recomendada': respuesta}"
   ]
  },
  {
   "cell_type": "code",
   "execution_count": 180,
   "metadata": {},
   "outputs": [],
   "source": [
    "def recomendacion(titulo: str):\n",
    "    plReco = df[\"title\"][df['title'].str.contains(f\"{titulo}\")]\n",
    "    return  {'lista recomendada': list(plReco) }"
   ]
  },
  {
   "cell_type": "code",
   "execution_count": 181,
   "metadata": {},
   "outputs": [
    {
     "data": {
      "text/plain": [
       "{'lista recomendada': ['Robin Hood: Men in Tights',\n",
       "  'The Adventures of Robin Hood',\n",
       "  'Robin Hood: Prince of Thieves',\n",
       "  'Paradise Lost: The Child Murders at Robin Hood Hills',\n",
       "  'Robin Hood',\n",
       "  'Robin Hood',\n",
       "  'Robin Hood',\n",
       "  \"Welcome to Sherwood! The Story of 'The Adventures of Robin Hood'\",\n",
       "  'The Last of Robin Hood',\n",
       "  'The Story of Robin Hood and His Merrie Men',\n",
       "  'Robin Hood']}"
      ]
     },
     "execution_count": 181,
     "metadata": {},
     "output_type": "execute_result"
    }
   ],
   "source": [
    "recomendacion(\"Robin Hood\")"
   ]
  },
  {
   "cell_type": "markdown",
   "metadata": {},
   "source": []
  },
  {
   "attachments": {},
   "cell_type": "markdown",
   "metadata": {},
   "source": [
    "#### 4-) Sistema de recomendación\n"
   ]
  },
  {
   "cell_type": "code",
   "execution_count": 182,
   "metadata": {},
   "outputs": [],
   "source": [
    "def get_wordnet_pos(word):\n",
    "    \"\"\"Map POS tag to first character lemmatize() accepts\"\"\"\n",
    "    tag = nltk.pos_tag([word])[0][1][0].upper()\n",
    "    tag_dict = {\"J\": wordnet.ADJ,\n",
    "                \"N\": wordnet.NOUN,\n",
    "                \"V\": wordnet.VERB,\n",
    "                \"R\": wordnet.ADV}\n",
    "\n",
    "    return tag_dict.get(tag, wordnet.NOUN)\n",
    "stopwords = nltk.corpus.stopwords.words('english')"
   ]
  },
  {
   "cell_type": "code",
   "execution_count": 183,
   "metadata": {},
   "outputs": [],
   "source": [
    "#Importamos archivos y modelos\n",
    "modelo_entrenado = joblib.load(\"./DataSet/prediccion_rl.pkl\")\n",
    "modelo_entrenado_SVC = joblib.load(\"./DataSet/prediccion_SVC.pkl\")\n",
    "df_predic = pd.read_parquet(\"./DataSet/token.parquet\")"
   ]
  },
  {
   "cell_type": "code",
   "execution_count": 184,
   "metadata": {},
   "outputs": [
    {
     "name": "stdout",
     "output_type": "stream",
     "text": [
      "['toy', 'story']\n"
     ]
    }
   ],
   "source": [
    "def listar_titulo(titulo: str):\n",
    "    # Le vamos aplicando la Normalizacion y luega el Stemming al titulo\n",
    "    palabra = titulo\n",
    "    # Vamos a reemplzar los caracteres que no sean leras por espacios\n",
    "    palabra=re.sub(\"[^a-zA-Z]\",\" \",str(palabra))\n",
    "    # Pasamos todo a minúsculas\n",
    "    palabra=palabra.lower()\n",
    "    # Tokenizamos para separar las palabras del titular\n",
    "    palabra= nltk.word_tokenize(palabra)\n",
    "    # Aplicamos el Lemmatizer (Esto puede tardar un ratito)\n",
    "    frase_lemma = [wordnet_lemmatizer.lemmatize(w, get_wordnet_pos(w)) for w in palabra]\n",
    "    # Eliminamos las palabras de menos de 3 letras\n",
    "    palabra = [palabra for palabra in palabra if len(palabra)>2]\n",
    "    # Sacamos las Stopwords\n",
    "    palabra = [palabra for palabra in palabra if not palabra in stopwords]\n",
    "    # Aplicamos la funcion para buscar la raiz de las palabras\n",
    "    # palabra=[stemmer.stem(palabra) for palabra in palabra]\n",
    "    return palabra\n",
    "\n",
    "print (listar_titulo(\"Toy Story\"))\n"
   ]
  },
  {
   "cell_type": "code",
   "execution_count": 185,
   "metadata": {},
   "outputs": [
    {
     "name": "stdout",
     "output_type": "stream",
     "text": [
      "['toy', 'story']\n",
      "6\n"
     ]
    },
    {
     "data": {
      "text/plain": [
       "['Father of the Bride Part II',\n",
       " 'Tom and Huck',\n",
       " 'Sudden Death',\n",
       " 'Dracula: Dead and Loving It',\n",
       " 'Cutthroat Island']"
      ]
     },
     "execution_count": 185,
     "metadata": {},
     "output_type": "execute_result"
    }
   ],
   "source": [
    "def get_recommendation_lr(titulo: str):\n",
    "    palabra = listar_titulo(titulo)\n",
    "    print(palabra)\n",
    "    keys = list(df_predic.loc[0])\n",
    "    dictionary = {key: 0 for key in keys}\n",
    "    data_set_pred = pd.DataFrame(dictionary, index=[0])\n",
    "\n",
    "    # recorre la lista de palabras y crea la nueva prediccion\n",
    "    for p in palabra:\n",
    "        token = int()\n",
    "        if p in df_predic.columns:\n",
    "            token = df_predic[f\"{p}\"][0]\n",
    "        dictionary[token] = [1]\n",
    "    predicion = pd.DataFrame(dictionary)\n",
    "    pred_puntu = modelo_entrenado.predict(predicion)[0] \n",
    "    dk =  df[\"title\"][df[\"vote_average\"] <= pred_puntu]\n",
    "    print(pred_puntu)\n",
    "    return list(dk.head(5))\n",
    "    \n",
    "#get_recommendation(\"Toy Story\")\n",
    "get_recommendation_lr(\"Toy Story\")\n"
   ]
  },
  {
   "cell_type": "code",
   "execution_count": 186,
   "metadata": {},
   "outputs": [
    {
     "name": "stdout",
     "output_type": "stream",
     "text": [
      "['toy', 'story']\n",
      "6\n"
     ]
    },
    {
     "data": {
      "text/plain": [
       "['Father of the Bride Part II',\n",
       " 'Tom and Huck',\n",
       " 'Sudden Death',\n",
       " 'Dracula: Dead and Loving It',\n",
       " 'Cutthroat Island']"
      ]
     },
     "execution_count": 186,
     "metadata": {},
     "output_type": "execute_result"
    }
   ],
   "source": [
    "def get_recommendationSVC(titulo: str):\n",
    "    palabra = listar_titulo(titulo)\n",
    "    print(palabra)\n",
    "    keys = list(df_predic.loc[0])\n",
    "    dictionary = {key: 0 for key in keys}\n",
    "    data_set_pred = pd.DataFrame(dictionary, index=[0])\n",
    "\n",
    "    # recorre la lista de palabras y crea la nueva prediccion\n",
    "    for p in palabra:\n",
    "        token = int()\n",
    "        if p in df_predic.columns:\n",
    "            token = df_predic[f\"{p}\"][0]\n",
    "        dictionary[token] = [1]\n",
    "    predicion = pd.DataFrame(dictionary)\n",
    "    pred_puntu = modelo_entrenado_SVC.predict(predicion)[0] \n",
    "    dk =  df[\"title\"][df[\"vote_average\"] <= pred_puntu]\n",
    "    print(pred_puntu)\n",
    "    return list(dk.head(5))\n",
    "    \n",
    "#get_recommendation(\"Toy Story\")\n",
    "get_recommendationSVC(\"Toy Story\")"
   ]
  },
  {
   "cell_type": "code",
   "execution_count": 187,
   "metadata": {},
   "outputs": [
    {
     "data": {
      "text/html": [
       "<div>\n",
       "<style scoped>\n",
       "    .dataframe tbody tr th:only-of-type {\n",
       "        vertical-align: middle;\n",
       "    }\n",
       "\n",
       "    .dataframe tbody tr th {\n",
       "        vertical-align: top;\n",
       "    }\n",
       "\n",
       "    .dataframe thead th {\n",
       "        text-align: right;\n",
       "    }\n",
       "</style>\n",
       "<table border=\"1\" class=\"dataframe\">\n",
       "  <thead>\n",
       "    <tr style=\"text-align: right;\">\n",
       "      <th></th>\n",
       "      <th>title</th>\n",
       "      <th>vote_average</th>\n",
       "      <th>title_lemmatizer</th>\n",
       "    </tr>\n",
       "  </thead>\n",
       "  <tbody>\n",
       "    <tr>\n",
       "      <th>0</th>\n",
       "      <td>Toy Story</td>\n",
       "      <td>7</td>\n",
       "      <td>toy stori</td>\n",
       "    </tr>\n",
       "    <tr>\n",
       "      <th>1</th>\n",
       "      <td>Jumanji</td>\n",
       "      <td>6</td>\n",
       "      <td>jumanji</td>\n",
       "    </tr>\n",
       "    <tr>\n",
       "      <th>2</th>\n",
       "      <td>Grumpier Old Men</td>\n",
       "      <td>6</td>\n",
       "      <td>grumpier old men</td>\n",
       "    </tr>\n",
       "    <tr>\n",
       "      <th>3</th>\n",
       "      <td>Waiting to Exhale</td>\n",
       "      <td>6</td>\n",
       "      <td>wait exhal</td>\n",
       "    </tr>\n",
       "    <tr>\n",
       "      <th>4</th>\n",
       "      <td>Father of the Bride Part II</td>\n",
       "      <td>5</td>\n",
       "      <td>father bride part</td>\n",
       "    </tr>\n",
       "  </tbody>\n",
       "</table>\n",
       "</div>"
      ],
      "text/plain": [
       "                         title  vote_average   title_lemmatizer\n",
       "0                    Toy Story             7          toy stori\n",
       "1                      Jumanji             6            jumanji\n",
       "2             Grumpier Old Men             6   grumpier old men\n",
       "3            Waiting to Exhale             6         wait exhal\n",
       "4  Father of the Bride Part II             5  father bride part"
      ]
     },
     "execution_count": 187,
     "metadata": {},
     "output_type": "execute_result"
    }
   ],
   "source": [
    "#Importamos archivos y modelos\n",
    "\n",
    "data_set_EDA = pd.read_parquet(\"./DataSet/data_set_EDA.parquet\")\n",
    "data_set_EDA.head(5)\n"
   ]
  },
  {
   "cell_type": "code",
   "execution_count": 188,
   "metadata": {},
   "outputs": [
    {
     "data": {
      "text/plain": [
       "['The Bride from Hades',\n",
       " 'Kizumonogatari Part 3: Reiketsu',\n",
       " 'We Were Here: Part 1',\n",
       " 'United States of Secrets (Part One): The Program',\n",
       " 'The Godfather: Part II']"
      ]
     },
     "execution_count": 188,
     "metadata": {},
     "output_type": "execute_result"
    }
   ],
   "source": [
    "def get_recommendation(titulo: str):\n",
    "    palabra = listar_titulo(titulo)\n",
    "    plReco = data_set_EDA[[\"title\", \"vote_average\"]][data_set_EDA['title_lemmatizer'].str.contains('|'.join(palabra))].sort_values(\"vote_average\", ascending= False)\n",
    "    lis_peli = list(plReco[\"title\"].head(5)) \n",
    "    \n",
    "    return lis_peli\n",
    "    \n",
    "#get_recommendation(\"Toy Story\")\n",
    "get_recommendation(\"Father of the Bride Part II\")"
   ]
  }
 ],
 "metadata": {
  "kernelspec": {
   "display_name": "Python 3",
   "language": "python",
   "name": "python3"
  },
  "language_info": {
   "codemirror_mode": {
    "name": "ipython",
    "version": 3
   },
   "file_extension": ".py",
   "mimetype": "text/x-python",
   "name": "python",
   "nbconvert_exporter": "python",
   "pygments_lexer": "ipython3",
   "version": "3.11.2"
  },
  "orig_nbformat": 4
 },
 "nbformat": 4,
 "nbformat_minor": 2
}
