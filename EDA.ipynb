{
 "cells": [
  {
   "attachments": {},
   "cell_type": "markdown",
   "metadata": {},
   "source": [
    "# *** EDA Sistema de recomendación  OJO: este modelo me entrega un porcentaje de predicción muy bajo 0.3***"
   ]
  },
  {
   "cell_type": "code",
   "execution_count": 30,
   "metadata": {},
   "outputs": [],
   "source": [
    "import pandas as pd\n",
    "import numpy as np\n",
    "import matplotlib.pyplot as plt\n",
    "import seaborn as sns\n",
    "sns.set()\n",
    "import nltk\n",
    "#import itertools\n",
    "from nltk.stem import PorterStemmer\n",
    "stemmer = PorterStemmer()\n",
    "from nltk.stem import WordNetLemmatizer\n",
    "wordnet_lemmatizer = WordNetLemmatizer()\n",
    "\n",
    "from sklearn.feature_extraction.text import CountVectorizer\n",
    "from sklearn.model_selection import train_test_split\n",
    "from sklearn.metrics import confusion_matrix\n",
    "from sklearn.naive_bayes import GaussianNB\n",
    "from sklearn.ensemble import RandomForestClassifier\n",
    "\n",
    "from nltk.corpus import wordnet\n",
    "\n",
    "#nltk.download('punkt')\n",
    "#nltk.download('stopwords')\n"
   ]
  },
  {
   "cell_type": "code",
   "execution_count": 2,
   "metadata": {},
   "outputs": [],
   "source": [
    "df = pd.read_csv(\"./DataSet/movies_dataset_Para_EDA.csv\")"
   ]
  },
  {
   "cell_type": "code",
   "execution_count": 3,
   "metadata": {},
   "outputs": [
    {
     "data": {
      "text/plain": [
       "title           42388\n",
       "vote_average    42388\n",
       "dtype: int64"
      ]
     },
     "execution_count": 3,
     "metadata": {},
     "output_type": "execute_result"
    }
   ],
   "source": [
    "df.count()"
   ]
  },
  {
   "cell_type": "code",
   "execution_count": 4,
   "metadata": {},
   "outputs": [
    {
     "data": {
      "text/plain": [
       "Index(['title', 'vote_average'], dtype='object')"
      ]
     },
     "execution_count": 4,
     "metadata": {},
     "output_type": "execute_result"
    }
   ],
   "source": [
    "df.columns"
   ]
  },
  {
   "cell_type": "code",
   "execution_count": 5,
   "metadata": {},
   "outputs": [
    {
     "data": {
      "text/html": [
       "<div>\n",
       "<style scoped>\n",
       "    .dataframe tbody tr th:only-of-type {\n",
       "        vertical-align: middle;\n",
       "    }\n",
       "\n",
       "    .dataframe tbody tr th {\n",
       "        vertical-align: top;\n",
       "    }\n",
       "\n",
       "    .dataframe thead th {\n",
       "        text-align: right;\n",
       "    }\n",
       "</style>\n",
       "<table border=\"1\" class=\"dataframe\">\n",
       "  <thead>\n",
       "    <tr style=\"text-align: right;\">\n",
       "      <th></th>\n",
       "      <th>title</th>\n",
       "      <th>vote_average</th>\n",
       "    </tr>\n",
       "  </thead>\n",
       "  <tbody>\n",
       "    <tr>\n",
       "      <th>26213</th>\n",
       "      <td>The Court-Martial of Jackie Robinson</td>\n",
       "      <td>10</td>\n",
       "    </tr>\n",
       "    <tr>\n",
       "      <th>877</th>\n",
       "      <td>The Adventures of Robin Hood</td>\n",
       "      <td>7</td>\n",
       "    </tr>\n",
       "    <tr>\n",
       "      <th>24788</th>\n",
       "      <td>Robin Williams: Weapons of Self Destruction</td>\n",
       "      <td>7</td>\n",
       "    </tr>\n",
       "    <tr>\n",
       "      <th>949</th>\n",
       "      <td>Swiss Family Robinson</td>\n",
       "      <td>7</td>\n",
       "    </tr>\n",
       "    <tr>\n",
       "      <th>40709</th>\n",
       "      <td>Robin Williams: Live on Broadway</td>\n",
       "      <td>7</td>\n",
       "    </tr>\n",
       "  </tbody>\n",
       "</table>\n",
       "</div>"
      ],
      "text/plain": [
       "                                             title  vote_average\n",
       "26213         The Court-Martial of Jackie Robinson            10\n",
       "877                   The Adventures of Robin Hood             7\n",
       "24788  Robin Williams: Weapons of Self Destruction             7\n",
       "949                          Swiss Family Robinson             7\n",
       "40709             Robin Williams: Live on Broadway             7"
      ]
     },
     "execution_count": 5,
     "metadata": {},
     "output_type": "execute_result"
    }
   ],
   "source": [
    "\n",
    "plReco = df[[\"title\", 'vote_average']][df['title'].str.contains(\"Robin\")]\n",
    "plReco = plReco.sort_values(by='vote_average', ascending= False)  \n",
    "plReco.head(5)    "
   ]
  },
  {
   "cell_type": "code",
   "execution_count": 6,
   "metadata": {},
   "outputs": [
    {
     "data": {
      "text/plain": [
       "'Robin Hood'"
      ]
     },
     "execution_count": 6,
     "metadata": {},
     "output_type": "execute_result"
    }
   ],
   "source": [
    "tex = \"robin hood\"\n",
    "tex = tex.title()\n",
    "tex"
   ]
  },
  {
   "cell_type": "code",
   "execution_count": 7,
   "metadata": {},
   "outputs": [],
   "source": [
    "def get_recommendation(titulo: str):\n",
    "    df = pd.read_csv(\"./DataSet/movies_dataset_Para_EDA.csv\")\n",
    "    plReco = df[[\"title\", 'vote_average']][df['title'].str.contains(f\"{titulo.title()}\")]\n",
    "    plReco = plReco.sort_values(by=\"vote_average\", ascending= False)  \n",
    "    return plReco.head(5)"
   ]
  },
  {
   "cell_type": "code",
   "execution_count": 8,
   "metadata": {},
   "outputs": [
    {
     "data": {
      "text/html": [
       "<div>\n",
       "<style scoped>\n",
       "    .dataframe tbody tr th:only-of-type {\n",
       "        vertical-align: middle;\n",
       "    }\n",
       "\n",
       "    .dataframe tbody tr th {\n",
       "        vertical-align: top;\n",
       "    }\n",
       "\n",
       "    .dataframe thead th {\n",
       "        text-align: right;\n",
       "    }\n",
       "</style>\n",
       "<table border=\"1\" class=\"dataframe\">\n",
       "  <thead>\n",
       "    <tr style=\"text-align: right;\">\n",
       "      <th></th>\n",
       "      <th>title</th>\n",
       "      <th>vote_average</th>\n",
       "    </tr>\n",
       "  </thead>\n",
       "  <tbody>\n",
       "    <tr>\n",
       "      <th>26213</th>\n",
       "      <td>The Court-Martial of Jackie Robinson</td>\n",
       "      <td>10</td>\n",
       "    </tr>\n",
       "    <tr>\n",
       "      <th>877</th>\n",
       "      <td>The Adventures of Robin Hood</td>\n",
       "      <td>7</td>\n",
       "    </tr>\n",
       "    <tr>\n",
       "      <th>24788</th>\n",
       "      <td>Robin Williams: Weapons of Self Destruction</td>\n",
       "      <td>7</td>\n",
       "    </tr>\n",
       "    <tr>\n",
       "      <th>949</th>\n",
       "      <td>Swiss Family Robinson</td>\n",
       "      <td>7</td>\n",
       "    </tr>\n",
       "    <tr>\n",
       "      <th>40709</th>\n",
       "      <td>Robin Williams: Live on Broadway</td>\n",
       "      <td>7</td>\n",
       "    </tr>\n",
       "  </tbody>\n",
       "</table>\n",
       "</div>"
      ],
      "text/plain": [
       "                                             title  vote_average\n",
       "26213         The Court-Martial of Jackie Robinson            10\n",
       "877                   The Adventures of Robin Hood             7\n",
       "24788  Robin Williams: Weapons of Self Destruction             7\n",
       "949                          Swiss Family Robinson             7\n",
       "40709             Robin Williams: Live on Broadway             7"
      ]
     },
     "execution_count": 8,
     "metadata": {},
     "output_type": "execute_result"
    }
   ],
   "source": [
    "get_recommendation(\"robin\")"
   ]
  },
  {
   "attachments": {},
   "cell_type": "markdown",
   "metadata": {},
   "source": [
    "## ***1- ANÁLISIS DE COLECCIÓN***"
   ]
  },
  {
   "cell_type": "code",
   "execution_count": 9,
   "metadata": {},
   "outputs": [
    {
     "data": {
      "image/png": "[encoded data removed]",
      "text/plain": [
       "<Figure size 640x480 with 1 Axes>"
      ]
     },
     "metadata": {},
     "output_type": "display_data"
    }
   ],
   "source": [
    "sns.countplot(x= \"vote_average\", data = df )\n",
    "plt.show()"
   ]
  },
  {
   "attachments": {},
   "cell_type": "markdown",
   "metadata": {},
   "source": [
    "***"
   ]
  },
  {
   "attachments": {},
   "cell_type": "markdown",
   "metadata": {},
   "source": [
    "***"
   ]
  },
  {
   "attachments": {},
   "cell_type": "markdown",
   "metadata": {},
   "source": [
    "***"
   ]
  },
  {
   "cell_type": "code",
   "execution_count": 10,
   "metadata": {},
   "outputs": [
    {
     "data": {
      "text/html": [
       "<div>\n",
       "<style scoped>\n",
       "    .dataframe tbody tr th:only-of-type {\n",
       "        vertical-align: middle;\n",
       "    }\n",
       "\n",
       "    .dataframe tbody tr th {\n",
       "        vertical-align: top;\n",
       "    }\n",
       "\n",
       "    .dataframe thead th {\n",
       "        text-align: right;\n",
       "    }\n",
       "</style>\n",
       "<table border=\"1\" class=\"dataframe\">\n",
       "  <thead>\n",
       "    <tr style=\"text-align: right;\">\n",
       "      <th></th>\n",
       "      <th>title</th>\n",
       "      <th>vote_average</th>\n",
       "    </tr>\n",
       "  </thead>\n",
       "  <tbody>\n",
       "    <tr>\n",
       "      <th>0</th>\n",
       "      <td>Toy Story</td>\n",
       "      <td>7</td>\n",
       "    </tr>\n",
       "    <tr>\n",
       "      <th>1</th>\n",
       "      <td>Jumanji</td>\n",
       "      <td>6</td>\n",
       "    </tr>\n",
       "    <tr>\n",
       "      <th>2</th>\n",
       "      <td>Grumpier Old Men</td>\n",
       "      <td>6</td>\n",
       "    </tr>\n",
       "    <tr>\n",
       "      <th>3</th>\n",
       "      <td>Waiting to Exhale</td>\n",
       "      <td>6</td>\n",
       "    </tr>\n",
       "    <tr>\n",
       "      <th>4</th>\n",
       "      <td>Father of the Bride Part II</td>\n",
       "      <td>5</td>\n",
       "    </tr>\n",
       "  </tbody>\n",
       "</table>\n",
       "</div>"
      ],
      "text/plain": [
       "                         title  vote_average\n",
       "0                    Toy Story             7\n",
       "1                      Jumanji             6\n",
       "2             Grumpier Old Men             6\n",
       "3            Waiting to Exhale             6\n",
       "4  Father of the Bride Part II             5"
      ]
     },
     "execution_count": 10,
     "metadata": {},
     "output_type": "execute_result"
    }
   ],
   "source": [
    "df.head()"
   ]
  },
  {
   "cell_type": "code",
   "execution_count": 11,
   "metadata": {},
   "outputs": [
    {
     "data": {
      "text/plain": [
       "(42388, 2)"
      ]
     },
     "execution_count": 11,
     "metadata": {},
     "output_type": "execute_result"
    }
   ],
   "source": [
    "df.shape"
   ]
  },
  {
   "cell_type": "code",
   "execution_count": 12,
   "metadata": {},
   "outputs": [
    {
     "data": {
      "image/png": "[encoded data removed]",
      "text/plain": [
       "<Figure size 640x480 with 1 Axes>"
      ]
     },
     "metadata": {},
     "output_type": "display_data"
    }
   ],
   "source": [
    "sns.countplot(x= \"vote_average\", data = df )\n",
    "plt.show()"
   ]
  },
  {
   "attachments": {},
   "cell_type": "markdown",
   "metadata": {},
   "source": [
    "## ***2- Exploración de datos***"
   ]
  },
  {
   "cell_type": "code",
   "execution_count": 13,
   "metadata": {},
   "outputs": [
    {
     "name": "stdout",
     "output_type": "stream",
     "text": [
      "19777 The Land\n"
     ]
    }
   ],
   "source": [
    "index_random_titulo_pelicula = np.random.randint(0, high= df.shape[0])\n",
    "titulo_pelicula = df.iloc[index_random_titulo_pelicula].title\n",
    "print(index_random_titulo_pelicula, titulo_pelicula)"
   ]
  },
  {
   "cell_type": "code",
   "execution_count": 14,
   "metadata": {},
   "outputs": [
    {
     "name": "stdout",
     "output_type": "stream",
     "text": [
      "19777 9\n"
     ]
    }
   ],
   "source": [
    "print(index_random_titulo_pelicula, df.iloc[index_random_titulo_pelicula].vote_average)"
   ]
  },
  {
   "attachments": {},
   "cell_type": "markdown",
   "metadata": {},
   "source": [
    "## ***3- NLTK***"
   ]
  },
  {
   "cell_type": "code",
   "execution_count": 15,
   "metadata": {},
   "outputs": [
    {
     "data": {
      "text/plain": [
       "['The', 'Land']"
      ]
     },
     "execution_count": 15,
     "metadata": {},
     "output_type": "execute_result"
    }
   ],
   "source": [
    "## Tokenizr por palabras\n",
    "titulo_wk = nltk.tokenize.word_tokenize(titulo_pelicula)\n",
    "titulo_wk"
   ]
  },
  {
   "cell_type": "code",
   "execution_count": 16,
   "metadata": {},
   "outputs": [
    {
     "data": {
      "text/plain": [
       "'  el    día    de    ayer    fue    el    día    más    lluvioso    del    año    !    !       '"
      ]
     },
     "execution_count": 16,
     "metadata": {},
     "output_type": "execute_result"
    }
   ],
   "source": [
    "## re Exprecion regular \n",
    "import re\n",
    "titular_wt = nltk.tokenize.word_tokenize(\"El día de ayer fue el día más lluvioso del año!!.\".lower())\n",
    "re.sub(\"[^a-zA-Z!ñíá]\",\" \",str(titular_wt))"
   ]
  },
  {
   "attachments": {},
   "cell_type": "markdown",
   "metadata": {},
   "source": [
    "### Normalizar"
   ]
  },
  {
   "cell_type": "code",
   "execution_count": 17,
   "metadata": {},
   "outputs": [],
   "source": [
    "# Diccionario de palabras inutilies en ingles es 'english' en español es 'apanish'\n",
    "stopwords = nltk.corpus.stopwords.words('english')\n",
    "stopwords = [palabra for palabra in stopwords if 'not' not in palabra]\n",
    "stopwords\n",
    "stopwords.append(\":\") # agregar una palabra inútil\n",
    "filtrar = []\n",
    "if True:\n",
    "    filtrar.append(\"u\")\n",
    "    filtrar.append(\"new\")"
   ]
  },
  {
   "cell_type": "code",
   "execution_count": 802,
   "metadata": {},
   "outputs": [
    {
     "data": {
      "text/plain": [
       "['Next', 'Year', 'If', 'All', 'Goes', 'Well']"
      ]
     },
     "execution_count": 802,
     "metadata": {},
     "output_type": "execute_result"
    }
   ],
   "source": [
    "titulo_wk"
   ]
  },
  {
   "cell_type": "code",
   "execution_count": 18,
   "metadata": {},
   "outputs": [
    {
     "data": {
      "text/plain": [
       "['The', 'Land']"
      ]
     },
     "execution_count": 18,
     "metadata": {},
     "output_type": "execute_result"
    }
   ],
   "source": [
    "# Eliminar palabras inútiles\n",
    "titulo_wk_sin_sw = [word for word in titulo_wk if word not in stopwords]\n",
    "titulo_wk_sin_sw"
   ]
  },
  {
   "cell_type": "code",
   "execution_count": 19,
   "metadata": {},
   "outputs": [
    {
     "data": {
      "text/plain": [
       "['The', 'Land']"
      ]
     },
     "execution_count": 19,
     "metadata": {},
     "output_type": "execute_result"
    }
   ],
   "source": [
    "titulo_wk = nltk.tokenize.word_tokenize(titulo_pelicula)\n",
    "titulo_wk"
   ]
  },
  {
   "attachments": {},
   "cell_type": "markdown",
   "metadata": {},
   "source": [
    "***"
   ]
  },
  {
   "attachments": {},
   "cell_type": "markdown",
   "metadata": {},
   "source": [
    "***"
   ]
  },
  {
   "attachments": {},
   "cell_type": "markdown",
   "metadata": {},
   "source": [
    "***"
   ]
  },
  {
   "attachments": {},
   "cell_type": "markdown",
   "metadata": {},
   "source": [
    "### Convertimos los títulos en listas de palabras Mayores de 7"
   ]
  },
  {
   "attachments": {},
   "cell_type": "markdown",
   "metadata": {},
   "source": [
    "stopwords = nltk.corpus.stopwords.words('english')\n",
    "stopwords = [palabra for palabra in stopwords if 'not' not in palabra]\n",
    "stopwords\n",
    "stopwords.append(\"-\")\n",
    "filtrar = []\n",
    "if True:\n",
    "    filtrar.append(\"u\")\n",
    "    filtrar.append(\"new\")"
   ]
  },
  {
   "attachments": {},
   "cell_type": "markdown",
   "metadata": {},
   "source": [
    "# mascara\n",
    "df_vote_average_mayores_7 = df[df.vote_average >= 7]\n",
    "df_vote_average_mayores_7.head()"
   ]
  },
  {
   "attachments": {},
   "cell_type": "markdown",
   "metadata": {},
   "source": [
    "todos_titulos_vote_average_mayores_7 = []\n",
    "for i in range(df_vote_average_mayores_7.shape[0]):\n",
    "    titulo = df_vote_average_mayores_7.iloc[i].title\n",
    "    titulo = re.sub(\"[^a-zA-Z!ñíá]\",\" \",str(titulo)).lower()\n",
    "    titulo = nltk.tokenize.RegexpTokenizer(\"[\\w]+\").tokenize(titulo)\n",
    "    titulo = [word for word in titulo if word not in stopwords]\n",
    "    titulo = [word for word in titulo if word not in filtrar]\n",
    "\n",
    "    todos_titulos_vote_average_mayores_7.append(titulo)"
   ]
  },
  {
   "attachments": {},
   "cell_type": "markdown",
   "metadata": {},
   "source": [
    "todos_titulos_vote_average_mayores_7 = list(itertools.chain(*todos_titulos_vote_average_mayores_7))"
   ]
  },
  {
   "attachments": {},
   "cell_type": "markdown",
   "metadata": {},
   "source": [
    "# mostramos la palabras mas repetidas\n",
    "freq_vote_average_mayores_7 = nltk.FreqDist(todos_titulos_vote_average_mayores_7)\n",
    "freq_vote_average_mayores_7"
   ]
  },
  {
   "attachments": {},
   "cell_type": "markdown",
   "metadata": {},
   "source": [
    "# Creamos un DataFrame con la frecuencia de las palabras\n",
    "df_vote_average_mayores_7 = pd.DataFrame(list(freq_vote_average_mayores_7.items()), columns= [\"Palabras\", \"Frecuencia\"])\n",
    "df_vote_average_mayores_7.sort_values(\"Frecuencia\", ascending= False, inplace= True)\n",
    "df_vote_average_mayores_7.head()"
   ]
  },
  {
   "attachments": {},
   "cell_type": "markdown",
   "metadata": {},
   "source": [
    "df_vote_average_mayores_7.shape"
   ]
  },
  {
   "attachments": {},
   "cell_type": "markdown",
   "metadata": {},
   "source": [
    "https://www.students.soyhenry.com/classes/108?cohortId=116&videoOrdinal=2\n",
    "31:16"
   ]
  },
  {
   "attachments": {},
   "cell_type": "markdown",
   "metadata": {},
   "source": [
    "***"
   ]
  },
  {
   "attachments": {},
   "cell_type": "markdown",
   "metadata": {},
   "source": [
    "***"
   ]
  },
  {
   "attachments": {},
   "cell_type": "markdown",
   "metadata": {},
   "source": [
    "***"
   ]
  },
  {
   "attachments": {},
   "cell_type": "markdown",
   "metadata": {},
   "source": [
    "# 4. Stemming => palabra raiz"
   ]
  },
  {
   "cell_type": "code",
   "execution_count": 20,
   "metadata": {},
   "outputs": [],
   "source": [
    "\n",
    "\n",
    "def get_wordnet_pos(word):\n",
    "    \"\"\"Map POS tag to first character lemmatize() accepts\"\"\"\n",
    "    tag = nltk.pos_tag([word])[0][1][0].upper()\n",
    "    tag_dict = {\"J\": wordnet.ADJ,\n",
    "                \"N\": wordnet.NOUN,\n",
    "                \"V\": wordnet.VERB,\n",
    "                \"R\": wordnet.ADV}\n",
    "\n",
    "    return tag_dict.get(tag, wordnet.NOUN)"
   ]
  },
  {
   "cell_type": "code",
   "execution_count": 21,
   "metadata": {},
   "outputs": [],
   "source": [
    "df = pd.read_csv(\"./DataSet/movies_dataset_Para_EDA.csv\")\n"
   ]
  },
  {
   "cell_type": "code",
   "execution_count": 22,
   "metadata": {},
   "outputs": [
    {
     "data": {
      "text/html": [
       "<div>\n",
       "<style scoped>\n",
       "    .dataframe tbody tr th:only-of-type {\n",
       "        vertical-align: middle;\n",
       "    }\n",
       "\n",
       "    .dataframe tbody tr th {\n",
       "        vertical-align: top;\n",
       "    }\n",
       "\n",
       "    .dataframe thead th {\n",
       "        text-align: right;\n",
       "    }\n",
       "</style>\n",
       "<table border=\"1\" class=\"dataframe\">\n",
       "  <thead>\n",
       "    <tr style=\"text-align: right;\">\n",
       "      <th></th>\n",
       "      <th>title</th>\n",
       "      <th>vote_average</th>\n",
       "    </tr>\n",
       "  </thead>\n",
       "  <tbody>\n",
       "    <tr>\n",
       "      <th>0</th>\n",
       "      <td>Toy Story</td>\n",
       "      <td>7</td>\n",
       "    </tr>\n",
       "    <tr>\n",
       "      <th>1</th>\n",
       "      <td>Jumanji</td>\n",
       "      <td>6</td>\n",
       "    </tr>\n",
       "    <tr>\n",
       "      <th>2</th>\n",
       "      <td>Grumpier Old Men</td>\n",
       "      <td>6</td>\n",
       "    </tr>\n",
       "    <tr>\n",
       "      <th>3</th>\n",
       "      <td>Waiting to Exhale</td>\n",
       "      <td>6</td>\n",
       "    </tr>\n",
       "    <tr>\n",
       "      <th>4</th>\n",
       "      <td>Father of the Bride Part II</td>\n",
       "      <td>5</td>\n",
       "    </tr>\n",
       "    <tr>\n",
       "      <th>...</th>\n",
       "      <td>...</td>\n",
       "      <td>...</td>\n",
       "    </tr>\n",
       "    <tr>\n",
       "      <th>42383</th>\n",
       "      <td>The Burkittsville 7</td>\n",
       "      <td>7</td>\n",
       "    </tr>\n",
       "    <tr>\n",
       "      <th>42384</th>\n",
       "      <td>Caged Heat 3000</td>\n",
       "      <td>3</td>\n",
       "    </tr>\n",
       "    <tr>\n",
       "      <th>42385</th>\n",
       "      <td>Robin Hood</td>\n",
       "      <td>5</td>\n",
       "    </tr>\n",
       "    <tr>\n",
       "      <th>42386</th>\n",
       "      <td>Century of Birthing</td>\n",
       "      <td>9</td>\n",
       "    </tr>\n",
       "    <tr>\n",
       "      <th>42387</th>\n",
       "      <td>Betrayal</td>\n",
       "      <td>3</td>\n",
       "    </tr>\n",
       "  </tbody>\n",
       "</table>\n",
       "<p>42388 rows × 2 columns</p>\n",
       "</div>"
      ],
      "text/plain": [
       "                             title  vote_average\n",
       "0                        Toy Story             7\n",
       "1                          Jumanji             6\n",
       "2                 Grumpier Old Men             6\n",
       "3                Waiting to Exhale             6\n",
       "4      Father of the Bride Part II             5\n",
       "...                            ...           ...\n",
       "42383          The Burkittsville 7             7\n",
       "42384              Caged Heat 3000             3\n",
       "42385                   Robin Hood             5\n",
       "42386          Century of Birthing             9\n",
       "42387                     Betrayal             3\n",
       "\n",
       "[42388 rows x 2 columns]"
      ]
     },
     "execution_count": 22,
     "metadata": {},
     "output_type": "execute_result"
    }
   ],
   "source": [
    "df"
   ]
  },
  {
   "cell_type": "code",
   "execution_count": 23,
   "metadata": {},
   "outputs": [],
   "source": [
    "# Normalizamos el texto\n",
    "\n",
    "stopwords = nltk.corpus.stopwords.words('english')\n"
   ]
  },
  {
   "cell_type": "code",
   "execution_count": 31,
   "metadata": {},
   "outputs": [],
   "source": [
    "# Recorremos todos los titulos y le vamos aplicando la Normalizacion y luega el Stemming a cada uno\n",
    "titulo_list=[]\n",
    "for titulo in df.title:\n",
    "    # Vamos a reemplzar los caracteres que no sean leras por espacios\n",
    "    titulo=re.sub(\"[^a-zA-Z]\",\" \",str(titulo))\n",
    "    # Pasamos todo a minúsculas\n",
    "    titulo=titulo.lower()\n",
    "    # Tokenizamos para separar las palabras del titular\n",
    "    titulo=nltk.word_tokenize(titulo)\n",
    "\n",
    "    # Aplicamos el Lemmatizer (Esto puede tardar un ratito)\n",
    "    frase_lemma = [wordnet_lemmatizer.lemmatize(w, get_wordnet_pos(w)) for w in titulo]\n",
    "\n",
    "\n",
    "    # Eliminamos las palabras de menos de 3 letras\n",
    "    titulo = [palabra for palabra in titulo if len(palabra)>2]\n",
    "    # Sacamos las Stopwords\n",
    "    titulo = [palabra for palabra in titulo if not palabra in stopwords]\n",
    "    \n",
    "    ## Hasta acá Normalizamos, ahora a stemmizar\n",
    "    \n",
    "    # Aplicamos la funcion para buscar la raiz de las palabras\n",
    "    titulo=[stemmer.stem(palabra) for palabra in titulo]\n",
    "    # Por ultimo volvemos a unir el titular\n",
    "    titulo=\" \".join(titulo)\n",
    "    \n",
    "    # Vamos armando una lista con todos los titulares\n",
    "    titulo_list.append(titulo)\n",
    "    #dataset[\"titular_normalizado\"] = titular_list"
   ]
  },
  {
   "cell_type": "code",
   "execution_count": 32,
   "metadata": {},
   "outputs": [
    {
     "data": {
      "text/plain": [
       "['toy stori',\n",
       " 'jumanji',\n",
       " 'grumpier old men',\n",
       " 'wait exhal',\n",
       " 'father bride part',\n",
       " 'heat',\n",
       " 'sabrina',\n",
       " 'tom huck',\n",
       " 'sudden death',\n",
       " 'goldeney',\n",
       " 'american presid',\n",
       " 'dracula dead love',\n",
       " 'balto',\n",
       " 'nixon',\n",
       " 'cutthroat island',\n",
       " 'casino',\n",
       " 'sens sensibl',\n",
       " 'four room',\n",
       " 'ace ventura natur call',\n",
       " 'money train',\n",
       " 'get shorti',\n",
       " 'copycat',\n",
       " 'assassin',\n",
       " 'powder',\n",
       " 'leav la vega',\n",
       " 'othello',\n",
       " '',\n",
       " 'persuas',\n",
       " 'citi lost children',\n",
       " 'shanghai triad',\n",
       " 'danger mind',\n",
       " 'twelv monkey',\n",
       " 'wing courag',\n",
       " 'babe',\n",
       " 'carrington',\n",
       " 'dead man walk',\n",
       " 'across sea time',\n",
       " 'take two',\n",
       " 'clueless',\n",
       " 'cri belov countri',\n",
       " 'richard iii',\n",
       " 'dead presid',\n",
       " 'restor',\n",
       " 'mortal kombat',\n",
       " 'die',\n",
       " 'make american quilt',\n",
       " '',\n",
       " 'pocahonta',\n",
       " 'night fall',\n",
       " 'usual suspect',\n",
       " 'guardian angel',\n",
       " 'mighti aphrodit',\n",
       " 'lamerica',\n",
       " 'big green',\n",
       " 'georgia',\n",
       " 'kid round tabl',\n",
       " 'home holiday',\n",
       " 'postman',\n",
       " 'confession',\n",
       " 'indian cupboard',\n",
       " 'eye eye',\n",
       " 'holland opu',\n",
       " 'menac south central drink juic hood',\n",
       " 'two sea',\n",
       " 'bio dome',\n",
       " 'lawnmow man beyond cyberspac',\n",
       " 'two bit',\n",
       " 'french twist',\n",
       " 'friday',\n",
       " 'dusk till dawn',\n",
       " 'fair game',\n",
       " 'kick scream',\n",
       " 'le miser',\n",
       " 'bed rose',\n",
       " 'big bulli',\n",
       " 'screamer',\n",
       " 'nico icon',\n",
       " 'cross guard',\n",
       " 'juror',\n",
       " 'white balloon',\n",
       " 'thing denver dead',\n",
       " 'antonia line',\n",
       " 'upon time color',\n",
       " 'angel insect',\n",
       " 'white squall',\n",
       " 'dunston check',\n",
       " 'black sheep',\n",
       " 'nick time',\n",
       " 'journey august king',\n",
       " 'mari reilli',\n",
       " 'vampir brooklyn',\n",
       " 'beauti girl',\n",
       " 'broken arrow',\n",
       " 'midwint tale',\n",
       " 'hain',\n",
       " 'shop',\n",
       " 'heidi fleiss hollywood madam',\n",
       " 'citi hall',\n",
       " 'bottl rocket',\n",
       " 'wrong',\n",
       " 'unforgett',\n",
       " 'happi gilmor',\n",
       " 'bridg madison counti',\n",
       " 'nobodi love',\n",
       " 'muppet treasur island',\n",
       " 'catwalk',\n",
       " 'braveheart',\n",
       " 'taxi driver',\n",
       " 'rumbl bronx',\n",
       " '',\n",
       " 'margaret museum',\n",
       " 'happi field',\n",
       " 'ann frank rememb',\n",
       " 'young poison handbook',\n",
       " 'luci fell',\n",
       " 'steal big steal littl',\n",
       " 'race sun',\n",
       " 'boy vincent',\n",
       " 'boomerang',\n",
       " 'chungk express',\n",
       " 'star maker',\n",
       " 'flirt disast',\n",
       " 'neverend stori iii escap fantasia',\n",
       " 'silenc palac',\n",
       " 'pie sky',\n",
       " 'angela',\n",
       " 'franki starlight',\n",
       " 'jade',\n",
       " 'nueba yol',\n",
       " 'periscop',\n",
       " 'journal jean seberg',\n",
       " 'man year',\n",
       " 'neon bibl',\n",
       " 'close person',\n",
       " 'birdcag',\n",
       " 'virgin mari',\n",
       " 'brother mcmullen',\n",
       " 'bad boy',\n",
       " 'amaz panda adventur',\n",
       " 'basketbal diari',\n",
       " 'aw big adventur',\n",
       " 'amateur',\n",
       " 'apollo',\n",
       " 'rob roy',\n",
       " 'addict',\n",
       " 'batman forev',\n",
       " 'bell jour',\n",
       " 'beyond rangoon',\n",
       " 'blue face',\n",
       " 'canadian bacon',\n",
       " 'casper',\n",
       " 'clocker',\n",
       " 'congo',\n",
       " 'crimson tide',\n",
       " 'crumb',\n",
       " 'desperado',\n",
       " 'devil blue dress',\n",
       " 'die hard vengeanc',\n",
       " 'doom gener',\n",
       " 'first knight',\n",
       " 'free willi adventur home',\n",
       " 'hacker',\n",
       " 'jeffrey',\n",
       " 'johnni mnemon',\n",
       " 'judg dredd',\n",
       " 'juri duti',\n",
       " 'kid',\n",
       " 'live oblivion',\n",
       " 'lord illus',\n",
       " 'love human remain',\n",
       " 'mad love',\n",
       " 'mallrat',\n",
       " 'mighti morphin power ranger movi',\n",
       " 'moonlight valentino',\n",
       " 'mute wit',\n",
       " 'nadja',\n",
       " 'net',\n",
       " 'nine month',\n",
       " 'parti girl',\n",
       " 'propheci',\n",
       " 'reckless',\n",
       " 'safe',\n",
       " 'scarlet letter',\n",
       " 'show',\n",
       " 'showgirl',\n",
       " 'smoke',\n",
       " 'someth talk',\n",
       " 'speci',\n",
       " 'star fell henrietta',\n",
       " 'strang day',\n",
       " 'umbrella cherbourg',\n",
       " 'tie bind',\n",
       " 'three wish',\n",
       " 'total eclips',\n",
       " 'wong foo thank everyth juli newmar',\n",
       " 'sieg dark territori',\n",
       " 'unstrung hero',\n",
       " 'unzip',\n",
       " 'walk cloud',\n",
       " 'waterworld',\n",
       " 'white man burden',\n",
       " 'wild bill',\n",
       " 'brown version',\n",
       " 'bushwhack',\n",
       " 'burnt sun',\n",
       " 'rain',\n",
       " 'sunris',\n",
       " 'billi madison',\n",
       " 'babysitt',\n",
       " 'boy side',\n",
       " 'cure',\n",
       " 'castl freak',\n",
       " 'circl friend',\n",
       " 'clerk',\n",
       " 'juan demarco',\n",
       " 'disclosur',\n",
       " 'dream man',\n",
       " 'drop zone',\n",
       " 'destini turn radio',\n",
       " 'death maiden',\n",
       " 'dolor claiborn',\n",
       " 'dumb dumber',\n",
       " 'eat drink man woman',\n",
       " 'exotica',\n",
       " 'exit eden',\n",
       " 'wood',\n",
       " 'french kiss',\n",
       " 'forget pari',\n",
       " 'far home adventur yellow dog',\n",
       " 'goofi movi',\n",
       " 'hideaway',\n",
       " 'fluke',\n",
       " 'farinelli',\n",
       " 'gordi',\n",
       " 'gumbi movi',\n",
       " 'glass shield',\n",
       " 'hoop dream',\n",
       " 'heavenli creatur',\n",
       " 'houseguest',\n",
       " 'immort belov',\n",
       " 'heavyweight',\n",
       " 'hunt',\n",
       " '',\n",
       " 'interview vampir',\n",
       " 'jefferson pari',\n",
       " 'jerki boy',\n",
       " 'junior',\n",
       " 'caus',\n",
       " 'kid king arthur court',\n",
       " 'kiss death',\n",
       " 'star war',\n",
       " 'littl women',\n",
       " 'littl princess',\n",
       " 'ladybird ladybird',\n",
       " 'enfer',\n",
       " 'like water chocol',\n",
       " 'legend fall',\n",
       " 'major payn',\n",
       " 'littl odessa',\n",
       " 'vida loca',\n",
       " 'love affair',\n",
       " 'lose isaiah',\n",
       " 'mad king georg',\n",
       " 'mari shelley frankenstein',\n",
       " 'man hous',\n",
       " 'mix nut',\n",
       " 'milk money',\n",
       " 'miracl street',\n",
       " 'miami rhapsodi',\n",
       " 'famili',\n",
       " 'murder first',\n",
       " 'nobodi fool',\n",
       " 'nell',\n",
       " 'new jersey drive',\n",
       " 'beyond bedlam',\n",
       " 'nemesi nebula',\n",
       " 'nina take lover',\n",
       " 'natur born killer',\n",
       " '',\n",
       " 'warrior',\n",
       " 'poison ivi lili',\n",
       " 'outbreak',\n",
       " 'leon profession',\n",
       " 'perez famili',\n",
       " 'pyromaniac love stori',\n",
       " 'pulp fiction',\n",
       " 'panther',\n",
       " 'push hand',\n",
       " 'priest',\n",
       " 'quiz show',\n",
       " 'pictur bride',\n",
       " 'queen margot',\n",
       " 'quick dead',\n",
       " 'roommat',\n",
       " 'porter',\n",
       " 'three color red',\n",
       " 'three color blue',\n",
       " 'three color white',\n",
       " 'red firecrack green firecrack',\n",
       " 'rent kid',\n",
       " 'rel fear',\n",
       " 'stuart save famili',\n",
       " 'swan princess',\n",
       " 'secret roan inish',\n",
       " 'specialist',\n",
       " 'stargat',\n",
       " 'santa claus',\n",
       " 'shawshank redempt',\n",
       " 'shallow grave',\n",
       " 'sutur',\n",
       " 'strawberri chocol',\n",
       " 'swim shark',\n",
       " 'sum',\n",
       " 'senior trip',\n",
       " 'live',\n",
       " 'tank girl',\n",
       " 'tale crypt demon knight',\n",
       " 'star trek gener',\n",
       " 'tale hood',\n",
       " 'tom viv',\n",
       " 'villag damn',\n",
       " 'tommi boy',\n",
       " 'vanya street',\n",
       " 'underneath',\n",
       " 'walk dead',\n",
       " 'eat gilbert grape',\n",
       " 'virtuos',\n",
       " 'sleep',\n",
       " 'war',\n",
       " 'doubl happi',\n",
       " 'muriel wed',\n",
       " 'babi sitter club',\n",
       " 'ace ventura pet detect',\n",
       " 'adventur priscilla queen desert',\n",
       " 'backbeat',\n",
       " 'bitter moon',\n",
       " 'bullet broadway',\n",
       " 'clear present danger',\n",
       " 'client',\n",
       " 'corrina corrina',\n",
       " 'crooklyn',\n",
       " 'crow',\n",
       " 'cobb',\n",
       " 'flintston',\n",
       " 'forrest gump',\n",
       " 'four wed funer',\n",
       " 'higher learn',\n",
       " 'like like',\n",
       " 'love troubl',\n",
       " 'could happen',\n",
       " 'jungl book',\n",
       " 'wonder horribl life leni riefenstahl',\n",
       " 'lion king',\n",
       " 'littl buddha',\n",
       " 'new nightmar',\n",
       " 'mask',\n",
       " 'maverick',\n",
       " 'mr parker viciou circl',\n",
       " 'nake gun final insult',\n",
       " 'paper',\n",
       " 'realiti bite',\n",
       " 'red rock west',\n",
       " 'hie',\n",
       " 'safe passag',\n",
       " 'river wild',\n",
       " 'speed',\n",
       " 'speechless',\n",
       " 'timecop',\n",
       " 'true lie',\n",
       " 'man love woman',\n",
       " 'wolf',\n",
       " 'wyatt earp',\n",
       " 'bad compani',\n",
       " 'man import',\n",
       " '',\n",
       " 'low dirti shame',\n",
       " 'boy life three stori love lust liber',\n",
       " 'colonel chabert',\n",
       " 'faster pussycat kill kill',\n",
       " 'jason lyric',\n",
       " 'secret adventur tom thumb',\n",
       " 'street fighter',\n",
       " 'coldblood',\n",
       " 'fall time',\n",
       " 'fear',\n",
       " 'frank olli',\n",
       " 'girl cadillac',\n",
       " 'mirag',\n",
       " 'do mene',\n",
       " 'brother minist assassin malcolm',\n",
       " 'highland final dimens',\n",
       " 'feder hill',\n",
       " 'mouth mad',\n",
       " 'second',\n",
       " 'rim',\n",
       " 'addam famili valu',\n",
       " 'martin lawrenc crazi',\n",
       " 'age innoc',\n",
       " 'airhead',\n",
       " 'air',\n",
       " 'anoth stakeout',\n",
       " 'bad girl',\n",
       " 'barcelona',\n",
       " 'human',\n",
       " 'beverli hillbilli',\n",
       " 'beverli hill cop iii',\n",
       " 'black beauti',\n",
       " 'blink',\n",
       " 'blown away',\n",
       " 'blue chip',\n",
       " 'blue sky',\n",
       " 'bodi snatcher',\n",
       " 'box helena',\n",
       " 'bronx tale',\n",
       " 'cabin boy',\n",
       " 'calendar girl',\n",
       " 'carlito way',\n",
       " 'citi slicker legend curli gold',\n",
       " 'clean slate',\n",
       " 'cliffhang',\n",
       " 'conehead',\n",
       " 'color night',\n",
       " 'cop robberson',\n",
       " 'cowboy way',\n",
       " 'danger game',\n",
       " 'dave',\n",
       " 'daze confus',\n",
       " 'demolit man',\n",
       " 'endless summer',\n",
       " 'even cowgirl get blue',\n",
       " 'fatal instinct',\n",
       " 'farewel concubin',\n",
       " 'favor',\n",
       " 'fearless',\n",
       " 'fear black hat',\n",
       " 'honor',\n",
       " 'flesh bone',\n",
       " 'widow peak',\n",
       " 'love money',\n",
       " 'firm',\n",
       " 'free willi',\n",
       " 'fresh',\n",
       " 'fugit',\n",
       " 'geronimo american legend',\n",
       " 'getaway',\n",
       " 'get even dad',\n",
       " 'fish',\n",
       " 'good man africa',\n",
       " 'guilti sin',\n",
       " 'hard target',\n",
       " 'heaven earth',\n",
       " 'hot shot part deux',\n",
       " 'live nude girl',\n",
       " 'englishman went hill came mountain',\n",
       " 'hous spirit',\n",
       " 'hous parti',\n",
       " 'hudsuck proxi',\n",
       " 'anyth',\n",
       " 'armi',\n",
       " 'line fire',\n",
       " 'name father',\n",
       " 'inkwel',\n",
       " 'love got',\n",
       " 'jimmi hollywood',\n",
       " 'judgment night',\n",
       " 'jurass park',\n",
       " 'kalifornia',\n",
       " 'kill zoe',\n",
       " 'king hill',\n",
       " 'lassi',\n",
       " 'last action hero',\n",
       " 'life mikey',\n",
       " 'lightn jack',\n",
       " 'butterfli',\n",
       " 'made america',\n",
       " 'malic',\n",
       " 'man without face',\n",
       " 'manhattan murder mysteri',\n",
       " 'menac societi',\n",
       " 'execut decis',\n",
       " 'realm sens',\n",
       " 'happen',\n",
       " 'much ado noth',\n",
       " 'jone',\n",
       " 'wonder',\n",
       " 'mr doubtfir',\n",
       " 'nake',\n",
       " 'next karat kid',\n",
       " 'new age',\n",
       " 'escap',\n",
       " 'north',\n",
       " 'orlando',\n",
       " 'perfect world',\n",
       " 'philadelphia',\n",
       " 'piano',\n",
       " 'poetic justic',\n",
       " 'program',\n",
       " 'puppet master',\n",
       " 'radioland murder',\n",
       " 'ref',\n",
       " 'remain day',\n",
       " 'renaiss man',\n",
       " 'rise sun',\n",
       " 'road wellvil',\n",
       " 'robocop',\n",
       " 'robin hood men tight',\n",
       " 'romeo bleed',\n",
       " 'romper stomper',\n",
       " 'rubi paradis',\n",
       " 'rudi',\n",
       " 'saint fort washington',\n",
       " 'savag night',\n",
       " 'schindler list',\n",
       " 'scout',\n",
       " 'search bobbi fischer',\n",
       " 'second best',\n",
       " 'secret garden',\n",
       " 'serial mom',\n",
       " 'shadow',\n",
       " 'shadowland',\n",
       " 'short cut',\n",
       " 'simpl twist fate',\n",
       " 'siren',\n",
       " 'six degre separ',\n",
       " 'sleepless seattl',\n",
       " 'sliver',\n",
       " 'blade runner',\n",
       " 'son law',\n",
       " 'marri axe murder',\n",
       " 'strike distanc',\n",
       " 'harem',\n",
       " 'super mario bro',\n",
       " 'surviv game',\n",
       " 'termin veloc',\n",
       " 'thirti two short film glenn gould',\n",
       " 'threesom',\n",
       " 'nightmar christma',\n",
       " 'three musket',\n",
       " 'tombston',\n",
       " 'trial juri',\n",
       " 'true romanc',\n",
       " 'war room',\n",
       " 'pagemast',\n",
       " 'pari franc',\n",
       " 'killer',\n",
       " 'welcom dollhous',\n",
       " 'germin',\n",
       " 'chaser',\n",
       " 'crono',\n",
       " 'nake new york',\n",
       " 'kika',\n",
       " 'bhaji beach',\n",
       " 'littl big leagu',\n",
       " 'slingshot',\n",
       " 'ciao professor',\n",
       " 'spank monkey',\n",
       " 'littl rascal',\n",
       " 'andr',\n",
       " 'escort',\n",
       " 'princess caraboo',\n",
       " 'celluloid closet',\n",
       " 'caf lait',\n",
       " 'dear diari',\n",
       " 'want talk',\n",
       " 'bradi bunch movi',\n",
       " 'home alon',\n",
       " 'ghost',\n",
       " 'aladdin',\n",
       " 'termin judgment day',\n",
       " 'danc wolv',\n",
       " 'tough deadli',\n",
       " 'batman',\n",
       " 'silenc lamb',\n",
       " 'snow white seven dwarf',\n",
       " 'beauti beast',\n",
       " 'pinocchio',\n",
       " 'pretti woman',\n",
       " 'window pari',\n",
       " 'wild bunch',\n",
       " 'love',\n",
       " 'wooden man bride',\n",
       " 'great day harlem',\n",
       " 'bye bye love',\n",
       " 'one fine day',\n",
       " 'candyman farewel flesh',\n",
       " 'centuri',\n",
       " 'fargo',\n",
       " 'homeward bound lost san francisco',\n",
       " 'heavi metal',\n",
       " 'hellrais bloodlin',\n",
       " 'pallbear',\n",
       " 'jane eyr',\n",
       " 'load',\n",
       " 'bread chocol',\n",
       " 'aristocat',\n",
       " 'flower secret',\n",
       " 'two much',\n",
       " '',\n",
       " 'scream stone',\n",
       " 'favorit season',\n",
       " 'modern affair',\n",
       " 'condit red',\n",
       " 'halfaouin boy terrac',\n",
       " 'thin line love hate',\n",
       " 'last supper',\n",
       " 'primal fear',\n",
       " 'rude',\n",
       " 'carri away',\n",
       " 'dog heaven',\n",
       " 'land freedom',\n",
       " 'denis call',\n",
       " 'theodor rex',\n",
       " 'famili thing',\n",
       " 'frisk',\n",
       " 'sgt bilko',\n",
       " 'jack sarah',\n",
       " 'girl',\n",
       " 'diaboliqu',\n",
       " 'littl indian big citi',\n",
       " 'roula',\n",
       " 'peanut die bank zahlt all',\n",
       " 'nelli monsieur arnaud',\n",
       " 'courag fire',\n",
       " 'mission imposs',\n",
       " 'cold fever',\n",
       " 'moll flander',\n",
       " 'superwif',\n",
       " '',\n",
       " 'dragonheart',\n",
       " 'eddi',\n",
       " 'yanke zulu',\n",
       " 'purpl noon',\n",
       " 'august',\n",
       " 'jame giant peach',\n",
       " 'fear',\n",
       " 'kid hall brain candi',\n",
       " 'faith',\n",
       " 'underground',\n",
       " 'thing fair',\n",
       " 'bloodsport',\n",
       " 'pather panchali',\n",
       " 'world apu',\n",
       " 'mysteri scienc theater movi',\n",
       " 'space jam',\n",
       " 'barbarella',\n",
       " 'hostil intent',\n",
       " 'bite',\n",
       " 'folk call sling blade',\n",
       " 'run countri',\n",
       " 'alphavil',\n",
       " 'coup torchon',\n",
       " 'tigrero film never made',\n",
       " 'window',\n",
       " 'parti',\n",
       " 'countri life',\n",
       " 'oper dumbo drop',\n",
       " 'promis',\n",
       " 'mr winterbourn',\n",
       " 'solo',\n",
       " 'domim tree',\n",
       " 'substitut',\n",
       " 'true crime',\n",
       " 'butterfli kiss',\n",
       " 'feel minnesota',\n",
       " 'delta venu',\n",
       " 'angu',\n",
       " 'priest daen',\n",
       " 'face',\n",
       " 'boy',\n",
       " 'quest',\n",
       " 'cosi',\n",
       " 'sunset park',\n",
       " 'mulholland fall',\n",
       " 'truth cat dog',\n",
       " 'oliv compani',\n",
       " 'celtic pride',\n",
       " 'flipper',\n",
       " 'captiv',\n",
       " 'love shadow',\n",
       " 'dead man',\n",
       " 'horseman roof',\n",
       " 'switchblad sister',\n",
       " 'mouth mouth',\n",
       " 'visitor',\n",
       " 'multipl',\n",
       " 'haunt world edward wood',\n",
       " 'craft',\n",
       " 'great white hype',\n",
       " 'last danc',\n",
       " 'cold comfort farm',\n",
       " 'institut benjamenta dream peopl call human life',\n",
       " 'heaven prison',\n",
       " 'origin gangsta',\n",
       " 'rock',\n",
       " 'get away murder',\n",
       " 'cemeteri man',\n",
       " 'twister',\n",
       " 'barb wire',\n",
       " 'gar',\n",
       " 'ghost shell',\n",
       " 'thinner',\n",
       " 'spi hard',\n",
       " 'close shave',\n",
       " 'forc evil',\n",
       " 'stupid',\n",
       " 'arriv',\n",
       " 'strangelov learn stop worri love bomb',\n",
       " 'care',\n",
       " 'month lake',\n",
       " 'gold digger secret bear mountain',\n",
       " 'kim',\n",
       " 'carmen miranda banana busi',\n",
       " 'ash time',\n",
       " 'jar',\n",
       " 'stalingrad',\n",
       " 'phantom',\n",
       " 'stripteas',\n",
       " 'last high king',\n",
       " 'heavi',\n",
       " 'jack',\n",
       " 'shot andi warhol',\n",
       " 'grass harp',\n",
       " 'life rosi',\n",
       " 'quartier mozart',\n",
       " 'touki bouki',\n",
       " 'god gift',\n",
       " 'spirit dead',\n",
       " 'pharaoh armi',\n",
       " 'trainspot',\n",
       " 'til',\n",
       " 'independ day',\n",
       " 'steal beauti',\n",
       " 'fan',\n",
       " 'hunchback notr dame',\n",
       " 'cabl guy',\n",
       " 'kingpin',\n",
       " 'eras',\n",
       " 'gate heavenli peac',\n",
       " 'nutti professor',\n",
       " 'worst',\n",
       " 'unforgett summer',\n",
       " 'life time antonin artaud',\n",
       " 'midnight dancer',\n",
       " 'somebodi love',\n",
       " 'natur thing',\n",
       " 'daylight',\n",
       " 'frighten',\n",
       " 'lone star',\n",
       " 'harriet spi',\n",
       " 'phenomenon',\n",
       " 'walk talk',\n",
       " 'one',\n",
       " 'time kill',\n",
       " 'american buffalo',\n",
       " 'rendezv pari',\n",
       " 'alaska',\n",
       " 'fled',\n",
       " 'kazaam',\n",
       " 'magic hunter',\n",
       " 'larger life',\n",
       " 'boy call hate',\n",
       " 'power',\n",
       " 'two death',\n",
       " 'bradi sequel',\n",
       " 'stefano quantestori',\n",
       " 'death garden',\n",
       " 'hedd wyn',\n",
       " 'collectionneus',\n",
       " 'kaspar hauser',\n",
       " 'regular guy',\n",
       " 'diebinnen',\n",
       " 'convent',\n",
       " 'adventur pinocchio',\n",
       " 'joe apart',\n",
       " 'first wive club',\n",
       " 'stonewal',\n",
       " 'ransom',\n",
       " 'high school high',\n",
       " 'phat beach',\n",
       " 'foxfir',\n",
       " 'chain reaction',\n",
       " 'matilda',\n",
       " 'emma',\n",
       " 'crow citi angel',\n",
       " 'hous arrest',\n",
       " 'eye without face',\n",
       " 'bordello blood',\n",
       " 'lotto land',\n",
       " 'day sun turn cold',\n",
       " 'flirt',\n",
       " 'big squeez',\n",
       " 'spitfir grill',\n",
       " 'escap',\n",
       " 'cyclo',\n",
       " 'basquiat',\n",
       " 'tin cup',\n",
       " 'dingo',\n",
       " 'ballad narayama',\n",
       " 'everi weekend',\n",
       " 'mill boll blu',\n",
       " 'crow sparrow',\n",
       " 'godfath',\n",
       " 'mayb mayb',\n",
       " 'polic stori supercop',\n",
       " 'manni',\n",
       " 'small face',\n",
       " 'bound',\n",
       " 'carpool',\n",
       " 'death brunswick',\n",
       " 'kansa citi',\n",
       " 'gone fishin',\n",
       " 'lover knot',\n",
       " 'vive amour',\n",
       " 'shadow angel',\n",
       " 'killer journal murder',\n",
       " 'project',\n",
       " 'girl town',\n",
       " 'bye bye',\n",
       " 'relic',\n",
       " 'island moreau',\n",
       " 'first kid',\n",
       " 'trigger effect',\n",
       " 'sweet noth',\n",
       " 'bogu',\n",
       " 'bulletproof',\n",
       " 'talk angel',\n",
       " 'land time iii time great give',\n",
       " '',\n",
       " 'halloween curs michael myer',\n",
       " 'twelfth night',\n",
       " 'mother night',\n",
       " 'liebelei',\n",
       " 'venic',\n",
       " 'wild reed',\n",
       " 'bell toll',\n",
       " 'philadelphia stori',\n",
       " 'singin rain',\n",
       " 'american pari',\n",
       " 'funni face',\n",
       " 'breakfast tiffani',\n",
       " 'vertigo',\n",
       " 'rear window',\n",
       " 'happen one night',\n",
       " 'gaslight',\n",
       " 'gay divorce',\n",
       " 'north northwest',\n",
       " 'apart',\n",
       " 'like hot',\n",
       " 'charad',\n",
       " 'casablanca',\n",
       " 'maltes falcon',\n",
       " 'fair ladi',\n",
       " 'sabrina',\n",
       " 'roman holiday',\n",
       " 'littl princess',\n",
       " 'meet loui',\n",
       " 'wizard',\n",
       " 'gone wind',\n",
       " 'favorit year',\n",
       " 'sunset boulevard',\n",
       " 'citizen kane',\n",
       " 'space odyssey',\n",
       " 'golden ear',\n",
       " 'eve',\n",
       " 'women',\n",
       " 'rebecca',\n",
       " 'foreign correspond',\n",
       " 'notori',\n",
       " 'spellbound',\n",
       " 'affair rememb',\n",
       " 'catch thief',\n",
       " 'father bride',\n",
       " 'band wagon',\n",
       " 'ninotchka',\n",
       " 'love afternoon',\n",
       " 'gigi',\n",
       " 'reluct debutant',\n",
       " 'adventur robin hood',\n",
       " 'mark zorro',\n",
       " 'laura',\n",
       " 'ghost mr muir',\n",
       " 'lost horizon',\n",
       " 'top hat',\n",
       " '',\n",
       " 'man godfrey',\n",
       " 'giant',\n",
       " 'east eden',\n",
       " 'thin man',\n",
       " 'girl friday',\n",
       " 'around world eighti day',\n",
       " 'wonder life',\n",
       " 'smith goe washington',\n",
       " 'bring babi',\n",
       " 'penni serenad',\n",
       " 'scarlet letter',\n",
       " 'ladi burlesqu',\n",
       " 'human bondag',\n",
       " 'angel shoulder',\n",
       " 'littl lord fauntleroy',\n",
       " 'made crimin',\n",
       " 'inspector gener',\n",
       " 'angel badman',\n",
       " 'step',\n",
       " 'walk sun',\n",
       " 'outlaw',\n",
       " 'night live dead',\n",
       " 'african queen',\n",
       " 'beat devil',\n",
       " 'cat hot tin roof',\n",
       " 'last time saw pari',\n",
       " 'meet john doe',\n",
       " 'algier',\n",
       " 'someth sing',\n",
       " 'farewel arm',\n",
       " 'moonlight murder',\n",
       " 'noth person',\n",
       " 'ye madam',\n",
       " 'danger ground',\n",
       " 'picnic',\n",
       " 'pompatu love',\n",
       " 'fli away home',\n",
       " 'bliss',\n",
       " 'grace heart',\n",
       " 'brother sleep',\n",
       " 'maximum risk',\n",
       " 'michael collin',\n",
       " 'rich man wife',\n",
       " 'big night',\n",
       " 'last man stand',\n",
       " 'caught',\n",
       " 'set',\n",
       " 'day valley',\n",
       " 'curdl',\n",
       " 'associ',\n",
       " 'next move',\n",
       " 'extrem measur',\n",
       " 'glimmer man',\n",
       " 'mighti duck',\n",
       " 'chamber',\n",
       " 'appl dumpl gang',\n",
       " 'davi crockett king wild frontier',\n",
       " 'escap witch mountain',\n",
       " 'love bug',\n",
       " 'herbi ride',\n",
       " 'old yeller',\n",
       " 'parent trap',\n",
       " 'pollyanna',\n",
       " 'homeward bound incred journey',\n",
       " 'shaggi dog',\n",
       " 'swiss famili robinson',\n",
       " 'darn cat',\n",
       " 'leagu sea',\n",
       " 'cool run',\n",
       " 'angel outfield',\n",
       " 'cinderella',\n",
       " 'winni pooh blusteri day',\n",
       " 'three caballero',\n",
       " 'sword stone',\n",
       " 'dear heart',\n",
       " 'robin hood princ thiev',\n",
       " 'mari poppin',\n",
       " 'dumbo',\n",
       " 'pete dragon',\n",
       " 'bedknob broomstick',\n",
       " 'alic wonderland',\n",
       " 'fox hound',\n",
       " 'freeway',\n",
       " 'sound music',\n",
       " 'die hard',\n",
       " 'lawnmow man',\n",
       " 'unhook star',\n",
       " 'secret agent',\n",
       " 'secret lie',\n",
       " 'thing',\n",
       " 'gillian birthday',\n",
       " 'surviv picasso',\n",
       " 'love',\n",
       " 'beauti thing',\n",
       " 'long kiss goodnight',\n",
       " 'ghost dark',\n",
       " 'look richard',\n",
       " 'tree loung',\n",
       " 'normal life',\n",
       " 'get bu',\n",
       " 'shadow conspiraci',\n",
       " 'jude',\n",
       " 'everyon say love',\n",
       " 'bitter sugar',\n",
       " 'romeo juliet',\n",
       " 'swinger',\n",
       " 'sleeper',\n",
       " 'sunchas',\n",
       " 'john',\n",
       " 'aladdin king thiev',\n",
       " 'woman question',\n",
       " 'shall danc',\n",
       " 'damsel distress',\n",
       " 'crossfir',\n",
       " 'murder sweet',\n",
       " 'macao',\n",
       " ...]"
      ]
     },
     "execution_count": 32,
     "metadata": {},
     "output_type": "execute_result"
    }
   ],
   "source": [
    "titulo_list"
   ]
  },
  {
   "cell_type": "code",
   "execution_count": 811,
   "metadata": {},
   "outputs": [],
   "source": [
    "df[\"title_lemmatizer\"] = titulo_list"
   ]
  },
  {
   "cell_type": "code",
   "execution_count": 812,
   "metadata": {},
   "outputs": [
    {
     "data": {
      "text/html": [
       "<div>\n",
       "<style scoped>\n",
       "    .dataframe tbody tr th:only-of-type {\n",
       "        vertical-align: middle;\n",
       "    }\n",
       "\n",
       "    .dataframe tbody tr th {\n",
       "        vertical-align: top;\n",
       "    }\n",
       "\n",
       "    .dataframe thead th {\n",
       "        text-align: right;\n",
       "    }\n",
       "</style>\n",
       "<table border=\"1\" class=\"dataframe\">\n",
       "  <thead>\n",
       "    <tr style=\"text-align: right;\">\n",
       "      <th></th>\n",
       "      <th>title</th>\n",
       "      <th>vote_average</th>\n",
       "      <th>title_lemmatizer</th>\n",
       "    </tr>\n",
       "  </thead>\n",
       "  <tbody>\n",
       "    <tr>\n",
       "      <th>0</th>\n",
       "      <td>Toy Story</td>\n",
       "      <td>7</td>\n",
       "      <td>toy stori</td>\n",
       "    </tr>\n",
       "    <tr>\n",
       "      <th>1</th>\n",
       "      <td>Jumanji</td>\n",
       "      <td>6</td>\n",
       "      <td>jumanji</td>\n",
       "    </tr>\n",
       "    <tr>\n",
       "      <th>2</th>\n",
       "      <td>Grumpier Old Men</td>\n",
       "      <td>6</td>\n",
       "      <td>grumpier old men</td>\n",
       "    </tr>\n",
       "    <tr>\n",
       "      <th>3</th>\n",
       "      <td>Waiting to Exhale</td>\n",
       "      <td>6</td>\n",
       "      <td>wait exhal</td>\n",
       "    </tr>\n",
       "    <tr>\n",
       "      <th>4</th>\n",
       "      <td>Father of the Bride Part II</td>\n",
       "      <td>5</td>\n",
       "      <td>father bride part</td>\n",
       "    </tr>\n",
       "  </tbody>\n",
       "</table>\n",
       "</div>"
      ],
      "text/plain": [
       "                         title  vote_average   title_lemmatizer\n",
       "0                    Toy Story             7          toy stori\n",
       "1                      Jumanji             6            jumanji\n",
       "2             Grumpier Old Men             6   grumpier old men\n",
       "3            Waiting to Exhale             6         wait exhal\n",
       "4  Father of the Bride Part II             5  father bride part"
      ]
     },
     "execution_count": 812,
     "metadata": {},
     "output_type": "execute_result"
    }
   ],
   "source": [
    "df.head()"
   ]
  },
  {
   "attachments": {},
   "cell_type": "markdown",
   "metadata": {},
   "source": [
    "df_vote_average_mayores_7 = df[df.vote_average >= 7]\n",
    "df_vote_average_mayores_7 = df_vote_average_mayores_7[[\"title_lemmatizer\", \"vote_average\" ]]\n",
    "df_vote_average_mayores_7.head()"
   ]
  },
  {
   "attachments": {},
   "cell_type": "markdown",
   "metadata": {},
   "source": [
    "todos_titulos_vote_average_mayores_7 = []\n",
    "for i in range(df_vote_average_mayores_7.shape[0]):\n",
    "    titulo = df_vote_average_mayores_7.iloc[i].title_lemmatizer\n",
    "    titulo = re.sub(\"[^a-zA-Z!ñíá]\",\" \",str(titulo)).lower()\n",
    "    titulo = nltk.tokenize.RegexpTokenizer(\"[\\w]+\").tokenize(titulo)\n",
    "    titulo = [word for word in titulo if word not in stopwords]\n",
    "    titulo = [word for word in titulo if word not in filtrar]\n",
    "\n",
    "    todos_titulos_vote_average_mayores_7.append(titulo)"
   ]
  },
  {
   "attachments": {},
   "cell_type": "markdown",
   "metadata": {},
   "source": [
    "todos_titulos_vote_average_mayores_7 = list(itertools.chain(*todos_titulos_vote_average_mayores_7))"
   ]
  },
  {
   "attachments": {},
   "cell_type": "markdown",
   "metadata": {},
   "source": [
    "# mostramos la palabras mas repetidas\n",
    "freq_vote_average_mayores_7 = nltk.FreqDist(todos_titulos_vote_average_mayores_7)\n",
    "freq_vote_average_mayores_7"
   ]
  },
  {
   "attachments": {},
   "cell_type": "markdown",
   "metadata": {},
   "source": [
    "# Creamos un DataFrame con la frecuencia de las palabras\n",
    "df_vote_average_mayores_7 = pd.DataFrame(list(freq_vote_average_mayores_7.items()), columns= [\"Palabras\", \"Frecuencia\"])\n",
    "df_vote_average_mayores_7.sort_values(\"Frecuencia\", ascending= False, inplace= True)\n",
    "df_vote_average_mayores_7.head()"
   ]
  },
  {
   "attachments": {},
   "cell_type": "markdown",
   "metadata": {},
   "source": [
    "df_vote_average_mayores_7.shape"
   ]
  },
  {
   "attachments": {},
   "cell_type": "markdown",
   "metadata": {},
   "source": [
    "## 6. Vectorizar"
   ]
  },
  {
   "cell_type": "code",
   "execution_count": 813,
   "metadata": {},
   "outputs": [
    {
     "data": {
      "text/html": [
       "<div>\n",
       "<style scoped>\n",
       "    .dataframe tbody tr th:only-of-type {\n",
       "        vertical-align: middle;\n",
       "    }\n",
       "\n",
       "    .dataframe tbody tr th {\n",
       "        vertical-align: top;\n",
       "    }\n",
       "\n",
       "    .dataframe thead th {\n",
       "        text-align: right;\n",
       "    }\n",
       "</style>\n",
       "<table border=\"1\" class=\"dataframe\">\n",
       "  <thead>\n",
       "    <tr style=\"text-align: right;\">\n",
       "      <th></th>\n",
       "      <th>title</th>\n",
       "      <th>vote_average</th>\n",
       "      <th>title_lemmatizer</th>\n",
       "    </tr>\n",
       "  </thead>\n",
       "  <tbody>\n",
       "    <tr>\n",
       "      <th>0</th>\n",
       "      <td>Toy Story</td>\n",
       "      <td>7</td>\n",
       "      <td>toy stori</td>\n",
       "    </tr>\n",
       "    <tr>\n",
       "      <th>1</th>\n",
       "      <td>Jumanji</td>\n",
       "      <td>6</td>\n",
       "      <td>jumanji</td>\n",
       "    </tr>\n",
       "    <tr>\n",
       "      <th>2</th>\n",
       "      <td>Grumpier Old Men</td>\n",
       "      <td>6</td>\n",
       "      <td>grumpier old men</td>\n",
       "    </tr>\n",
       "    <tr>\n",
       "      <th>3</th>\n",
       "      <td>Waiting to Exhale</td>\n",
       "      <td>6</td>\n",
       "      <td>wait exhal</td>\n",
       "    </tr>\n",
       "    <tr>\n",
       "      <th>4</th>\n",
       "      <td>Father of the Bride Part II</td>\n",
       "      <td>5</td>\n",
       "      <td>father bride part</td>\n",
       "    </tr>\n",
       "  </tbody>\n",
       "</table>\n",
       "</div>"
      ],
      "text/plain": [
       "                         title  vote_average   title_lemmatizer\n",
       "0                    Toy Story             7          toy stori\n",
       "1                      Jumanji             6            jumanji\n",
       "2             Grumpier Old Men             6   grumpier old men\n",
       "3            Waiting to Exhale             6         wait exhal\n",
       "4  Father of the Bride Part II             5  father bride part"
      ]
     },
     "execution_count": 813,
     "metadata": {},
     "output_type": "execute_result"
    }
   ],
   "source": [
    "df.head(5)"
   ]
  },
  {
   "attachments": {},
   "cell_type": "markdown",
   "metadata": {},
   "source": [
    "#### a. Dividimos el Data Set entre el title_lemmatizer en una lista y vote_average con .values"
   ]
  },
  {
   "cell_type": "code",
   "execution_count": 814,
   "metadata": {},
   "outputs": [],
   "source": [
    "list_title_lemmatizer = list(df[\"title_lemmatizer\"].values)\n",
    "is_vote = df[\"vote_average\"].values"
   ]
  },
  {
   "attachments": {},
   "cell_type": "markdown",
   "metadata": {},
   "source": [
    "#### b. Preparamos el conversor de bag of words a vectores que traemos de sklearn. `CountVectorizer` posee varias funcionalidades que pueden determinarse a partir de parámetros. Les recomendamos fuertemente leer su documentación."
   ]
  },
  {
   "cell_type": "code",
   "execution_count": 894,
   "metadata": {},
   "outputs": [],
   "source": [
    "# Usaremos solo las 1000 palabras con mas frecuencia en todo el corpus para generar los vectores\n",
    "max_features=1000\n",
    "\n",
    "# Es decir que cada instancia tendrá 1000 features\n",
    "cou_vec=CountVectorizer(max_features=max_features, stop_words=\"english\" , ngram_range=(1,2))\n",
    "#cou_vec=CountVectorizer(stop_words=\"english\" , ngram_range=(1,2))\n"
   ]
  },
  {
   "attachments": {},
   "cell_type": "markdown",
   "metadata": {},
   "source": [
    "#### c. Ahora sí, vamos generarnos los vectores para cada título a partir del corpus total."
   ]
  },
  {
   "cell_type": "code",
   "execution_count": 895,
   "metadata": {},
   "outputs": [],
   "source": [
    "matriz_titulos = cou_vec.fit_transform(list_title_lemmatizer)\n",
    "\n",
    "# Tomamos las palabras\n",
    "all_words = cou_vec.get_feature_names_out() # get_feature_names()"
   ]
  },
  {
   "cell_type": "code",
   "execution_count": 896,
   "metadata": {},
   "outputs": [
    {
     "data": {
      "text/plain": [
       "<42388x1000 sparse matrix of type '<class 'numpy.int64'>'\n",
       "\twith 45731 stored elements in Compressed Sparse Row format>"
      ]
     },
     "execution_count": 896,
     "metadata": {},
     "output_type": "execute_result"
    }
   ],
   "source": [
    "matriz_titulos"
   ]
  },
  {
   "cell_type": "code",
   "execution_count": 897,
   "metadata": {},
   "outputs": [
    {
     "data": {
      "text/plain": [
       "1000"
      ]
     },
     "execution_count": 897,
     "metadata": {},
     "output_type": "execute_result"
    }
   ],
   "source": [
    "len(all_words)"
   ]
  },
  {
   "cell_type": "code",
   "execution_count": 898,
   "metadata": {},
   "outputs": [
    {
     "name": "stdout",
     "output_type": "stream",
     "text": [
      "50 palabras mas usadas:  ['academi' 'ace' 'act' 'action' 'adam' 'adventur' 'affair' 'africa' 'age'\n",
      " 'agent' 'air' 'ali' 'alic' 'alien' 'aliv' 'alley' 'alon' 'alway' 'amaz'\n",
      " 'amazon' 'america' 'american' 'amor' 'angel' 'angri' 'anim' 'ann' 'anna'\n",
      " 'anoth' 'apart' 'ape' 'apocalyps' 'april' 'arm' 'armi' 'art' 'arthur'\n",
      " 'assassin' 'attack' 'august' 'autumn' 'aveng' 'awaken' 'away' 'babi'\n",
      " 'babylon' 'bachelor' 'bad' 'ball' 'ballad' 'band' 'bandit' 'bang' 'bank'\n",
      " 'bar' 'barbi' 'bastard' 'batman' 'battl' 'bay' 'beach' 'bear' 'beast'\n",
      " 'beat' 'beauti' 'becom' 'bed' 'bee' 'begin' 'believ' 'bell' 'belov'\n",
      " 'beneath' 'berlin' 'best' 'better' 'big' 'billi' 'bird' 'black' 'blade'\n",
      " 'blind' 'blond' 'blood' 'bloodi' 'blue' 'boat' 'bob' 'bodi' 'bone' 'book'\n",
      " 'border' 'born' 'boss' 'box' 'boy' 'brain' 'brave' 'break' 'breakfast'\n",
      " 'bride' 'bridg' 'bright' 'broadway' 'broken' 'brooklyn' 'brother' 'brown'\n",
      " 'buddi' 'bullet' 'bunni' 'burn' 'busi' 'butterfli' 'bye' 'cage' 'came'\n",
      " 'camp' 'candi' 'cannib' 'captain' 'captiv' 'car' 'care' 'carol' 'carri'\n",
      " 'case' 'castl' 'cat' 'catch' 'central' 'central roast' 'centuri' 'chain'\n",
      " 'chan' 'chanc' 'chang' 'chao' 'chapter' 'charli' 'charli chan' 'chase'\n",
      " 'che' 'cherri' 'chicago' 'child' 'children' 'china' 'chines' 'christ'\n",
      " 'christma' 'christma carol' 'chronicl' 'cinderella' 'cinema' 'circl'\n",
      " 'circu' 'citi' 'citizen' 'class' 'clau' 'close' 'cloud' 'club' 'code'\n",
      " 'cold' 'color' 'come' 'comedi' 'comedi central' 'comic' 'command'\n",
      " 'compani' 'confess' 'conspiraci' 'control' 'cool' 'cop' 'count' 'counti'\n",
      " 'countri' 'courag' 'court' 'cousin' 'cowboy' 'crash' 'crazi' 'creatur'\n",
      " 'creek' 'cri' 'crime' 'crimin' 'crisi' 'crocodil' 'crook' 'cross' 'curs'\n",
      " 'cut' 'dad' 'daddi']\n"
     ]
    }
   ],
   "source": [
    "# Vizualizamos las 50 palabras mas usadas\n",
    "print(\"50 palabras mas usadas: \",all_words[0:200])"
   ]
  },
  {
   "attachments": {},
   "cell_type": "markdown",
   "metadata": {},
   "source": [
    "## 7. Modelar\n",
    "\n",
    "Ahroa sí estamos listos para usar todo nuestro conocimiento de modelos en este set de datos. Tengamos en cuenta que, dependiendo el número de palabras (features) que hayamos elegido, los modelos pueden tardar un rato en entrenarse.\n",
    "\n",
    "a. Primero, como siempre, separamos en test y train."
   ]
  },
  {
   "cell_type": "code",
   "execution_count": 899,
   "metadata": {},
   "outputs": [
    {
     "data": {
      "text/plain": [
       "(42388, 1000)"
      ]
     },
     "execution_count": 899,
     "metadata": {},
     "output_type": "execute_result"
    }
   ],
   "source": [
    "x = matriz_titulos.toarray()\n",
    "x.shape"
   ]
  },
  {
   "cell_type": "code",
   "execution_count": 900,
   "metadata": {},
   "outputs": [
    {
     "data": {
      "text/plain": [
       "array([0, 0, 0, 0, 0, 0, 0, 0, 0, 0, 0, 0, 0, 0, 0, 0, 0, 0, 0, 0, 0, 0,\n",
       "       0, 0, 0, 0, 0, 0, 0, 0, 0, 0, 0, 0, 0, 0, 0, 0, 0, 0, 0, 0, 0, 0,\n",
       "       0, 0, 0, 0, 0, 0, 0, 0, 0, 0, 0, 0, 0, 0, 0, 0, 0, 0, 0, 0, 0, 0,\n",
       "       0, 0, 0, 0, 0, 0, 0, 0, 0, 0, 0, 0, 0, 0, 0, 0, 0, 0, 0, 0, 0, 0,\n",
       "       0, 0, 0, 0, 0, 0, 0, 0, 0, 0, 0, 0, 0, 0, 0, 0, 0, 0, 0, 0, 0, 0,\n",
       "       0, 0, 0, 0, 0, 0, 0, 0, 0, 0, 0, 0, 0, 0, 0, 0, 0, 0, 0, 0, 0, 0,\n",
       "       0, 0, 0, 0, 0, 0, 0, 0, 0, 0, 0, 0, 0, 0, 0, 0, 0, 0, 0, 0, 0, 0,\n",
       "       0, 0, 0, 0, 0, 0, 0, 0, 0, 0, 0, 0, 0, 0, 0, 0, 0, 0, 0, 0, 0, 0,\n",
       "       0, 0, 0, 0, 0, 0, 0, 0, 0, 0, 0, 0, 0, 0, 0, 0, 0, 0, 0, 0, 0, 0,\n",
       "       0, 0, 0, 0, 0, 0, 0, 0, 0, 0, 0, 0, 1, 0, 0, 0, 0, 0, 0, 0, 0, 0,\n",
       "       0, 0, 0, 0, 0, 0, 0, 0, 0, 0, 0, 0, 0, 0, 0, 0, 0, 0, 0, 0, 0, 0,\n",
       "       0, 0, 0, 0, 0, 0, 0, 0, 0, 0, 0, 0, 0, 0, 0, 0, 0, 0, 0, 0, 0, 0,\n",
       "       0, 0, 0, 0, 0, 0, 0, 0, 0, 0, 0, 0, 0, 0, 0, 0, 0, 0, 0, 0, 0, 0,\n",
       "       0, 0, 0, 0, 0, 0, 0, 0, 0, 0, 0, 0, 0, 0, 0, 0, 0, 0, 0, 0, 0, 0,\n",
       "       0, 0, 0, 0, 0, 0, 0, 0, 0, 0, 0, 0, 0, 0, 0, 0, 0, 0, 0, 0, 0, 0,\n",
       "       0, 0, 0, 0, 0, 0, 0, 0, 0, 0, 0, 0, 0, 0, 0, 0, 0, 0, 0, 0, 0, 0,\n",
       "       0, 0, 0, 0, 0, 0, 0, 0, 0, 0, 0, 0, 0, 0, 0, 0, 0, 0, 0, 0, 0, 0,\n",
       "       0, 0, 0, 0, 0, 0, 0, 0, 0, 0, 0, 0, 0, 0, 0, 0, 0, 0, 0, 0, 0, 0,\n",
       "       0, 0, 0, 0, 0, 0, 0, 0, 0, 0, 0, 0, 0, 0, 0, 0, 0, 0, 0, 0, 0, 0,\n",
       "       0, 0, 0, 0, 0, 0, 0, 0, 0, 0, 0, 0, 0, 0, 0, 0, 0, 0, 0, 0, 0, 0,\n",
       "       0, 0, 0, 0, 0, 0, 0, 0, 0, 0, 0, 0, 0, 0, 0, 0, 0, 0, 0, 0, 0, 0,\n",
       "       0, 0, 0, 0, 0, 0, 0, 0, 0, 0, 0, 0, 0, 0, 0, 0, 0, 0, 0, 0, 0, 0,\n",
       "       0, 0, 0, 0, 0, 0, 0, 0, 0, 0, 0, 0, 0, 0, 0, 0, 0, 0, 0, 0, 0, 0,\n",
       "       0, 0, 0, 0, 0, 0, 0, 0, 0, 0, 0, 0, 0, 0, 0, 0, 0, 0, 0, 0, 0, 0,\n",
       "       0, 0, 0, 0, 0, 0, 0, 0, 0, 0, 0, 0, 0, 0, 0, 0, 0, 0, 0, 0, 0, 0,\n",
       "       0, 0, 0, 0, 0, 0, 0, 0, 0, 0, 0, 0, 0, 0, 0, 0, 0, 0, 0, 0, 0, 0,\n",
       "       0, 0, 0, 0, 0, 0, 0, 0, 0, 0, 0, 0, 0, 0, 0, 0, 0, 0, 0, 0, 0, 0,\n",
       "       0, 0, 0, 0, 0, 0, 0, 0, 0, 0, 0, 0, 0, 0, 0, 0, 0, 0, 0, 0, 0, 0,\n",
       "       0, 0, 0, 0, 0, 0, 0, 0, 0, 0, 0, 0, 0, 0, 0, 0, 0, 0, 0, 0, 0, 0,\n",
       "       0, 0, 0, 0, 0, 0, 0, 0, 0, 0, 0, 0, 0, 0, 0, 0, 0, 0, 0, 0, 0, 0,\n",
       "       0, 0, 0, 0, 0, 0, 0, 0, 0, 0, 0, 0, 0, 0, 0, 0, 0, 0, 0, 0, 0, 0,\n",
       "       0, 0, 0, 0, 0, 0, 0, 0, 0, 0, 0, 0, 0, 0, 0, 0, 0, 0, 0, 0, 0, 0,\n",
       "       0, 0, 0, 0, 0, 0, 0, 0, 0, 0, 0, 0, 0, 0, 0, 0, 0, 0, 0, 0, 0, 0,\n",
       "       0, 0, 0, 0, 0, 0, 0, 0, 0, 0, 0, 0, 0, 0, 0, 0, 0, 0, 0, 0, 0, 0,\n",
       "       0, 0, 0, 0, 0, 0, 0, 0, 0, 0, 0, 0, 0, 0, 0, 0, 0, 0, 0, 0, 0, 0,\n",
       "       0, 0, 0, 0, 0, 0, 0, 0, 0, 0, 0, 0, 0, 0, 0, 0, 0, 0, 0, 0, 0, 0,\n",
       "       0, 0, 0, 0, 0, 0, 0, 0, 0, 0, 0, 0, 0, 0, 0, 0, 0, 0, 0, 0, 0, 0,\n",
       "       0, 0, 0, 0, 0, 0, 0, 0, 0, 0, 0, 0, 0, 0, 0, 0, 0, 0, 0, 0, 0, 0,\n",
       "       0, 0, 0, 0, 0, 0, 0, 0, 0, 0, 0, 0, 0, 0, 0, 0, 0, 0, 0, 0, 0, 0,\n",
       "       0, 0, 0, 0, 0, 0, 0, 0, 0, 0, 0, 0, 0, 0, 0, 0, 0, 0, 0, 0, 0, 0,\n",
       "       0, 0, 0, 0, 0, 0, 0, 0, 0, 0, 0, 0, 0, 0, 0, 0, 0, 0, 0, 0, 0, 0,\n",
       "       0, 0, 0, 0, 0, 0, 0, 0, 0, 0, 0, 0, 0, 0, 0, 0, 0, 0, 0, 0, 0, 0,\n",
       "       0, 0, 0, 0, 0, 0, 0, 0, 0, 0, 0, 0, 0, 0, 0, 0, 0, 0, 0, 0, 0, 0,\n",
       "       0, 0, 0, 0, 0, 0, 0, 0, 0, 0, 0, 0, 0, 0, 0, 0, 0, 0, 0, 0, 0, 0,\n",
       "       0, 0, 0, 0, 0, 0, 0, 0, 0, 0, 0, 0, 0, 0, 0, 0, 0, 0, 0, 0, 0, 0,\n",
       "       0, 0, 0, 0, 0, 0, 0, 0, 0, 0], dtype=int64)"
      ]
     },
     "execution_count": 900,
     "metadata": {},
     "output_type": "execute_result"
    }
   ],
   "source": [
    "x[500]"
   ]
  },
  {
   "cell_type": "code",
   "execution_count": 901,
   "metadata": {},
   "outputs": [
    {
     "data": {
      "text/plain": [
       "array([7, 6, 6, ..., 5, 9, 3], dtype=int64)"
      ]
     },
     "execution_count": 901,
     "metadata": {},
     "output_type": "execute_result"
    }
   ],
   "source": [
    "y = is_vote\n",
    "y"
   ]
  },
  {
   "cell_type": "code",
   "execution_count": 902,
   "metadata": {},
   "outputs": [
    {
     "data": {
      "text/plain": [
       "array([[0, 0, 0, ..., 0, 0, 0],\n",
       "       [0, 0, 0, ..., 0, 0, 0]], dtype=int64)"
      ]
     },
     "execution_count": 902,
     "metadata": {},
     "output_type": "execute_result"
    }
   ],
   "source": [
    "x[0:2]"
   ]
  },
  {
   "cell_type": "code",
   "execution_count": 903,
   "metadata": {},
   "outputs": [],
   "source": [
    "xtrain, xtest, ytrain, ytest = train_test_split(x,y,test_size=0.2,random_state=42,stratify=y)"
   ]
  },
  {
   "cell_type": "code",
   "execution_count": 904,
   "metadata": {},
   "outputs": [
    {
     "name": "stdout",
     "output_type": "stream",
     "text": [
      "(33910, 1000)\n",
      "(8478, 1000)\n",
      "(33910,)\n",
      "(8478,)\n"
     ]
    }
   ],
   "source": [
    "print(xtrain.shape) \n",
    "print(xtest.shape)\n",
    "print(ytrain.shape)\n",
    "print(ytest.shape)"
   ]
  },
  {
   "cell_type": "code",
   "execution_count": 906,
   "metadata": {},
   "outputs": [],
   "source": [
    "def confusion(ytest,y_pred):\n",
    "    names=[\"No Sarcastico\",\"Sarcastico\"]\n",
    "    cm=confusion_matrix(ytest,y_pred)\n",
    "    f,ax=plt.subplots(figsize=(5,5))\n",
    "    sns.heatmap(cm,annot=True,linewidth=.5,linecolor=\"r\",fmt=\".0f\",ax=ax)\n",
    "    plt.xlabel(\"y_pred\")\n",
    "    plt.ylabel(\"y_true\")\n",
    "    ax.set_xticklabels(names)\n",
    "    ax.set_yticklabels(names)\n",
    "    plt.show()\n",
    "\n",
    "    return"
   ]
  },
  {
   "cell_type": "code",
   "execution_count": 907,
   "metadata": {},
   "outputs": [
    {
     "name": "stdout",
     "output_type": "stream",
     "text": [
      "acc :  0.03031375324368955\n"
     ]
    }
   ],
   "source": [
    "nb = GaussianNB()\n",
    "nb.fit(xtrain,ytrain)\n",
    "print(\"acc : \", nb.score(xtest,ytest))"
   ]
  },
  {
   "cell_type": "code",
   "execution_count": 908,
   "metadata": {},
   "outputs": [
    {
     "ename": "ValueError",
     "evalue": "The number of FixedLocator locations (10), usually from a call to set_ticks, does not match the number of labels (2).",
     "output_type": "error",
     "traceback": [
      "\u001b[1;31m---------------------------------------------------------------------------\u001b[0m",
      "\u001b[1;31mValueError\u001b[0m                                Traceback (most recent call last)",
      "Cell \u001b[1;32mIn[908], line 3\u001b[0m\n\u001b[0;32m      1\u001b[0m \u001b[39m# no se puede crear una matriz de confuncion ya que solo maneja 0 y 1 y los valore de calificacion son 1 al 10\u001b[39;00m\n\u001b[0;32m      2\u001b[0m y_pred\u001b[39m=\u001b[39mnb\u001b[39m.\u001b[39mpredict(xtest)\n\u001b[1;32m----> 3\u001b[0m confusion(ytest,y_pred)\n",
      "Cell \u001b[1;32mIn[906], line 8\u001b[0m, in \u001b[0;36mconfusion\u001b[1;34m(ytest, y_pred)\u001b[0m\n\u001b[0;32m      6\u001b[0m plt\u001b[39m.\u001b[39mxlabel(\u001b[39m\"\u001b[39m\u001b[39my_pred\u001b[39m\u001b[39m\"\u001b[39m)\n\u001b[0;32m      7\u001b[0m plt\u001b[39m.\u001b[39mylabel(\u001b[39m\"\u001b[39m\u001b[39my_true\u001b[39m\u001b[39m\"\u001b[39m)\n\u001b[1;32m----> 8\u001b[0m ax\u001b[39m.\u001b[39;49mset_xticklabels(names)\n\u001b[0;32m      9\u001b[0m ax\u001b[39m.\u001b[39mset_yticklabels(names)\n\u001b[0;32m     10\u001b[0m plt\u001b[39m.\u001b[39mshow()\n",
      "File \u001b[1;32mc:\\Users\\Alberto\\AppData\\Local\\Programs\\Python\\Python311\\Lib\\site-packages\\matplotlib\\axes\\_base.py:74\u001b[0m, in \u001b[0;36m_axis_method_wrapper.__set_name__.<locals>.wrapper\u001b[1;34m(self, *args, **kwargs)\u001b[0m\n\u001b[0;32m     73\u001b[0m \u001b[39mdef\u001b[39;00m \u001b[39mwrapper\u001b[39m(\u001b[39mself\u001b[39m, \u001b[39m*\u001b[39margs, \u001b[39m*\u001b[39m\u001b[39m*\u001b[39mkwargs):\n\u001b[1;32m---> 74\u001b[0m     \u001b[39mreturn\u001b[39;00m get_method(\u001b[39mself\u001b[39;49m)(\u001b[39m*\u001b[39;49margs, \u001b[39m*\u001b[39;49m\u001b[39m*\u001b[39;49mkwargs)\n",
      "File \u001b[1;32mc:\\Users\\Alberto\\AppData\\Local\\Programs\\Python\\Python311\\Lib\\site-packages\\matplotlib\\_api\\deprecation.py:297\u001b[0m, in \u001b[0;36mrename_parameter.<locals>.wrapper\u001b[1;34m(*args, **kwargs)\u001b[0m\n\u001b[0;32m    292\u001b[0m     warn_deprecated(\n\u001b[0;32m    293\u001b[0m         since, message\u001b[39m=\u001b[39m\u001b[39mf\u001b[39m\u001b[39m\"\u001b[39m\u001b[39mThe \u001b[39m\u001b[39m{\u001b[39;00mold\u001b[39m!r}\u001b[39;00m\u001b[39m parameter of \u001b[39m\u001b[39m{\u001b[39;00mfunc\u001b[39m.\u001b[39m\u001b[39m__name__\u001b[39m\u001b[39m}\u001b[39;00m\u001b[39m() \u001b[39m\u001b[39m\"\u001b[39m\n\u001b[0;32m    294\u001b[0m         \u001b[39mf\u001b[39m\u001b[39m\"\u001b[39m\u001b[39mhas been renamed \u001b[39m\u001b[39m{\u001b[39;00mnew\u001b[39m!r}\u001b[39;00m\u001b[39m since Matplotlib \u001b[39m\u001b[39m{\u001b[39;00msince\u001b[39m}\u001b[39;00m\u001b[39m; support \u001b[39m\u001b[39m\"\u001b[39m\n\u001b[0;32m    295\u001b[0m         \u001b[39mf\u001b[39m\u001b[39m\"\u001b[39m\u001b[39mfor the old name will be dropped %(removal)s.\u001b[39m\u001b[39m\"\u001b[39m)\n\u001b[0;32m    296\u001b[0m     kwargs[new] \u001b[39m=\u001b[39m kwargs\u001b[39m.\u001b[39mpop(old)\n\u001b[1;32m--> 297\u001b[0m \u001b[39mreturn\u001b[39;00m func(\u001b[39m*\u001b[39;49margs, \u001b[39m*\u001b[39;49m\u001b[39m*\u001b[39;49mkwargs)\n",
      "File \u001b[1;32mc:\\Users\\Alberto\\AppData\\Local\\Programs\\Python\\Python311\\Lib\\site-packages\\matplotlib\\axis.py:1969\u001b[0m, in \u001b[0;36mAxis.set_ticklabels\u001b[1;34m(self, labels, minor, fontdict, **kwargs)\u001b[0m\n\u001b[0;32m   1965\u001b[0m \u001b[39mif\u001b[39;00m \u001b[39misinstance\u001b[39m(locator, mticker\u001b[39m.\u001b[39mFixedLocator):\n\u001b[0;32m   1966\u001b[0m     \u001b[39m# Passing [] as a list of labels is often used as a way to\u001b[39;00m\n\u001b[0;32m   1967\u001b[0m     \u001b[39m# remove all tick labels, so only error for > 0 labels\u001b[39;00m\n\u001b[0;32m   1968\u001b[0m     \u001b[39mif\u001b[39;00m \u001b[39mlen\u001b[39m(locator\u001b[39m.\u001b[39mlocs) \u001b[39m!=\u001b[39m \u001b[39mlen\u001b[39m(labels) \u001b[39mand\u001b[39;00m \u001b[39mlen\u001b[39m(labels) \u001b[39m!=\u001b[39m \u001b[39m0\u001b[39m:\n\u001b[1;32m-> 1969\u001b[0m         \u001b[39mraise\u001b[39;00m \u001b[39mValueError\u001b[39;00m(\n\u001b[0;32m   1970\u001b[0m             \u001b[39m\"\u001b[39m\u001b[39mThe number of FixedLocator locations\u001b[39m\u001b[39m\"\u001b[39m\n\u001b[0;32m   1971\u001b[0m             \u001b[39mf\u001b[39m\u001b[39m\"\u001b[39m\u001b[39m (\u001b[39m\u001b[39m{\u001b[39;00m\u001b[39mlen\u001b[39m(locator\u001b[39m.\u001b[39mlocs)\u001b[39m}\u001b[39;00m\u001b[39m), usually from a call to\u001b[39m\u001b[39m\"\u001b[39m\n\u001b[0;32m   1972\u001b[0m             \u001b[39m\"\u001b[39m\u001b[39m set_ticks, does not match\u001b[39m\u001b[39m\"\u001b[39m\n\u001b[0;32m   1973\u001b[0m             \u001b[39mf\u001b[39m\u001b[39m\"\u001b[39m\u001b[39m the number of labels (\u001b[39m\u001b[39m{\u001b[39;00m\u001b[39mlen\u001b[39m(labels)\u001b[39m}\u001b[39;00m\u001b[39m).\u001b[39m\u001b[39m\"\u001b[39m)\n\u001b[0;32m   1974\u001b[0m     tickd \u001b[39m=\u001b[39m {loc: lab \u001b[39mfor\u001b[39;00m loc, lab \u001b[39min\u001b[39;00m \u001b[39mzip\u001b[39m(locator\u001b[39m.\u001b[39mlocs, labels)}\n\u001b[0;32m   1975\u001b[0m     func \u001b[39m=\u001b[39m functools\u001b[39m.\u001b[39mpartial(\u001b[39mself\u001b[39m\u001b[39m.\u001b[39m_format_with_dict, tickd)\n",
      "\u001b[1;31mValueError\u001b[0m: The number of FixedLocator locations (10), usually from a call to set_ticks, does not match the number of labels (2)."
     ]
    },
    {
     "data": {
      "image/png": "[encoded data removed]",
      "text/plain": [
       "<Figure size 500x500 with 2 Axes>"
      ]
     },
     "metadata": {},
     "output_type": "display_data"
    }
   ],
   "source": [
    "# no se puede crear una matriz de confuncion ya que solo maneja 0 y 1 y los valore de calificacion son 1 al 10\n",
    "y_pred=nb.predict(xtest)\n",
    "confusion(ytest,y_pred)"
   ]
  },
  {
   "attachments": {},
   "cell_type": "markdown",
   "metadata": {},
   "source": [
    "### Random Forest"
   ]
  },
  {
   "cell_type": "code",
   "execution_count": 909,
   "metadata": {},
   "outputs": [
    {
     "name": "stdout",
     "output_type": "stream",
     "text": [
      "acc:  0.32307147912243456\n"
     ]
    }
   ],
   "source": [
    "rf = RandomForestClassifier(n_estimators = 50, random_state=42)\n",
    "rf.fit(xtrain,ytrain)\n",
    "print(\"acc: \",rf.score(xtest,ytest))"
   ]
  },
  {
   "cell_type": "code",
   "execution_count": 910,
   "metadata": {},
   "outputs": [
    {
     "ename": "ValueError",
     "evalue": "The number of FixedLocator locations (10), usually from a call to set_ticks, does not match the number of labels (2).",
     "output_type": "error",
     "traceback": [
      "\u001b[1;31m---------------------------------------------------------------------------\u001b[0m",
      "\u001b[1;31mValueError\u001b[0m                                Traceback (most recent call last)",
      "Cell \u001b[1;32mIn[910], line 2\u001b[0m\n\u001b[0;32m      1\u001b[0m y_pred\u001b[39m=\u001b[39m rf\u001b[39m.\u001b[39mpredict(xtest)\n\u001b[1;32m----> 2\u001b[0m confusion(ytest,y_pred)\n",
      "Cell \u001b[1;32mIn[906], line 8\u001b[0m, in \u001b[0;36mconfusion\u001b[1;34m(ytest, y_pred)\u001b[0m\n\u001b[0;32m      6\u001b[0m plt\u001b[39m.\u001b[39mxlabel(\u001b[39m\"\u001b[39m\u001b[39my_pred\u001b[39m\u001b[39m\"\u001b[39m)\n\u001b[0;32m      7\u001b[0m plt\u001b[39m.\u001b[39mylabel(\u001b[39m\"\u001b[39m\u001b[39my_true\u001b[39m\u001b[39m\"\u001b[39m)\n\u001b[1;32m----> 8\u001b[0m ax\u001b[39m.\u001b[39;49mset_xticklabels(names)\n\u001b[0;32m      9\u001b[0m ax\u001b[39m.\u001b[39mset_yticklabels(names)\n\u001b[0;32m     10\u001b[0m plt\u001b[39m.\u001b[39mshow()\n",
      "File \u001b[1;32mc:\\Users\\Alberto\\AppData\\Local\\Programs\\Python\\Python311\\Lib\\site-packages\\matplotlib\\axes\\_base.py:74\u001b[0m, in \u001b[0;36m_axis_method_wrapper.__set_name__.<locals>.wrapper\u001b[1;34m(self, *args, **kwargs)\u001b[0m\n\u001b[0;32m     73\u001b[0m \u001b[39mdef\u001b[39;00m \u001b[39mwrapper\u001b[39m(\u001b[39mself\u001b[39m, \u001b[39m*\u001b[39margs, \u001b[39m*\u001b[39m\u001b[39m*\u001b[39mkwargs):\n\u001b[1;32m---> 74\u001b[0m     \u001b[39mreturn\u001b[39;00m get_method(\u001b[39mself\u001b[39;49m)(\u001b[39m*\u001b[39;49margs, \u001b[39m*\u001b[39;49m\u001b[39m*\u001b[39;49mkwargs)\n",
      "File \u001b[1;32mc:\\Users\\Alberto\\AppData\\Local\\Programs\\Python\\Python311\\Lib\\site-packages\\matplotlib\\_api\\deprecation.py:297\u001b[0m, in \u001b[0;36mrename_parameter.<locals>.wrapper\u001b[1;34m(*args, **kwargs)\u001b[0m\n\u001b[0;32m    292\u001b[0m     warn_deprecated(\n\u001b[0;32m    293\u001b[0m         since, message\u001b[39m=\u001b[39m\u001b[39mf\u001b[39m\u001b[39m\"\u001b[39m\u001b[39mThe \u001b[39m\u001b[39m{\u001b[39;00mold\u001b[39m!r}\u001b[39;00m\u001b[39m parameter of \u001b[39m\u001b[39m{\u001b[39;00mfunc\u001b[39m.\u001b[39m\u001b[39m__name__\u001b[39m\u001b[39m}\u001b[39;00m\u001b[39m() \u001b[39m\u001b[39m\"\u001b[39m\n\u001b[0;32m    294\u001b[0m         \u001b[39mf\u001b[39m\u001b[39m\"\u001b[39m\u001b[39mhas been renamed \u001b[39m\u001b[39m{\u001b[39;00mnew\u001b[39m!r}\u001b[39;00m\u001b[39m since Matplotlib \u001b[39m\u001b[39m{\u001b[39;00msince\u001b[39m}\u001b[39;00m\u001b[39m; support \u001b[39m\u001b[39m\"\u001b[39m\n\u001b[0;32m    295\u001b[0m         \u001b[39mf\u001b[39m\u001b[39m\"\u001b[39m\u001b[39mfor the old name will be dropped %(removal)s.\u001b[39m\u001b[39m\"\u001b[39m)\n\u001b[0;32m    296\u001b[0m     kwargs[new] \u001b[39m=\u001b[39m kwargs\u001b[39m.\u001b[39mpop(old)\n\u001b[1;32m--> 297\u001b[0m \u001b[39mreturn\u001b[39;00m func(\u001b[39m*\u001b[39;49margs, \u001b[39m*\u001b[39;49m\u001b[39m*\u001b[39;49mkwargs)\n",
      "File \u001b[1;32mc:\\Users\\Alberto\\AppData\\Local\\Programs\\Python\\Python311\\Lib\\site-packages\\matplotlib\\axis.py:1969\u001b[0m, in \u001b[0;36mAxis.set_ticklabels\u001b[1;34m(self, labels, minor, fontdict, **kwargs)\u001b[0m\n\u001b[0;32m   1965\u001b[0m \u001b[39mif\u001b[39;00m \u001b[39misinstance\u001b[39m(locator, mticker\u001b[39m.\u001b[39mFixedLocator):\n\u001b[0;32m   1966\u001b[0m     \u001b[39m# Passing [] as a list of labels is often used as a way to\u001b[39;00m\n\u001b[0;32m   1967\u001b[0m     \u001b[39m# remove all tick labels, so only error for > 0 labels\u001b[39;00m\n\u001b[0;32m   1968\u001b[0m     \u001b[39mif\u001b[39;00m \u001b[39mlen\u001b[39m(locator\u001b[39m.\u001b[39mlocs) \u001b[39m!=\u001b[39m \u001b[39mlen\u001b[39m(labels) \u001b[39mand\u001b[39;00m \u001b[39mlen\u001b[39m(labels) \u001b[39m!=\u001b[39m \u001b[39m0\u001b[39m:\n\u001b[1;32m-> 1969\u001b[0m         \u001b[39mraise\u001b[39;00m \u001b[39mValueError\u001b[39;00m(\n\u001b[0;32m   1970\u001b[0m             \u001b[39m\"\u001b[39m\u001b[39mThe number of FixedLocator locations\u001b[39m\u001b[39m\"\u001b[39m\n\u001b[0;32m   1971\u001b[0m             \u001b[39mf\u001b[39m\u001b[39m\"\u001b[39m\u001b[39m (\u001b[39m\u001b[39m{\u001b[39;00m\u001b[39mlen\u001b[39m(locator\u001b[39m.\u001b[39mlocs)\u001b[39m}\u001b[39;00m\u001b[39m), usually from a call to\u001b[39m\u001b[39m\"\u001b[39m\n\u001b[0;32m   1972\u001b[0m             \u001b[39m\"\u001b[39m\u001b[39m set_ticks, does not match\u001b[39m\u001b[39m\"\u001b[39m\n\u001b[0;32m   1973\u001b[0m             \u001b[39mf\u001b[39m\u001b[39m\"\u001b[39m\u001b[39m the number of labels (\u001b[39m\u001b[39m{\u001b[39;00m\u001b[39mlen\u001b[39m(labels)\u001b[39m}\u001b[39;00m\u001b[39m).\u001b[39m\u001b[39m\"\u001b[39m)\n\u001b[0;32m   1974\u001b[0m     tickd \u001b[39m=\u001b[39m {loc: lab \u001b[39mfor\u001b[39;00m loc, lab \u001b[39min\u001b[39;00m \u001b[39mzip\u001b[39m(locator\u001b[39m.\u001b[39mlocs, labels)}\n\u001b[0;32m   1975\u001b[0m     func \u001b[39m=\u001b[39m functools\u001b[39m.\u001b[39mpartial(\u001b[39mself\u001b[39m\u001b[39m.\u001b[39m_format_with_dict, tickd)\n",
      "\u001b[1;31mValueError\u001b[0m: The number of FixedLocator locations (10), usually from a call to set_ticks, does not match the number of labels (2)."
     ]
    },
    {
     "data": {
      "image/png": "[encoded data removed]",
      "text/plain": [
       "<Figure size 500x500 with 2 Axes>"
      ]
     },
     "metadata": {},
     "output_type": "display_data"
    }
   ],
   "source": [
    "y_pred= rf.predict(xtest)\n",
    "confusion(ytest,y_pred)"
   ]
  },
  {
   "cell_type": "code",
   "execution_count": null,
   "metadata": {},
   "outputs": [],
   "source": [
    "SVM"
   ]
  },
  {
   "cell_type": "code",
   "execution_count": 916,
   "metadata": {},
   "outputs": [
    {
     "data": {
      "text/plain": [
       "0.3315640481245577"
      ]
     },
     "execution_count": 916,
     "metadata": {},
     "output_type": "execute_result"
    }
   ],
   "source": [
    "# Notar que en vez de utilizar SVC, vamos a usar LinearSVC. \n",
    "# Para el Kernel Lineal, esta función es MUCHO mas rapida que la tradicional SVC.\n",
    "from sklearn.svm import LinearSVC\n",
    "\n",
    "svc = LinearSVC(C = 1)\n",
    "svc.fit(xtrain,ytrain)\n",
    "svc.score(xtest,ytest)"
   ]
  }
 ],
 "metadata": {
  "kernelspec": {
   "display_name": "Python 3",
   "language": "python",
   "name": "python3"
  },
  "language_info": {
   "codemirror_mode": {
    "name": "ipython",
    "version": 3
   },
   "file_extension": ".py",
   "mimetype": "text/x-python",
   "name": "python",
   "nbconvert_exporter": "python",
   "pygments_lexer": "ipython3",
   "version": "3.11.2"
  },
  "orig_nbformat": 4
 },
 "nbformat": 4,
 "nbformat_minor": 2
}
