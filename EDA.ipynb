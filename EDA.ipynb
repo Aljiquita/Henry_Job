{
 "cells": [
  {
   "attachments": {},
   "cell_type": "markdown",
   "metadata": {},
   "source": [
    "# *** EDA Sistema de recomendación  OJO: este modelo me entrega un porcentaje de predicción muy bajo 0.3***"
   ]
  },
  {
   "cell_type": "code",
   "execution_count": 120,
   "metadata": {},
   "outputs": [],
   "source": [
    "import pandas as pd\n",
    "import numpy as np\n",
    "import matplotlib.pyplot as plt\n",
    "import seaborn as sns\n",
    "sns.set()\n",
    "import nltk\n",
    "#import itertools\n",
    "from nltk.stem import PorterStemmer\n",
    "stemmer = PorterStemmer()\n",
    "from nltk.stem import WordNetLemmatizer\n",
    "wordnet_lemmatizer = WordNetLemmatizer()\n",
    "\n",
    "from sklearn.feature_extraction.text import CountVectorizer\n",
    "from sklearn.model_selection import train_test_split\n",
    "from sklearn.metrics import confusion_matrix\n",
    "from sklearn.naive_bayes import GaussianNB\n",
    "from sklearn.ensemble import RandomForestClassifier\n",
    "\n",
    "from nltk.corpus import wordnet\n",
    "\n",
    "#nltk.download('punkt')\n",
    "#nltk.download('stopwords')\n"
   ]
  },
  {
   "cell_type": "code",
   "execution_count": 121,
   "metadata": {},
   "outputs": [],
   "source": [
    "df = pd.read_csv(\"./DataSet/movies_dataset_Para_EDA.csv\")"
   ]
  },
  {
   "cell_type": "code",
   "execution_count": 122,
   "metadata": {},
   "outputs": [
    {
     "data": {
      "text/plain": [
       "title           42388\n",
       "vote_average    42388\n",
       "dtype: int64"
      ]
     },
     "execution_count": 122,
     "metadata": {},
     "output_type": "execute_result"
    }
   ],
   "source": [
    "df.count()"
   ]
  },
  {
   "cell_type": "code",
   "execution_count": 123,
   "metadata": {},
   "outputs": [
    {
     "data": {
      "text/plain": [
       "Index(['title', 'vote_average'], dtype='object')"
      ]
     },
     "execution_count": 123,
     "metadata": {},
     "output_type": "execute_result"
    }
   ],
   "source": [
    "df.columns"
   ]
  },
  {
   "cell_type": "code",
   "execution_count": 124,
   "metadata": {},
   "outputs": [
    {
     "data": {
      "text/html": [
       "<div>\n",
       "<style scoped>\n",
       "    .dataframe tbody tr th:only-of-type {\n",
       "        vertical-align: middle;\n",
       "    }\n",
       "\n",
       "    .dataframe tbody tr th {\n",
       "        vertical-align: top;\n",
       "    }\n",
       "\n",
       "    .dataframe thead th {\n",
       "        text-align: right;\n",
       "    }\n",
       "</style>\n",
       "<table border=\"1\" class=\"dataframe\">\n",
       "  <thead>\n",
       "    <tr style=\"text-align: right;\">\n",
       "      <th></th>\n",
       "      <th>title</th>\n",
       "      <th>vote_average</th>\n",
       "    </tr>\n",
       "  </thead>\n",
       "  <tbody>\n",
       "    <tr>\n",
       "      <th>26213</th>\n",
       "      <td>The Court-Martial of Jackie Robinson</td>\n",
       "      <td>10</td>\n",
       "    </tr>\n",
       "    <tr>\n",
       "      <th>877</th>\n",
       "      <td>The Adventures of Robin Hood</td>\n",
       "      <td>7</td>\n",
       "    </tr>\n",
       "    <tr>\n",
       "      <th>24788</th>\n",
       "      <td>Robin Williams: Weapons of Self Destruction</td>\n",
       "      <td>7</td>\n",
       "    </tr>\n",
       "    <tr>\n",
       "      <th>949</th>\n",
       "      <td>Swiss Family Robinson</td>\n",
       "      <td>7</td>\n",
       "    </tr>\n",
       "    <tr>\n",
       "      <th>40709</th>\n",
       "      <td>Robin Williams: Live on Broadway</td>\n",
       "      <td>7</td>\n",
       "    </tr>\n",
       "  </tbody>\n",
       "</table>\n",
       "</div>"
      ],
      "text/plain": [
       "                                             title  vote_average\n",
       "26213         The Court-Martial of Jackie Robinson            10\n",
       "877                   The Adventures of Robin Hood             7\n",
       "24788  Robin Williams: Weapons of Self Destruction             7\n",
       "949                          Swiss Family Robinson             7\n",
       "40709             Robin Williams: Live on Broadway             7"
      ]
     },
     "execution_count": 124,
     "metadata": {},
     "output_type": "execute_result"
    }
   ],
   "source": [
    "\n",
    "plReco = df[[\"title\", 'vote_average']][df['title'].str.contains(\"Robin\")]\n",
    "plReco = plReco.sort_values(by='vote_average', ascending= False)  \n",
    "plReco.head(5)    "
   ]
  },
  {
   "cell_type": "code",
   "execution_count": 125,
   "metadata": {},
   "outputs": [
    {
     "data": {
      "text/plain": [
       "'Robin Hood'"
      ]
     },
     "execution_count": 125,
     "metadata": {},
     "output_type": "execute_result"
    }
   ],
   "source": [
    "tex = \"robin hood\"\n",
    "tex = tex.title()\n",
    "tex"
   ]
  },
  {
   "cell_type": "code",
   "execution_count": 126,
   "metadata": {},
   "outputs": [],
   "source": [
    "def get_recommendation(titulo: str):\n",
    "    df = pd.read_csv(\"./DataSet/movies_dataset_Para_EDA.csv\")\n",
    "    plReco = df[[\"title\", 'vote_average']][df['title'].str.contains(f\"{titulo.title()}\")]\n",
    "    plReco = plReco.sort_values(by=\"vote_average\", ascending= False)  \n",
    "    return plReco.head(5)"
   ]
  },
  {
   "cell_type": "code",
   "execution_count": 127,
   "metadata": {},
   "outputs": [
    {
     "data": {
      "text/html": [
       "<div>\n",
       "<style scoped>\n",
       "    .dataframe tbody tr th:only-of-type {\n",
       "        vertical-align: middle;\n",
       "    }\n",
       "\n",
       "    .dataframe tbody tr th {\n",
       "        vertical-align: top;\n",
       "    }\n",
       "\n",
       "    .dataframe thead th {\n",
       "        text-align: right;\n",
       "    }\n",
       "</style>\n",
       "<table border=\"1\" class=\"dataframe\">\n",
       "  <thead>\n",
       "    <tr style=\"text-align: right;\">\n",
       "      <th></th>\n",
       "      <th>title</th>\n",
       "      <th>vote_average</th>\n",
       "    </tr>\n",
       "  </thead>\n",
       "  <tbody>\n",
       "    <tr>\n",
       "      <th>26213</th>\n",
       "      <td>The Court-Martial of Jackie Robinson</td>\n",
       "      <td>10</td>\n",
       "    </tr>\n",
       "    <tr>\n",
       "      <th>877</th>\n",
       "      <td>The Adventures of Robin Hood</td>\n",
       "      <td>7</td>\n",
       "    </tr>\n",
       "    <tr>\n",
       "      <th>24788</th>\n",
       "      <td>Robin Williams: Weapons of Self Destruction</td>\n",
       "      <td>7</td>\n",
       "    </tr>\n",
       "    <tr>\n",
       "      <th>949</th>\n",
       "      <td>Swiss Family Robinson</td>\n",
       "      <td>7</td>\n",
       "    </tr>\n",
       "    <tr>\n",
       "      <th>40709</th>\n",
       "      <td>Robin Williams: Live on Broadway</td>\n",
       "      <td>7</td>\n",
       "    </tr>\n",
       "  </tbody>\n",
       "</table>\n",
       "</div>"
      ],
      "text/plain": [
       "                                             title  vote_average\n",
       "26213         The Court-Martial of Jackie Robinson            10\n",
       "877                   The Adventures of Robin Hood             7\n",
       "24788  Robin Williams: Weapons of Self Destruction             7\n",
       "949                          Swiss Family Robinson             7\n",
       "40709             Robin Williams: Live on Broadway             7"
      ]
     },
     "execution_count": 127,
     "metadata": {},
     "output_type": "execute_result"
    }
   ],
   "source": [
    "get_recommendation(\"robin\")"
   ]
  },
  {
   "attachments": {},
   "cell_type": "markdown",
   "metadata": {},
   "source": [
    "## ***1- ANÁLISIS DE COLECCIÓN***"
   ]
  },
  {
   "cell_type": "code",
   "execution_count": 128,
   "metadata": {},
   "outputs": [
    {
     "data": {
      "image/png": "[encoded data removed]",
      "text/plain": [
       "<Figure size 640x480 with 1 Axes>"
      ]
     },
     "metadata": {},
     "output_type": "display_data"
    }
   ],
   "source": [
    "sns.countplot(x= \"vote_average\", data = df )\n",
    "plt.show()"
   ]
  },
  {
   "attachments": {},
   "cell_type": "markdown",
   "metadata": {},
   "source": [
    "***"
   ]
  },
  {
   "attachments": {},
   "cell_type": "markdown",
   "metadata": {},
   "source": [
    "***"
   ]
  },
  {
   "attachments": {},
   "cell_type": "markdown",
   "metadata": {},
   "source": [
    "***"
   ]
  },
  {
   "cell_type": "code",
   "execution_count": 129,
   "metadata": {},
   "outputs": [
    {
     "data": {
      "text/html": [
       "<div>\n",
       "<style scoped>\n",
       "    .dataframe tbody tr th:only-of-type {\n",
       "        vertical-align: middle;\n",
       "    }\n",
       "\n",
       "    .dataframe tbody tr th {\n",
       "        vertical-align: top;\n",
       "    }\n",
       "\n",
       "    .dataframe thead th {\n",
       "        text-align: right;\n",
       "    }\n",
       "</style>\n",
       "<table border=\"1\" class=\"dataframe\">\n",
       "  <thead>\n",
       "    <tr style=\"text-align: right;\">\n",
       "      <th></th>\n",
       "      <th>title</th>\n",
       "      <th>vote_average</th>\n",
       "    </tr>\n",
       "  </thead>\n",
       "  <tbody>\n",
       "    <tr>\n",
       "      <th>0</th>\n",
       "      <td>Toy Story</td>\n",
       "      <td>7</td>\n",
       "    </tr>\n",
       "    <tr>\n",
       "      <th>1</th>\n",
       "      <td>Jumanji</td>\n",
       "      <td>6</td>\n",
       "    </tr>\n",
       "    <tr>\n",
       "      <th>2</th>\n",
       "      <td>Grumpier Old Men</td>\n",
       "      <td>6</td>\n",
       "    </tr>\n",
       "    <tr>\n",
       "      <th>3</th>\n",
       "      <td>Waiting to Exhale</td>\n",
       "      <td>6</td>\n",
       "    </tr>\n",
       "    <tr>\n",
       "      <th>4</th>\n",
       "      <td>Father of the Bride Part II</td>\n",
       "      <td>5</td>\n",
       "    </tr>\n",
       "  </tbody>\n",
       "</table>\n",
       "</div>"
      ],
      "text/plain": [
       "                         title  vote_average\n",
       "0                    Toy Story             7\n",
       "1                      Jumanji             6\n",
       "2             Grumpier Old Men             6\n",
       "3            Waiting to Exhale             6\n",
       "4  Father of the Bride Part II             5"
      ]
     },
     "execution_count": 129,
     "metadata": {},
     "output_type": "execute_result"
    }
   ],
   "source": [
    "df.head()"
   ]
  },
  {
   "cell_type": "code",
   "execution_count": 130,
   "metadata": {},
   "outputs": [
    {
     "data": {
      "text/plain": [
       "(42388, 2)"
      ]
     },
     "execution_count": 130,
     "metadata": {},
     "output_type": "execute_result"
    }
   ],
   "source": [
    "df.shape"
   ]
  },
  {
   "cell_type": "code",
   "execution_count": 131,
   "metadata": {},
   "outputs": [
    {
     "data": {
      "image/png": "[encoded data removed]",
      "text/plain": [
       "<Figure size 640x480 with 1 Axes>"
      ]
     },
     "metadata": {},
     "output_type": "display_data"
    }
   ],
   "source": [
    "sns.countplot(x= \"vote_average\", data = df )\n",
    "plt.show()"
   ]
  },
  {
   "attachments": {},
   "cell_type": "markdown",
   "metadata": {},
   "source": [
    "## ***2- Exploración de datos***"
   ]
  },
  {
   "cell_type": "code",
   "execution_count": 132,
   "metadata": {},
   "outputs": [
    {
     "name": "stdout",
     "output_type": "stream",
     "text": [
      "41308 Night of the Blood Beast\n"
     ]
    }
   ],
   "source": [
    "index_random_titulo_pelicula = np.random.randint(0, high= df.shape[0])\n",
    "titulo_pelicula = df.iloc[index_random_titulo_pelicula].title\n",
    "print(index_random_titulo_pelicula, titulo_pelicula)"
   ]
  },
  {
   "cell_type": "code",
   "execution_count": 133,
   "metadata": {},
   "outputs": [
    {
     "name": "stdout",
     "output_type": "stream",
     "text": [
      "41308 2\n"
     ]
    }
   ],
   "source": [
    "print(index_random_titulo_pelicula, df.iloc[index_random_titulo_pelicula].vote_average)"
   ]
  },
  {
   "attachments": {},
   "cell_type": "markdown",
   "metadata": {},
   "source": [
    "## ***3- NLTK***"
   ]
  },
  {
   "cell_type": "code",
   "execution_count": 134,
   "metadata": {},
   "outputs": [
    {
     "data": {
      "text/plain": [
       "['Night', 'of', 'the', 'Blood', 'Beast']"
      ]
     },
     "execution_count": 134,
     "metadata": {},
     "output_type": "execute_result"
    }
   ],
   "source": [
    "## Tokenizr por palabras\n",
    "titulo_wk = nltk.tokenize.word_tokenize(titulo_pelicula)\n",
    "titulo_wk"
   ]
  },
  {
   "cell_type": "code",
   "execution_count": 135,
   "metadata": {},
   "outputs": [
    {
     "data": {
      "text/plain": [
       "'  el    día    de    ayer    fue    el    día    más    lluvioso    del    año    !    !       '"
      ]
     },
     "execution_count": 135,
     "metadata": {},
     "output_type": "execute_result"
    }
   ],
   "source": [
    "## re Exprecion regular \n",
    "import re\n",
    "titular_wt = nltk.tokenize.word_tokenize(\"El día de ayer fue el día más lluvioso del año!!.\".lower())\n",
    "re.sub(\"[^a-zA-Z!ñíá]\",\" \",str(titular_wt))"
   ]
  },
  {
   "attachments": {},
   "cell_type": "markdown",
   "metadata": {},
   "source": [
    "### Normalizar"
   ]
  },
  {
   "cell_type": "code",
   "execution_count": 136,
   "metadata": {},
   "outputs": [],
   "source": [
    "# Diccionario de palabras inutilies en ingles es 'english' en español es 'apanish'\n",
    "stopwords = nltk.corpus.stopwords.words('english')\n",
    "stopwords = [palabra for palabra in stopwords if 'not' not in palabra]\n",
    "stopwords\n",
    "stopwords.append(\":\") # agregar una palabra inútil\n",
    "filtrar = []\n",
    "if True:\n",
    "    filtrar.append(\"u\")\n",
    "    filtrar.append(\"new\")"
   ]
  },
  {
   "cell_type": "code",
   "execution_count": 137,
   "metadata": {},
   "outputs": [
    {
     "data": {
      "text/plain": [
       "['Night', 'of', 'the', 'Blood', 'Beast']"
      ]
     },
     "execution_count": 137,
     "metadata": {},
     "output_type": "execute_result"
    }
   ],
   "source": [
    "titulo_wk"
   ]
  },
  {
   "cell_type": "code",
   "execution_count": 138,
   "metadata": {},
   "outputs": [
    {
     "data": {
      "text/plain": [
       "['Night', 'Blood', 'Beast']"
      ]
     },
     "execution_count": 138,
     "metadata": {},
     "output_type": "execute_result"
    }
   ],
   "source": [
    "# Eliminar palabras inútiles\n",
    "titulo_wk_sin_sw = [word for word in titulo_wk if word not in stopwords]\n",
    "titulo_wk_sin_sw"
   ]
  },
  {
   "cell_type": "code",
   "execution_count": 139,
   "metadata": {},
   "outputs": [
    {
     "data": {
      "text/plain": [
       "['Night', 'of', 'the', 'Blood', 'Beast']"
      ]
     },
     "execution_count": 139,
     "metadata": {},
     "output_type": "execute_result"
    }
   ],
   "source": [
    "titulo_wk = nltk.tokenize.word_tokenize(titulo_pelicula)\n",
    "titulo_wk"
   ]
  },
  {
   "attachments": {},
   "cell_type": "markdown",
   "metadata": {},
   "source": [
    "***"
   ]
  },
  {
   "attachments": {},
   "cell_type": "markdown",
   "metadata": {},
   "source": [
    "***"
   ]
  },
  {
   "attachments": {},
   "cell_type": "markdown",
   "metadata": {},
   "source": [
    "***"
   ]
  },
  {
   "attachments": {},
   "cell_type": "markdown",
   "metadata": {},
   "source": [
    "### Convertimos los títulos en listas de palabras Mayores de 7"
   ]
  },
  {
   "attachments": {},
   "cell_type": "markdown",
   "metadata": {},
   "source": [
    "stopwords = nltk.corpus.stopwords.words('english')\n",
    "stopwords = [palabra for palabra in stopwords if 'not' not in palabra]\n",
    "stopwords\n",
    "stopwords.append(\"-\")\n",
    "filtrar = []\n",
    "if True:\n",
    "    filtrar.append(\"u\")\n",
    "    filtrar.append(\"new\")"
   ]
  },
  {
   "attachments": {},
   "cell_type": "markdown",
   "metadata": {},
   "source": [
    "# mascara\n",
    "df_vote_average_mayores_7 = df[df.vote_average >= 7]\n",
    "df_vote_average_mayores_7.head()"
   ]
  },
  {
   "attachments": {},
   "cell_type": "markdown",
   "metadata": {},
   "source": [
    "todos_titulos_vote_average_mayores_7 = []\n",
    "for i in range(df_vote_average_mayores_7.shape[0]):\n",
    "    titulo = df_vote_average_mayores_7.iloc[i].title\n",
    "    titulo = re.sub(\"[^a-zA-Z!ñíá]\",\" \",str(titulo)).lower()\n",
    "    titulo = nltk.tokenize.RegexpTokenizer(\"[\\w]+\").tokenize(titulo)\n",
    "    titulo = [word for word in titulo if word not in stopwords]\n",
    "    titulo = [word for word in titulo if word not in filtrar]\n",
    "\n",
    "    todos_titulos_vote_average_mayores_7.append(titulo)"
   ]
  },
  {
   "attachments": {},
   "cell_type": "markdown",
   "metadata": {},
   "source": [
    "todos_titulos_vote_average_mayores_7 = list(itertools.chain(*todos_titulos_vote_average_mayores_7))"
   ]
  },
  {
   "attachments": {},
   "cell_type": "markdown",
   "metadata": {},
   "source": [
    "# mostramos la palabras mas repetidas\n",
    "freq_vote_average_mayores_7 = nltk.FreqDist(todos_titulos_vote_average_mayores_7)\n",
    "freq_vote_average_mayores_7"
   ]
  },
  {
   "attachments": {},
   "cell_type": "markdown",
   "metadata": {},
   "source": [
    "# Creamos un DataFrame con la frecuencia de las palabras\n",
    "df_vote_average_mayores_7 = pd.DataFrame(list(freq_vote_average_mayores_7.items()), columns= [\"Palabras\", \"Frecuencia\"])\n",
    "df_vote_average_mayores_7.sort_values(\"Frecuencia\", ascending= False, inplace= True)\n",
    "df_vote_average_mayores_7.head()"
   ]
  },
  {
   "attachments": {},
   "cell_type": "markdown",
   "metadata": {},
   "source": [
    "df_vote_average_mayores_7.shape"
   ]
  },
  {
   "attachments": {},
   "cell_type": "markdown",
   "metadata": {},
   "source": [
    "https://www.students.soyhenry.com/classes/108?cohortId=116&videoOrdinal=2\n",
    "31:16"
   ]
  },
  {
   "attachments": {},
   "cell_type": "markdown",
   "metadata": {},
   "source": [
    "***"
   ]
  },
  {
   "attachments": {},
   "cell_type": "markdown",
   "metadata": {},
   "source": [
    "***"
   ]
  },
  {
   "attachments": {},
   "cell_type": "markdown",
   "metadata": {},
   "source": [
    "***"
   ]
  },
  {
   "attachments": {},
   "cell_type": "markdown",
   "metadata": {},
   "source": [
    "# 4. Stemming => palabra raiz"
   ]
  },
  {
   "cell_type": "code",
   "execution_count": 140,
   "metadata": {},
   "outputs": [],
   "source": [
    "\n",
    "\n",
    "def get_wordnet_pos(word):\n",
    "    \"\"\"Map POS tag to first character lemmatize() accepts\"\"\"\n",
    "    tag = nltk.pos_tag([word])[0][1][0].upper()\n",
    "    tag_dict = {\"J\": wordnet.ADJ,\n",
    "                \"N\": wordnet.NOUN,\n",
    "                \"V\": wordnet.VERB,\n",
    "                \"R\": wordnet.ADV}\n",
    "\n",
    "    return tag_dict.get(tag, wordnet.NOUN)"
   ]
  },
  {
   "cell_type": "code",
   "execution_count": 141,
   "metadata": {},
   "outputs": [],
   "source": [
    "df = pd.read_csv(\"./DataSet/movies_dataset_Para_EDA.csv\")\n"
   ]
  },
  {
   "cell_type": "code",
   "execution_count": 142,
   "metadata": {},
   "outputs": [
    {
     "data": {
      "text/html": [
       "<div>\n",
       "<style scoped>\n",
       "    .dataframe tbody tr th:only-of-type {\n",
       "        vertical-align: middle;\n",
       "    }\n",
       "\n",
       "    .dataframe tbody tr th {\n",
       "        vertical-align: top;\n",
       "    }\n",
       "\n",
       "    .dataframe thead th {\n",
       "        text-align: right;\n",
       "    }\n",
       "</style>\n",
       "<table border=\"1\" class=\"dataframe\">\n",
       "  <thead>\n",
       "    <tr style=\"text-align: right;\">\n",
       "      <th></th>\n",
       "      <th>title</th>\n",
       "      <th>vote_average</th>\n",
       "    </tr>\n",
       "  </thead>\n",
       "  <tbody>\n",
       "    <tr>\n",
       "      <th>0</th>\n",
       "      <td>Toy Story</td>\n",
       "      <td>7</td>\n",
       "    </tr>\n",
       "    <tr>\n",
       "      <th>1</th>\n",
       "      <td>Jumanji</td>\n",
       "      <td>6</td>\n",
       "    </tr>\n",
       "    <tr>\n",
       "      <th>2</th>\n",
       "      <td>Grumpier Old Men</td>\n",
       "      <td>6</td>\n",
       "    </tr>\n",
       "    <tr>\n",
       "      <th>3</th>\n",
       "      <td>Waiting to Exhale</td>\n",
       "      <td>6</td>\n",
       "    </tr>\n",
       "    <tr>\n",
       "      <th>4</th>\n",
       "      <td>Father of the Bride Part II</td>\n",
       "      <td>5</td>\n",
       "    </tr>\n",
       "    <tr>\n",
       "      <th>...</th>\n",
       "      <td>...</td>\n",
       "      <td>...</td>\n",
       "    </tr>\n",
       "    <tr>\n",
       "      <th>42383</th>\n",
       "      <td>The Burkittsville 7</td>\n",
       "      <td>7</td>\n",
       "    </tr>\n",
       "    <tr>\n",
       "      <th>42384</th>\n",
       "      <td>Caged Heat 3000</td>\n",
       "      <td>3</td>\n",
       "    </tr>\n",
       "    <tr>\n",
       "      <th>42385</th>\n",
       "      <td>Robin Hood</td>\n",
       "      <td>5</td>\n",
       "    </tr>\n",
       "    <tr>\n",
       "      <th>42386</th>\n",
       "      <td>Century of Birthing</td>\n",
       "      <td>9</td>\n",
       "    </tr>\n",
       "    <tr>\n",
       "      <th>42387</th>\n",
       "      <td>Betrayal</td>\n",
       "      <td>3</td>\n",
       "    </tr>\n",
       "  </tbody>\n",
       "</table>\n",
       "<p>42388 rows × 2 columns</p>\n",
       "</div>"
      ],
      "text/plain": [
       "                             title  vote_average\n",
       "0                        Toy Story             7\n",
       "1                          Jumanji             6\n",
       "2                 Grumpier Old Men             6\n",
       "3                Waiting to Exhale             6\n",
       "4      Father of the Bride Part II             5\n",
       "...                            ...           ...\n",
       "42383          The Burkittsville 7             7\n",
       "42384              Caged Heat 3000             3\n",
       "42385                   Robin Hood             5\n",
       "42386          Century of Birthing             9\n",
       "42387                     Betrayal             3\n",
       "\n",
       "[42388 rows x 2 columns]"
      ]
     },
     "execution_count": 142,
     "metadata": {},
     "output_type": "execute_result"
    }
   ],
   "source": [
    "df"
   ]
  },
  {
   "cell_type": "code",
   "execution_count": 143,
   "metadata": {},
   "outputs": [],
   "source": [
    "# Normalizamos el texto\n",
    "\n",
    "stopwords = nltk.corpus.stopwords.words('english')\n"
   ]
  },
  {
   "cell_type": "code",
   "execution_count": 144,
   "metadata": {},
   "outputs": [],
   "source": [
    "# Recorremos todos los titulos y le vamos aplicando la Normalizacion y luega el Stemming a cada uno\n",
    "titulo_list=[]\n",
    "for titulo in df.title:\n",
    "    # Vamos a reemplzar los caracteres que no sean leras por espacios\n",
    "    titulo=re.sub(\"[^a-zA-Z]\",\" \",str(titulo))\n",
    "    # Pasamos todo a minúsculas\n",
    "    titulo=titulo.lower()\n",
    "    # Tokenizamos para separar las palabras del titular\n",
    "    titulo=nltk.word_tokenize(titulo)\n",
    "\n",
    "    # Aplicamos el Lemmatizer (Esto puede tardar un ratito)\n",
    "    frase_lemma = [wordnet_lemmatizer.lemmatize(w, get_wordnet_pos(w)) for w in titulo]\n",
    "\n",
    "\n",
    "    # Eliminamos las palabras de menos de 3 letras\n",
    "    titulo = [palabra for palabra in titulo if len(palabra)>2]\n",
    "    # Sacamos las Stopwords\n",
    "    titulo = [palabra for palabra in titulo if not palabra in stopwords]\n",
    "    \n",
    "    ## Hasta acá Normalizamos, ahora a stemmizar\n",
    "    \n",
    "    # Aplicamos la funcion para buscar la raiz de las palabras\n",
    "    #titulo=[stemmer.stem(palabra) for palabra in titulo]\n",
    "    # Por ultimo volvemos a unir el titular\n",
    "    titulo=\" \".join(titulo)\n",
    "    \n",
    "    # Vamos armando una lista con todos los titulares\n",
    "    titulo_list.append(titulo)\n",
    "    #dataset[\"titular_normalizado\"] = titular_list"
   ]
  },
  {
   "cell_type": "code",
   "execution_count": 145,
   "metadata": {},
   "outputs": [
    {
     "data": {
      "text/plain": [
       "['toy story',\n",
       " 'jumanji',\n",
       " 'grumpier old men',\n",
       " 'waiting exhale',\n",
       " 'father bride part',\n",
       " 'heat',\n",
       " 'sabrina',\n",
       " 'tom huck',\n",
       " 'sudden death',\n",
       " 'goldeneye',\n",
       " 'american president',\n",
       " 'dracula dead loving',\n",
       " 'balto',\n",
       " 'nixon',\n",
       " 'cutthroat island',\n",
       " 'casino',\n",
       " 'sense sensibility',\n",
       " 'four rooms',\n",
       " 'ace ventura nature calls',\n",
       " 'money train',\n",
       " 'get shorty',\n",
       " 'copycat',\n",
       " 'assassins',\n",
       " 'powder',\n",
       " 'leaving las vegas',\n",
       " 'othello',\n",
       " '',\n",
       " 'persuasion',\n",
       " 'city lost children',\n",
       " 'shanghai triad',\n",
       " 'dangerous minds',\n",
       " 'twelve monkeys',\n",
       " 'wings courage',\n",
       " 'babe',\n",
       " 'carrington',\n",
       " 'dead man walking',\n",
       " 'across sea time',\n",
       " 'takes two',\n",
       " 'clueless',\n",
       " 'cry beloved country',\n",
       " 'richard iii',\n",
       " 'dead presidents',\n",
       " 'restoration',\n",
       " 'mortal kombat',\n",
       " 'die',\n",
       " 'make american quilt',\n",
       " '',\n",
       " 'pocahontas',\n",
       " 'night falling',\n",
       " 'usual suspects',\n",
       " 'guardian angel',\n",
       " 'mighty aphrodite',\n",
       " 'lamerica',\n",
       " 'big green',\n",
       " 'georgia',\n",
       " 'kids round table',\n",
       " 'home holidays',\n",
       " 'postman',\n",
       " 'confessional',\n",
       " 'indian cupboard',\n",
       " 'eye eye',\n",
       " 'holland opus',\n",
       " 'menace south central drinking juice hood',\n",
       " 'two sea',\n",
       " 'bio dome',\n",
       " 'lawnmower man beyond cyberspace',\n",
       " 'two bits',\n",
       " 'french twist',\n",
       " 'friday',\n",
       " 'dusk till dawn',\n",
       " 'fair game',\n",
       " 'kicking screaming',\n",
       " 'les miserables',\n",
       " 'bed roses',\n",
       " 'big bully',\n",
       " 'screamers',\n",
       " 'nico icon',\n",
       " 'crossing guard',\n",
       " 'juror',\n",
       " 'white balloon',\n",
       " 'things denver dead',\n",
       " 'antonia line',\n",
       " 'upon time colored',\n",
       " 'angels insects',\n",
       " 'white squall',\n",
       " 'dunston checks',\n",
       " 'black sheep',\n",
       " 'nick time',\n",
       " 'journey august king',\n",
       " 'mary reilly',\n",
       " 'vampire brooklyn',\n",
       " 'beautiful girls',\n",
       " 'broken arrow',\n",
       " 'midwinter tale',\n",
       " 'haine',\n",
       " 'shopping',\n",
       " 'heidi fleiss hollywood madam',\n",
       " 'city hall',\n",
       " 'bottle rocket',\n",
       " 'wrong',\n",
       " 'unforgettable',\n",
       " 'happy gilmore',\n",
       " 'bridges madison county',\n",
       " 'nobody loves',\n",
       " 'muppet treasure island',\n",
       " 'catwalk',\n",
       " 'braveheart',\n",
       " 'taxi driver',\n",
       " 'rumble bronx',\n",
       " '',\n",
       " 'margaret museum',\n",
       " 'happiness field',\n",
       " 'anne frank remembered',\n",
       " 'young poisoner handbook',\n",
       " 'lucy fell',\n",
       " 'steal big steal little',\n",
       " 'race sun',\n",
       " 'boys vincent',\n",
       " 'boomerang',\n",
       " 'chungking express',\n",
       " 'star maker',\n",
       " 'flirting disaster',\n",
       " 'neverending story iii escape fantasia',\n",
       " 'silences palace',\n",
       " 'pie sky',\n",
       " 'angela',\n",
       " 'frankie starlight',\n",
       " 'jade',\n",
       " 'nueba yol',\n",
       " 'periscope',\n",
       " 'journals jean seberg',\n",
       " 'man year',\n",
       " 'neon bible',\n",
       " 'close personal',\n",
       " 'birdcage',\n",
       " 'virgin mary',\n",
       " 'brothers mcmullen',\n",
       " 'bad boys',\n",
       " 'amazing panda adventure',\n",
       " 'basketball diaries',\n",
       " 'awfully big adventure',\n",
       " 'amateur',\n",
       " 'apollo',\n",
       " 'rob roy',\n",
       " 'addiction',\n",
       " 'batman forever',\n",
       " 'belle jour',\n",
       " 'beyond rangoon',\n",
       " 'blue face',\n",
       " 'canadian bacon',\n",
       " 'casper',\n",
       " 'clockers',\n",
       " 'congo',\n",
       " 'crimson tide',\n",
       " 'crumb',\n",
       " 'desperado',\n",
       " 'devil blue dress',\n",
       " 'die hard vengeance',\n",
       " 'doom generation',\n",
       " 'first knight',\n",
       " 'free willy adventure home',\n",
       " 'hackers',\n",
       " 'jeffrey',\n",
       " 'johnny mnemonic',\n",
       " 'judge dredd',\n",
       " 'jury duty',\n",
       " 'kids',\n",
       " 'living oblivion',\n",
       " 'lord illusions',\n",
       " 'love human remains',\n",
       " 'mad love',\n",
       " 'mallrats',\n",
       " 'mighty morphin power rangers movie',\n",
       " 'moonlight valentino',\n",
       " 'mute witness',\n",
       " 'nadja',\n",
       " 'net',\n",
       " 'nine months',\n",
       " 'party girl',\n",
       " 'prophecy',\n",
       " 'reckless',\n",
       " 'safe',\n",
       " 'scarlet letter',\n",
       " 'show',\n",
       " 'showgirls',\n",
       " 'smoke',\n",
       " 'something talk',\n",
       " 'species',\n",
       " 'stars fell henrietta',\n",
       " 'strange days',\n",
       " 'umbrellas cherbourg',\n",
       " 'tie binds',\n",
       " 'three wishes',\n",
       " 'total eclipse',\n",
       " 'wong foo thanks everything julie newmar',\n",
       " 'siege dark territory',\n",
       " 'unstrung heroes',\n",
       " 'unzipped',\n",
       " 'walk clouds',\n",
       " 'waterworld',\n",
       " 'white man burden',\n",
       " 'wild bill',\n",
       " 'browning version',\n",
       " 'bushwhacked',\n",
       " 'burnt sun',\n",
       " 'rain',\n",
       " 'sunrise',\n",
       " 'billy madison',\n",
       " 'babysitter',\n",
       " 'boys side',\n",
       " 'cure',\n",
       " 'castle freak',\n",
       " 'circle friends',\n",
       " 'clerks',\n",
       " 'juan demarco',\n",
       " 'disclosure',\n",
       " 'dream man',\n",
       " 'drop zone',\n",
       " 'destiny turns radio',\n",
       " 'death maiden',\n",
       " 'dolores claiborne',\n",
       " 'dumb dumber',\n",
       " 'eat drink man woman',\n",
       " 'exotica',\n",
       " 'exit eden',\n",
       " 'wood',\n",
       " 'french kiss',\n",
       " 'forget paris',\n",
       " 'far home adventures yellow dog',\n",
       " 'goofy movie',\n",
       " 'hideaway',\n",
       " 'fluke',\n",
       " 'farinelli',\n",
       " 'gordy',\n",
       " 'gumby movie',\n",
       " 'glass shield',\n",
       " 'hoop dreams',\n",
       " 'heavenly creatures',\n",
       " 'houseguest',\n",
       " 'immortal beloved',\n",
       " 'heavyweights',\n",
       " 'hunted',\n",
       " '',\n",
       " 'interview vampire',\n",
       " 'jefferson paris',\n",
       " 'jerky boys',\n",
       " 'junior',\n",
       " 'cause',\n",
       " 'kid king arthur court',\n",
       " 'kiss death',\n",
       " 'star wars',\n",
       " 'little women',\n",
       " 'little princess',\n",
       " 'ladybird ladybird',\n",
       " 'enfer',\n",
       " 'like water chocolate',\n",
       " 'legends fall',\n",
       " 'major payne',\n",
       " 'little odessa',\n",
       " 'vida loca',\n",
       " 'love affair',\n",
       " 'losing isaiah',\n",
       " 'madness king george',\n",
       " 'mary shelley frankenstein',\n",
       " 'man house',\n",
       " 'mixed nuts',\n",
       " 'milk money',\n",
       " 'miracle street',\n",
       " 'miami rhapsody',\n",
       " 'family',\n",
       " 'murder first',\n",
       " 'nobody fool',\n",
       " 'nell',\n",
       " 'new jersey drive',\n",
       " 'beyond bedlam',\n",
       " 'nemesis nebula',\n",
       " 'nina takes lover',\n",
       " 'natural born killers',\n",
       " '',\n",
       " 'warriors',\n",
       " 'poison ivy lily',\n",
       " 'outbreak',\n",
       " 'leon professional',\n",
       " 'perez family',\n",
       " 'pyromaniac love story',\n",
       " 'pulp fiction',\n",
       " 'panther',\n",
       " 'pushing hands',\n",
       " 'priest',\n",
       " 'quiz show',\n",
       " 'picture bride',\n",
       " 'queen margot',\n",
       " 'quick dead',\n",
       " 'roommates',\n",
       " 'porter',\n",
       " 'three colors red',\n",
       " 'three colors blue',\n",
       " 'three colors white',\n",
       " 'red firecracker green firecracker',\n",
       " 'rent kid',\n",
       " 'relative fear',\n",
       " 'stuart saves family',\n",
       " 'swan princess',\n",
       " 'secret roan inish',\n",
       " 'specialist',\n",
       " 'stargate',\n",
       " 'santa clause',\n",
       " 'shawshank redemption',\n",
       " 'shallow grave',\n",
       " 'suture',\n",
       " 'strawberry chocolate',\n",
       " 'swimming sharks',\n",
       " 'sum',\n",
       " 'senior trip',\n",
       " 'live',\n",
       " 'tank girl',\n",
       " 'tales crypt demon knight',\n",
       " 'star trek generations',\n",
       " 'tales hood',\n",
       " 'tom viv',\n",
       " 'village damned',\n",
       " 'tommy boy',\n",
       " 'vanya street',\n",
       " 'underneath',\n",
       " 'walking dead',\n",
       " 'eating gilbert grape',\n",
       " 'virtuosity',\n",
       " 'sleeping',\n",
       " 'war',\n",
       " 'double happiness',\n",
       " 'muriel wedding',\n",
       " 'baby sitters club',\n",
       " 'ace ventura pet detective',\n",
       " 'adventures priscilla queen desert',\n",
       " 'backbeat',\n",
       " 'bitter moon',\n",
       " 'bullets broadway',\n",
       " 'clear present danger',\n",
       " 'client',\n",
       " 'corrina corrina',\n",
       " 'crooklyn',\n",
       " 'crow',\n",
       " 'cobb',\n",
       " 'flintstones',\n",
       " 'forrest gump',\n",
       " 'four weddings funeral',\n",
       " 'higher learning',\n",
       " 'like like',\n",
       " 'love trouble',\n",
       " 'could happen',\n",
       " 'jungle book',\n",
       " 'wonderful horrible life leni riefenstahl',\n",
       " 'lion king',\n",
       " 'little buddha',\n",
       " 'new nightmare',\n",
       " 'mask',\n",
       " 'maverick',\n",
       " 'mrs parker vicious circle',\n",
       " 'naked gun final insult',\n",
       " 'paper',\n",
       " 'reality bites',\n",
       " 'red rock west',\n",
       " 'hie',\n",
       " 'safe passage',\n",
       " 'river wild',\n",
       " 'speed',\n",
       " 'speechless',\n",
       " 'timecop',\n",
       " 'true lies',\n",
       " 'man loves woman',\n",
       " 'wolf',\n",
       " 'wyatt earp',\n",
       " 'bad company',\n",
       " 'man importance',\n",
       " '',\n",
       " 'low dirty shame',\n",
       " 'boys life three stories love lust liberation',\n",
       " 'colonel chabert',\n",
       " 'faster pussycat kill kill',\n",
       " 'jason lyric',\n",
       " 'secret adventures tom thumb',\n",
       " 'street fighter',\n",
       " 'coldblooded',\n",
       " 'fall time',\n",
       " 'fear',\n",
       " 'frank ollie',\n",
       " 'girl cadillac',\n",
       " 'mirage',\n",
       " 'dos menes',\n",
       " 'brother minister assassination malcolm',\n",
       " 'highlander final dimension',\n",
       " 'federal hill',\n",
       " 'mouth madness',\n",
       " 'seconds',\n",
       " 'rim',\n",
       " 'addams family values',\n",
       " 'martin lawrence crazy',\n",
       " 'age innocence',\n",
       " 'airheads',\n",
       " 'air',\n",
       " 'another stakeout',\n",
       " 'bad girls',\n",
       " 'barcelona',\n",
       " 'human',\n",
       " 'beverly hillbillies',\n",
       " 'beverly hills cop iii',\n",
       " 'black beauty',\n",
       " 'blink',\n",
       " 'blown away',\n",
       " 'blue chips',\n",
       " 'blue sky',\n",
       " 'body snatchers',\n",
       " 'boxing helena',\n",
       " 'bronx tale',\n",
       " 'cabin boy',\n",
       " 'calendar girl',\n",
       " 'carlito way',\n",
       " 'city slickers legend curly gold',\n",
       " 'clean slate',\n",
       " 'cliffhanger',\n",
       " 'coneheads',\n",
       " 'color night',\n",
       " 'cops robbersons',\n",
       " 'cowboy way',\n",
       " 'dangerous game',\n",
       " 'dave',\n",
       " 'dazed confused',\n",
       " 'demolition man',\n",
       " 'endless summer',\n",
       " 'even cowgirls get blues',\n",
       " 'fatal instinct',\n",
       " 'farewell concubine',\n",
       " 'favor',\n",
       " 'fearless',\n",
       " 'fear black hat',\n",
       " 'honors',\n",
       " 'flesh bone',\n",
       " 'widows peak',\n",
       " 'love money',\n",
       " 'firm',\n",
       " 'free willy',\n",
       " 'fresh',\n",
       " 'fugitive',\n",
       " 'geronimo american legend',\n",
       " 'getaway',\n",
       " 'getting even dad',\n",
       " 'fish',\n",
       " 'good man africa',\n",
       " 'guilty sin',\n",
       " 'hard target',\n",
       " 'heaven earth',\n",
       " 'hot shots part deux',\n",
       " 'live nude girls',\n",
       " 'englishman went hill came mountain',\n",
       " 'house spirits',\n",
       " 'house party',\n",
       " 'hudsucker proxy',\n",
       " 'anything',\n",
       " 'army',\n",
       " 'line fire',\n",
       " 'name father',\n",
       " 'inkwell',\n",
       " 'love got',\n",
       " 'jimmy hollywood',\n",
       " 'judgment night',\n",
       " 'jurassic park',\n",
       " 'kalifornia',\n",
       " 'killing zoe',\n",
       " 'king hill',\n",
       " 'lassie',\n",
       " 'last action hero',\n",
       " 'life mikey',\n",
       " 'lightning jack',\n",
       " 'butterfly',\n",
       " 'made america',\n",
       " 'malice',\n",
       " 'man without face',\n",
       " 'manhattan murder mystery',\n",
       " 'menace society',\n",
       " 'executive decision',\n",
       " 'realm senses',\n",
       " 'happened',\n",
       " 'much ado nothing',\n",
       " 'jones',\n",
       " 'wonderful',\n",
       " 'mrs doubtfire',\n",
       " 'naked',\n",
       " 'next karate kid',\n",
       " 'new age',\n",
       " 'escape',\n",
       " 'north',\n",
       " 'orlando',\n",
       " 'perfect world',\n",
       " 'philadelphia',\n",
       " 'piano',\n",
       " 'poetic justice',\n",
       " 'program',\n",
       " 'puppet masters',\n",
       " 'radioland murders',\n",
       " 'ref',\n",
       " 'remains day',\n",
       " 'renaissance man',\n",
       " 'rising sun',\n",
       " 'road wellville',\n",
       " 'robocop',\n",
       " 'robin hood men tights',\n",
       " 'romeo bleeding',\n",
       " 'romper stomper',\n",
       " 'ruby paradise',\n",
       " 'rudy',\n",
       " 'saint fort washington',\n",
       " 'savage nights',\n",
       " 'schindler list',\n",
       " 'scout',\n",
       " 'searching bobby fischer',\n",
       " 'second best',\n",
       " 'secret garden',\n",
       " 'serial mom',\n",
       " 'shadow',\n",
       " 'shadowlands',\n",
       " 'short cuts',\n",
       " 'simple twist fate',\n",
       " 'sirens',\n",
       " 'six degrees separation',\n",
       " 'sleepless seattle',\n",
       " 'sliver',\n",
       " 'blade runner',\n",
       " 'son law',\n",
       " 'married axe murderer',\n",
       " 'striking distance',\n",
       " 'harem',\n",
       " 'super mario bros',\n",
       " 'surviving game',\n",
       " 'terminal velocity',\n",
       " 'thirty two short films glenn gould',\n",
       " 'threesome',\n",
       " 'nightmare christmas',\n",
       " 'three musketeers',\n",
       " 'tombstone',\n",
       " 'trial jury',\n",
       " 'true romance',\n",
       " 'war room',\n",
       " 'pagemaster',\n",
       " 'paris france',\n",
       " 'killer',\n",
       " 'welcome dollhouse',\n",
       " 'germinal',\n",
       " 'chasers',\n",
       " 'cronos',\n",
       " 'naked new york',\n",
       " 'kika',\n",
       " 'bhaji beach',\n",
       " 'little big league',\n",
       " 'slingshot',\n",
       " 'ciao professore',\n",
       " 'spanking monkey',\n",
       " 'little rascals',\n",
       " 'andre',\n",
       " 'escort',\n",
       " 'princess caraboo',\n",
       " 'celluloid closet',\n",
       " 'caf lait',\n",
       " 'dear diary',\n",
       " 'want talk',\n",
       " 'brady bunch movie',\n",
       " 'home alone',\n",
       " 'ghost',\n",
       " 'aladdin',\n",
       " 'terminator judgment day',\n",
       " 'dances wolves',\n",
       " 'tough deadly',\n",
       " 'batman',\n",
       " 'silence lambs',\n",
       " 'snow white seven dwarfs',\n",
       " 'beauty beast',\n",
       " 'pinocchio',\n",
       " 'pretty woman',\n",
       " 'window paris',\n",
       " 'wild bunch',\n",
       " 'love',\n",
       " 'wooden man bride',\n",
       " 'great day harlem',\n",
       " 'bye bye love',\n",
       " 'one fine day',\n",
       " 'candyman farewell flesh',\n",
       " 'century',\n",
       " 'fargo',\n",
       " 'homeward bound lost san francisco',\n",
       " 'heavy metal',\n",
       " 'hellraiser bloodline',\n",
       " 'pallbearer',\n",
       " 'jane eyre',\n",
       " 'loaded',\n",
       " 'bread chocolate',\n",
       " 'aristocats',\n",
       " 'flower secret',\n",
       " 'two much',\n",
       " '',\n",
       " 'scream stone',\n",
       " 'favorite season',\n",
       " 'modern affair',\n",
       " 'condition red',\n",
       " 'halfaouine boy terraces',\n",
       " 'thin line love hate',\n",
       " 'last supper',\n",
       " 'primal fear',\n",
       " 'rude',\n",
       " 'carried away',\n",
       " 'dogs heaven',\n",
       " 'land freedom',\n",
       " 'denise calls',\n",
       " 'theodore rex',\n",
       " 'family thing',\n",
       " 'frisk',\n",
       " 'sgt bilko',\n",
       " 'jack sarah',\n",
       " 'girl',\n",
       " 'diabolique',\n",
       " 'little indian big city',\n",
       " 'roula',\n",
       " 'peanuts die bank zahlt alles',\n",
       " 'nelly monsieur arnaud',\n",
       " 'courage fire',\n",
       " 'mission impossible',\n",
       " 'cold fever',\n",
       " 'moll flanders',\n",
       " 'superwife',\n",
       " '',\n",
       " 'dragonheart',\n",
       " 'eddie',\n",
       " 'yankee zulu',\n",
       " 'purple noon',\n",
       " 'august',\n",
       " 'james giant peach',\n",
       " 'fear',\n",
       " 'kids hall brain candy',\n",
       " 'faithful',\n",
       " 'underground',\n",
       " 'things fair',\n",
       " 'bloodsport',\n",
       " 'pather panchali',\n",
       " 'world apu',\n",
       " 'mystery science theater movie',\n",
       " 'space jam',\n",
       " 'barbarella',\n",
       " 'hostile intentions',\n",
       " 'bite',\n",
       " 'folks call sling blade',\n",
       " 'run country',\n",
       " 'alphaville',\n",
       " 'coup torchon',\n",
       " 'tigrero film never made',\n",
       " 'windows',\n",
       " 'party',\n",
       " 'country life',\n",
       " 'operation dumbo drop',\n",
       " 'promise',\n",
       " 'mrs winterbourne',\n",
       " 'solo',\n",
       " 'domim tree',\n",
       " 'substitute',\n",
       " 'true crime',\n",
       " 'butterfly kiss',\n",
       " 'feeling minnesota',\n",
       " 'delta venus',\n",
       " 'angus',\n",
       " 'priest daens',\n",
       " 'faces',\n",
       " 'boys',\n",
       " 'quest',\n",
       " 'cosi',\n",
       " 'sunset park',\n",
       " 'mulholland falls',\n",
       " 'truth cats dogs',\n",
       " 'oliver company',\n",
       " 'celtic pride',\n",
       " 'flipper',\n",
       " 'captives',\n",
       " 'love shadows',\n",
       " 'dead man',\n",
       " 'horseman roof',\n",
       " 'switchblade sisters',\n",
       " 'mouth mouth',\n",
       " 'visitors',\n",
       " 'multiplicity',\n",
       " 'haunted world edward wood',\n",
       " 'craft',\n",
       " 'great white hype',\n",
       " 'last dance',\n",
       " 'cold comfort farm',\n",
       " 'institute benjamenta dream people call human life',\n",
       " 'heaven prisoners',\n",
       " 'original gangstas',\n",
       " 'rock',\n",
       " 'getting away murder',\n",
       " 'cemetery man',\n",
       " 'twister',\n",
       " 'barb wire',\n",
       " 'gar',\n",
       " 'ghost shell',\n",
       " 'thinner',\n",
       " 'spy hard',\n",
       " 'close shave',\n",
       " 'force evil',\n",
       " 'stupids',\n",
       " 'arrival',\n",
       " 'strangelove learned stop worrying love bomb',\n",
       " 'careful',\n",
       " 'month lake',\n",
       " 'gold diggers secret bear mountain',\n",
       " 'kim',\n",
       " 'carmen miranda bananas business',\n",
       " 'ashes time',\n",
       " 'jar',\n",
       " 'stalingrad',\n",
       " 'phantom',\n",
       " 'striptease',\n",
       " 'last high kings',\n",
       " 'heavy',\n",
       " 'jack',\n",
       " 'shot andy warhol',\n",
       " 'grass harp',\n",
       " 'life rosy',\n",
       " 'quartier mozart',\n",
       " 'touki bouki',\n",
       " 'god gift',\n",
       " 'spirits dead',\n",
       " 'pharaoh army',\n",
       " 'trainspotting',\n",
       " 'til',\n",
       " 'independence day',\n",
       " 'stealing beauty',\n",
       " 'fan',\n",
       " 'hunchback notre dame',\n",
       " 'cable guy',\n",
       " 'kingpin',\n",
       " 'eraser',\n",
       " 'gate heavenly peace',\n",
       " 'nutty professor',\n",
       " 'worst',\n",
       " 'unforgettable summer',\n",
       " 'life times antonin artaud',\n",
       " 'midnight dancers',\n",
       " 'somebody love',\n",
       " 'natural thing',\n",
       " 'daylight',\n",
       " 'frighteners',\n",
       " 'lone star',\n",
       " 'harriet spy',\n",
       " 'phenomenon',\n",
       " 'walking talking',\n",
       " 'one',\n",
       " 'time kill',\n",
       " 'american buffalo',\n",
       " 'rendezvous paris',\n",
       " 'alaska',\n",
       " 'fled',\n",
       " 'kazaam',\n",
       " 'magic hunter',\n",
       " 'larger life',\n",
       " 'boy called hate',\n",
       " 'power',\n",
       " 'two deaths',\n",
       " 'brady sequel',\n",
       " 'stefano quantestorie',\n",
       " 'death garden',\n",
       " 'hedd wyn',\n",
       " 'collectionneuse',\n",
       " 'kaspar hauser',\n",
       " 'regular guys',\n",
       " 'diebinnen',\n",
       " 'convent',\n",
       " 'adventures pinocchio',\n",
       " 'joe apartment',\n",
       " 'first wives club',\n",
       " 'stonewall',\n",
       " 'ransom',\n",
       " 'high school high',\n",
       " 'phat beach',\n",
       " 'foxfire',\n",
       " 'chain reaction',\n",
       " 'matilda',\n",
       " 'emma',\n",
       " 'crow city angels',\n",
       " 'house arrest',\n",
       " 'eyes without face',\n",
       " 'bordello blood',\n",
       " 'lotto land',\n",
       " 'day sun turned cold',\n",
       " 'flirt',\n",
       " 'big squeeze',\n",
       " 'spitfire grill',\n",
       " 'escape',\n",
       " 'cyclo',\n",
       " 'basquiat',\n",
       " 'tin cup',\n",
       " 'dingo',\n",
       " 'ballad narayama',\n",
       " 'every weekend',\n",
       " 'mille bolle blu',\n",
       " 'crows sparrows',\n",
       " 'godfather',\n",
       " 'maybe maybe',\n",
       " 'police story supercop',\n",
       " 'manny',\n",
       " 'small faces',\n",
       " 'bound',\n",
       " 'carpool',\n",
       " 'death brunswick',\n",
       " 'kansas city',\n",
       " 'gone fishin',\n",
       " 'lover knot',\n",
       " 'vive amour',\n",
       " 'shadow angels',\n",
       " 'killer journal murder',\n",
       " 'project',\n",
       " 'girls town',\n",
       " 'bye bye',\n",
       " 'relic',\n",
       " 'island moreau',\n",
       " 'first kid',\n",
       " 'trigger effect',\n",
       " 'sweet nothing',\n",
       " 'bogus',\n",
       " 'bulletproof',\n",
       " 'talk angels',\n",
       " 'land time iii time great giving',\n",
       " '',\n",
       " 'halloween curse michael myers',\n",
       " 'twelfth night',\n",
       " 'mother night',\n",
       " 'liebelei',\n",
       " 'venice',\n",
       " 'wild reeds',\n",
       " 'bell tolls',\n",
       " 'philadelphia story',\n",
       " 'singin rain',\n",
       " 'american paris',\n",
       " 'funny face',\n",
       " 'breakfast tiffany',\n",
       " 'vertigo',\n",
       " 'rear window',\n",
       " 'happened one night',\n",
       " 'gaslight',\n",
       " 'gay divorcee',\n",
       " 'north northwest',\n",
       " 'apartment',\n",
       " 'like hot',\n",
       " 'charade',\n",
       " 'casablanca',\n",
       " 'maltese falcon',\n",
       " 'fair lady',\n",
       " 'sabrina',\n",
       " 'roman holiday',\n",
       " 'little princess',\n",
       " 'meet louis',\n",
       " 'wizard',\n",
       " 'gone wind',\n",
       " 'favorite year',\n",
       " 'sunset boulevard',\n",
       " 'citizen kane',\n",
       " 'space odyssey',\n",
       " 'golden earrings',\n",
       " 'eve',\n",
       " 'women',\n",
       " 'rebecca',\n",
       " 'foreign correspondent',\n",
       " 'notorious',\n",
       " 'spellbound',\n",
       " 'affair remember',\n",
       " 'catch thief',\n",
       " 'father bride',\n",
       " 'band wagon',\n",
       " 'ninotchka',\n",
       " 'love afternoon',\n",
       " 'gigi',\n",
       " 'reluctant debutante',\n",
       " 'adventures robin hood',\n",
       " 'mark zorro',\n",
       " 'laura',\n",
       " 'ghost mrs muir',\n",
       " 'lost horizon',\n",
       " 'top hat',\n",
       " '',\n",
       " 'man godfrey',\n",
       " 'giant',\n",
       " 'east eden',\n",
       " 'thin man',\n",
       " 'girl friday',\n",
       " 'around world eighty days',\n",
       " 'wonderful life',\n",
       " 'smith goes washington',\n",
       " 'bringing baby',\n",
       " 'penny serenade',\n",
       " 'scarlet letter',\n",
       " 'lady burlesque',\n",
       " 'human bondage',\n",
       " 'angel shoulder',\n",
       " 'little lord fauntleroy',\n",
       " 'made criminal',\n",
       " 'inspector general',\n",
       " 'angel badman',\n",
       " 'steps',\n",
       " 'walk sun',\n",
       " 'outlaw',\n",
       " 'night living dead',\n",
       " 'african queen',\n",
       " 'beat devil',\n",
       " 'cat hot tin roof',\n",
       " 'last time saw paris',\n",
       " 'meet john doe',\n",
       " 'algiers',\n",
       " 'something sing',\n",
       " 'farewell arms',\n",
       " 'moonlight murder',\n",
       " 'nothing personal',\n",
       " 'yes madam',\n",
       " 'dangerous ground',\n",
       " 'picnic',\n",
       " 'pompatus love',\n",
       " 'fly away home',\n",
       " 'bliss',\n",
       " 'grace heart',\n",
       " 'brother sleep',\n",
       " 'maximum risk',\n",
       " 'michael collins',\n",
       " 'rich man wife',\n",
       " 'big night',\n",
       " 'last man standing',\n",
       " 'caught',\n",
       " 'set',\n",
       " 'days valley',\n",
       " 'curdled',\n",
       " 'associ',\n",
       " 'next move',\n",
       " 'extreme measures',\n",
       " 'glimmer man',\n",
       " 'mighty ducks',\n",
       " 'chamber',\n",
       " 'apple dumpling gang',\n",
       " 'davy crockett king wild frontier',\n",
       " 'escape witch mountain',\n",
       " 'love bug',\n",
       " 'herbie rides',\n",
       " 'old yeller',\n",
       " 'parent trap',\n",
       " 'pollyanna',\n",
       " 'homeward bound incredible journey',\n",
       " 'shaggy dog',\n",
       " 'swiss family robinson',\n",
       " 'darn cat',\n",
       " 'leagues sea',\n",
       " 'cool runnings',\n",
       " 'angels outfield',\n",
       " 'cinderella',\n",
       " 'winnie pooh blustery day',\n",
       " 'three caballeros',\n",
       " 'sword stone',\n",
       " 'dear heart',\n",
       " 'robin hood prince thieves',\n",
       " 'mary poppins',\n",
       " 'dumbo',\n",
       " 'pete dragon',\n",
       " 'bedknobs broomsticks',\n",
       " 'alice wonderland',\n",
       " 'fox hound',\n",
       " 'freeway',\n",
       " 'sound music',\n",
       " 'die hard',\n",
       " 'lawnmower man',\n",
       " 'unhook stars',\n",
       " 'secret agent',\n",
       " 'secrets lies',\n",
       " 'thing',\n",
       " 'gillian birthday',\n",
       " 'surviving picasso',\n",
       " 'love',\n",
       " 'beautiful thing',\n",
       " 'long kiss goodnight',\n",
       " 'ghost darkness',\n",
       " 'looking richard',\n",
       " 'trees lounge',\n",
       " 'normal life',\n",
       " 'get bus',\n",
       " 'shadow conspiracy',\n",
       " 'jude',\n",
       " 'everyone says love',\n",
       " 'bitter sugar',\n",
       " 'romeo juliet',\n",
       " 'swingers',\n",
       " 'sleepers',\n",
       " 'sunchaser',\n",
       " 'johns',\n",
       " 'aladdin king thieves',\n",
       " 'woman question',\n",
       " 'shall dance',\n",
       " 'damsel distress',\n",
       " 'crossfire',\n",
       " 'murder sweet',\n",
       " 'macao',\n",
       " ...]"
      ]
     },
     "execution_count": 145,
     "metadata": {},
     "output_type": "execute_result"
    }
   ],
   "source": [
    "titulo_list"
   ]
  },
  {
   "cell_type": "code",
   "execution_count": 146,
   "metadata": {},
   "outputs": [],
   "source": [
    "df[\"title_lemmatizer\"] = titulo_list"
   ]
  },
  {
   "cell_type": "code",
   "execution_count": 147,
   "metadata": {},
   "outputs": [
    {
     "data": {
      "text/html": [
       "<div>\n",
       "<style scoped>\n",
       "    .dataframe tbody tr th:only-of-type {\n",
       "        vertical-align: middle;\n",
       "    }\n",
       "\n",
       "    .dataframe tbody tr th {\n",
       "        vertical-align: top;\n",
       "    }\n",
       "\n",
       "    .dataframe thead th {\n",
       "        text-align: right;\n",
       "    }\n",
       "</style>\n",
       "<table border=\"1\" class=\"dataframe\">\n",
       "  <thead>\n",
       "    <tr style=\"text-align: right;\">\n",
       "      <th></th>\n",
       "      <th>title</th>\n",
       "      <th>vote_average</th>\n",
       "      <th>title_lemmatizer</th>\n",
       "    </tr>\n",
       "  </thead>\n",
       "  <tbody>\n",
       "    <tr>\n",
       "      <th>0</th>\n",
       "      <td>Toy Story</td>\n",
       "      <td>7</td>\n",
       "      <td>toy story</td>\n",
       "    </tr>\n",
       "    <tr>\n",
       "      <th>1</th>\n",
       "      <td>Jumanji</td>\n",
       "      <td>6</td>\n",
       "      <td>jumanji</td>\n",
       "    </tr>\n",
       "    <tr>\n",
       "      <th>2</th>\n",
       "      <td>Grumpier Old Men</td>\n",
       "      <td>6</td>\n",
       "      <td>grumpier old men</td>\n",
       "    </tr>\n",
       "    <tr>\n",
       "      <th>3</th>\n",
       "      <td>Waiting to Exhale</td>\n",
       "      <td>6</td>\n",
       "      <td>waiting exhale</td>\n",
       "    </tr>\n",
       "    <tr>\n",
       "      <th>4</th>\n",
       "      <td>Father of the Bride Part II</td>\n",
       "      <td>5</td>\n",
       "      <td>father bride part</td>\n",
       "    </tr>\n",
       "  </tbody>\n",
       "</table>\n",
       "</div>"
      ],
      "text/plain": [
       "                         title  vote_average   title_lemmatizer\n",
       "0                    Toy Story             7          toy story\n",
       "1                      Jumanji             6            jumanji\n",
       "2             Grumpier Old Men             6   grumpier old men\n",
       "3            Waiting to Exhale             6     waiting exhale\n",
       "4  Father of the Bride Part II             5  father bride part"
      ]
     },
     "execution_count": 147,
     "metadata": {},
     "output_type": "execute_result"
    }
   ],
   "source": [
    "df.head()"
   ]
  },
  {
   "attachments": {},
   "cell_type": "markdown",
   "metadata": {},
   "source": [
    "df_vote_average_mayores_7 = df[df.vote_average >= 7]\n",
    "df_vote_average_mayores_7 = df_vote_average_mayores_7[[\"title_lemmatizer\", \"vote_average\" ]]\n",
    "df_vote_average_mayores_7.head()"
   ]
  },
  {
   "attachments": {},
   "cell_type": "markdown",
   "metadata": {},
   "source": [
    "todos_titulos_vote_average_mayores_7 = []\n",
    "for i in range(df_vote_average_mayores_7.shape[0]):\n",
    "    titulo = df_vote_average_mayores_7.iloc[i].title_lemmatizer\n",
    "    titulo = re.sub(\"[^a-zA-Z!ñíá]\",\" \",str(titulo)).lower()\n",
    "    titulo = nltk.tokenize.RegexpTokenizer(\"[\\w]+\").tokenize(titulo)\n",
    "    titulo = [word for word in titulo if word not in stopwords]\n",
    "    titulo = [word for word in titulo if word not in filtrar]\n",
    "\n",
    "    todos_titulos_vote_average_mayores_7.append(titulo)"
   ]
  },
  {
   "attachments": {},
   "cell_type": "markdown",
   "metadata": {},
   "source": [
    "todos_titulos_vote_average_mayores_7 = list(itertools.chain(*todos_titulos_vote_average_mayores_7))"
   ]
  },
  {
   "attachments": {},
   "cell_type": "markdown",
   "metadata": {},
   "source": [
    "# mostramos la palabras mas repetidas\n",
    "freq_vote_average_mayores_7 = nltk.FreqDist(todos_titulos_vote_average_mayores_7)\n",
    "freq_vote_average_mayores_7"
   ]
  },
  {
   "attachments": {},
   "cell_type": "markdown",
   "metadata": {},
   "source": [
    "# Creamos un DataFrame con la frecuencia de las palabras\n",
    "df_vote_average_mayores_7 = pd.DataFrame(list(freq_vote_average_mayores_7.items()), columns= [\"Palabras\", \"Frecuencia\"])\n",
    "df_vote_average_mayores_7.sort_values(\"Frecuencia\", ascending= False, inplace= True)\n",
    "df_vote_average_mayores_7.head()"
   ]
  },
  {
   "attachments": {},
   "cell_type": "markdown",
   "metadata": {},
   "source": [
    "df_vote_average_mayores_7.shape"
   ]
  },
  {
   "attachments": {},
   "cell_type": "markdown",
   "metadata": {},
   "source": [
    "## 6. Vectorizar"
   ]
  },
  {
   "cell_type": "code",
   "execution_count": 148,
   "metadata": {},
   "outputs": [
    {
     "data": {
      "text/html": [
       "<div>\n",
       "<style scoped>\n",
       "    .dataframe tbody tr th:only-of-type {\n",
       "        vertical-align: middle;\n",
       "    }\n",
       "\n",
       "    .dataframe tbody tr th {\n",
       "        vertical-align: top;\n",
       "    }\n",
       "\n",
       "    .dataframe thead th {\n",
       "        text-align: right;\n",
       "    }\n",
       "</style>\n",
       "<table border=\"1\" class=\"dataframe\">\n",
       "  <thead>\n",
       "    <tr style=\"text-align: right;\">\n",
       "      <th></th>\n",
       "      <th>title</th>\n",
       "      <th>vote_average</th>\n",
       "      <th>title_lemmatizer</th>\n",
       "    </tr>\n",
       "  </thead>\n",
       "  <tbody>\n",
       "    <tr>\n",
       "      <th>0</th>\n",
       "      <td>Toy Story</td>\n",
       "      <td>7</td>\n",
       "      <td>toy story</td>\n",
       "    </tr>\n",
       "    <tr>\n",
       "      <th>1</th>\n",
       "      <td>Jumanji</td>\n",
       "      <td>6</td>\n",
       "      <td>jumanji</td>\n",
       "    </tr>\n",
       "    <tr>\n",
       "      <th>2</th>\n",
       "      <td>Grumpier Old Men</td>\n",
       "      <td>6</td>\n",
       "      <td>grumpier old men</td>\n",
       "    </tr>\n",
       "    <tr>\n",
       "      <th>3</th>\n",
       "      <td>Waiting to Exhale</td>\n",
       "      <td>6</td>\n",
       "      <td>waiting exhale</td>\n",
       "    </tr>\n",
       "    <tr>\n",
       "      <th>4</th>\n",
       "      <td>Father of the Bride Part II</td>\n",
       "      <td>5</td>\n",
       "      <td>father bride part</td>\n",
       "    </tr>\n",
       "  </tbody>\n",
       "</table>\n",
       "</div>"
      ],
      "text/plain": [
       "                         title  vote_average   title_lemmatizer\n",
       "0                    Toy Story             7          toy story\n",
       "1                      Jumanji             6            jumanji\n",
       "2             Grumpier Old Men             6   grumpier old men\n",
       "3            Waiting to Exhale             6     waiting exhale\n",
       "4  Father of the Bride Part II             5  father bride part"
      ]
     },
     "execution_count": 148,
     "metadata": {},
     "output_type": "execute_result"
    }
   ],
   "source": [
    "df.head(5)"
   ]
  },
  {
   "attachments": {},
   "cell_type": "markdown",
   "metadata": {},
   "source": [
    "#### a. Dividimos el Data Set entre el title_lemmatizer en una lista y vote_average con .values"
   ]
  },
  {
   "cell_type": "code",
   "execution_count": 149,
   "metadata": {},
   "outputs": [],
   "source": [
    "list_title_lemmatizer = list(df[\"title_lemmatizer\"].values)\n",
    "is_vote = df[\"vote_average\"].values"
   ]
  },
  {
   "attachments": {},
   "cell_type": "markdown",
   "metadata": {},
   "source": [
    "#### b. Preparamos el conversor de bag of words a vectores que traemos de sklearn. `CountVectorizer` posee varias funcionalidades que pueden determinarse a partir de parámetros. Les recomendamos fuertemente leer su documentación."
   ]
  },
  {
   "cell_type": "code",
   "execution_count": 150,
   "metadata": {},
   "outputs": [],
   "source": [
    "# Usaremos solo las 1000 palabras con mas frecuencia en todo el corpus para generar los vectores\n",
    "max_features=1000\n",
    "\n",
    "# Es decir que cada instancia tendrá 1000 features\n",
    "cou_vec=CountVectorizer(max_features=max_features, stop_words=\"english\")#, ngram_range=(1,2))\n",
    "#cou_vec=CountVectorizer(stop_words=\"english\" , ngram_range=(1,2))\n"
   ]
  },
  {
   "attachments": {},
   "cell_type": "markdown",
   "metadata": {},
   "source": [
    "#### c. Ahora sí, vamos generarnos los vectores para cada título a partir del corpus total."
   ]
  },
  {
   "cell_type": "code",
   "execution_count": 151,
   "metadata": {},
   "outputs": [],
   "source": [
    "matriz_titulos = cou_vec.fit_transform(list_title_lemmatizer)\n",
    "\n",
    "# Tomamos las palabras\n",
    "all_words = cou_vec.get_feature_names_out() # get_feature_names()"
   ]
  },
  {
   "cell_type": "code",
   "execution_count": 152,
   "metadata": {},
   "outputs": [
    {
     "data": {
      "text/plain": [
       "<42388x1000 sparse matrix of type '<class 'numpy.int64'>'\n",
       "\twith 40605 stored elements in Compressed Sparse Row format>"
      ]
     },
     "execution_count": 152,
     "metadata": {},
     "output_type": "execute_result"
    }
   ],
   "source": [
    "matriz_titulos"
   ]
  },
  {
   "cell_type": "code",
   "execution_count": 153,
   "metadata": {},
   "outputs": [
    {
     "data": {
      "text/plain": [
       "1000"
      ]
     },
     "execution_count": 153,
     "metadata": {},
     "output_type": "execute_result"
    }
   ],
   "source": [
    "len(all_words)"
   ]
  },
  {
   "cell_type": "code",
   "execution_count": 154,
   "metadata": {},
   "outputs": [
    {
     "name": "stdout",
     "output_type": "stream",
     "text": [
      "50 palabras mas usadas:  ['academy' 'act' 'action' 'adam' 'adventure' 'adventures' 'affair'\n",
      " 'africa' 'age' 'agent' 'air' 'ali' 'alice' 'alien' 'alive' 'alley'\n",
      " 'amazing' 'america' 'american' 'angel' 'angels' 'angry' 'animal'\n",
      " 'animals' 'anna' 'annie' 'apocalypse' 'april' 'arms' 'army' 'art'\n",
      " 'arthur' 'assassin' 'assassination' 'attack' 'august' 'autumn' 'away'\n",
      " 'baby' 'babylon' 'bachelor' 'bad' 'ball' 'ballad' 'band' 'bang' 'bank'\n",
      " 'barbie' 'batman' 'battle' 'bay' 'beach' 'bear' 'beast' 'beat'\n",
      " 'beautiful' 'beauty' 'bed' 'beginning' 'begins' 'bell' 'belle' 'beloved'\n",
      " 'beneath' 'berlin' 'best' 'better' 'big' 'billy' 'bird' 'birds' 'black'\n",
      " 'blade' 'blind' 'blonde' 'blood' 'bloody' 'blue' 'blues' 'boat' 'bob'\n",
      " 'bobby' 'body' 'bone' 'book' 'border' 'born' 'boss' 'box' 'boy' 'boys'\n",
      " 'brain' 'brave' 'bread' 'break' 'breakfast' 'breaking' 'bride' 'bridge'\n",
      " 'bright' 'broadway' 'broken' 'brooklyn' 'brother' 'brothers' 'brown'\n",
      " 'bruce' 'bullet' 'bullets' 'bunny' 'burn' 'burning' 'business'\n",
      " 'butterfly' 'bye' 'called' 'came' 'camp' 'candy' 'cannibal' 'captain'\n",
      " 'car' 'care' 'carol' 'carry' 'case' 'castle' 'cat' 'catch' 'cats'\n",
      " 'central' 'century' 'chain' 'chan' 'chance' 'change' 'chaos' 'chapter'\n",
      " 'charlie' 'chase' 'chasing' 'che' 'chicago' 'child' 'children' 'china'\n",
      " 'chinese' 'christ' 'christmas' 'chronicle' 'chronicles' 'cinderella'\n",
      " 'cinema' 'circle' 'circus' 'citizen' 'city' 'class' 'claus' 'close'\n",
      " 'clouds' 'club' 'coast' 'cobra' 'code' 'cold' 'color' 'come' 'comedy'\n",
      " 'comes' 'coming' 'command' 'company' 'confessions' 'conspiracy' 'control'\n",
      " 'cool' 'cop' 'cops' 'count' 'country' 'county' 'crazy' 'creature' 'creek'\n",
      " 'crime' 'criminal' 'crisis' 'cross' 'crossing' 'cruel' 'crush' 'curse'\n",
      " 'cut' 'dad' 'daddy' 'damned' 'dance' 'dancer' 'dancing']\n"
     ]
    }
   ],
   "source": [
    "# Vizualizamos las 50 palabras mas usadas\n",
    "print(\"50 palabras mas usadas: \",all_words[0:200])"
   ]
  },
  {
   "attachments": {},
   "cell_type": "markdown",
   "metadata": {},
   "source": [
    "## 7. Modelar\n",
    "\n",
    "Ahroa sí estamos listos para usar todo nuestro conocimiento de modelos en este set de datos. Tengamos en cuenta que, dependiendo el número de palabras (features) que hayamos elegido, los modelos pueden tardar un rato en entrenarse.\n",
    "\n",
    "a. Primero, como siempre, separamos en test y train."
   ]
  },
  {
   "cell_type": "code",
   "execution_count": 155,
   "metadata": {},
   "outputs": [
    {
     "data": {
      "text/plain": [
       "(42388, 1000)"
      ]
     },
     "execution_count": 155,
     "metadata": {},
     "output_type": "execute_result"
    }
   ],
   "source": [
    "x = matriz_titulos.toarray()\n",
    "x.shape"
   ]
  },
  {
   "cell_type": "code",
   "execution_count": 156,
   "metadata": {},
   "outputs": [
    {
     "data": {
      "text/plain": [
       "array([0, 0, 0, 0, 0, 0, 0, 0, 0, 0, 0, 0, 0, 0, 0, 0, 0, 0, 0, 0, 0, 0,\n",
       "       0, 0, 0, 0, 0, 0, 0, 0, 0, 0, 0, 0, 0, 0, 0, 0, 0, 0, 0, 0, 0, 0,\n",
       "       0, 0, 0, 0, 0, 0, 0, 0, 0, 0, 0, 0, 0, 0, 0, 0, 0, 0, 0, 0, 0, 0,\n",
       "       0, 0, 0, 0, 0, 0, 0, 0, 0, 0, 0, 0, 0, 0, 0, 0, 0, 0, 0, 0, 0, 0,\n",
       "       0, 0, 0, 0, 0, 0, 0, 0, 0, 0, 0, 0, 0, 0, 0, 0, 0, 0, 0, 0, 0, 0,\n",
       "       0, 0, 0, 0, 0, 0, 0, 0, 0, 0, 0, 0, 0, 0, 0, 0, 0, 0, 0, 0, 0, 0,\n",
       "       0, 0, 0, 0, 0, 0, 0, 0, 0, 0, 0, 0, 0, 0, 0, 0, 0, 0, 0, 0, 0, 0,\n",
       "       0, 0, 0, 0, 0, 0, 0, 0, 0, 0, 0, 0, 0, 0, 0, 0, 0, 0, 0, 0, 0, 0,\n",
       "       0, 0, 0, 0, 0, 0, 0, 0, 0, 0, 0, 0, 0, 0, 0, 0, 0, 0, 0, 0, 0, 0,\n",
       "       0, 0, 0, 0, 0, 0, 0, 0, 0, 0, 0, 1, 0, 0, 0, 0, 0, 0, 0, 0, 0, 0,\n",
       "       0, 0, 0, 0, 0, 0, 0, 0, 0, 0, 0, 0, 0, 0, 0, 0, 0, 0, 0, 0, 0, 0,\n",
       "       0, 0, 0, 0, 0, 0, 0, 0, 0, 0, 0, 0, 0, 0, 0, 0, 0, 0, 0, 0, 0, 0,\n",
       "       0, 0, 0, 0, 0, 0, 0, 0, 0, 0, 0, 0, 0, 0, 0, 0, 0, 0, 0, 0, 0, 0,\n",
       "       0, 0, 0, 0, 0, 0, 0, 0, 0, 0, 0, 0, 0, 0, 0, 0, 0, 0, 0, 0, 0, 0,\n",
       "       0, 0, 0, 0, 0, 0, 0, 0, 0, 0, 0, 0, 0, 0, 0, 0, 0, 0, 0, 0, 0, 0,\n",
       "       0, 0, 0, 0, 0, 0, 0, 0, 0, 0, 0, 0, 0, 0, 0, 0, 0, 0, 0, 0, 0, 0,\n",
       "       0, 0, 0, 0, 0, 0, 0, 0, 0, 0, 0, 0, 0, 0, 0, 0, 0, 0, 0, 0, 0, 0,\n",
       "       0, 0, 0, 0, 0, 0, 0, 0, 0, 0, 0, 0, 0, 0, 0, 0, 0, 0, 0, 0, 0, 0,\n",
       "       0, 0, 0, 0, 0, 0, 0, 0, 0, 0, 0, 0, 0, 0, 0, 0, 0, 0, 0, 0, 0, 0,\n",
       "       0, 0, 0, 0, 0, 0, 0, 0, 0, 0, 0, 0, 0, 0, 0, 0, 0, 0, 0, 0, 0, 0,\n",
       "       0, 0, 0, 0, 0, 0, 0, 0, 0, 0, 0, 0, 0, 0, 0, 0, 0, 0, 0, 0, 0, 0,\n",
       "       0, 0, 0, 0, 0, 0, 0, 0, 0, 0, 0, 0, 0, 0, 0, 0, 0, 0, 0, 0, 0, 0,\n",
       "       0, 0, 0, 0, 0, 0, 0, 0, 0, 0, 0, 0, 0, 0, 0, 0, 0, 0, 0, 0, 0, 0,\n",
       "       0, 0, 0, 0, 0, 0, 0, 0, 0, 0, 0, 0, 0, 0, 0, 0, 0, 0, 0, 0, 0, 0,\n",
       "       0, 0, 0, 0, 0, 0, 0, 0, 0, 0, 0, 0, 0, 0, 0, 0, 0, 0, 0, 0, 0, 0,\n",
       "       0, 0, 0, 0, 0, 0, 0, 0, 0, 0, 0, 0, 0, 0, 0, 0, 0, 0, 0, 0, 0, 0,\n",
       "       0, 0, 0, 0, 0, 0, 0, 0, 0, 0, 0, 0, 0, 0, 0, 0, 0, 0, 0, 0, 0, 0,\n",
       "       0, 0, 0, 0, 0, 0, 0, 0, 0, 0, 0, 0, 0, 0, 0, 0, 0, 0, 0, 0, 0, 0,\n",
       "       0, 0, 0, 0, 0, 0, 0, 0, 0, 0, 0, 0, 0, 0, 0, 0, 0, 0, 0, 0, 0, 0,\n",
       "       0, 0, 0, 0, 0, 0, 0, 0, 0, 0, 0, 0, 0, 0, 0, 0, 0, 0, 0, 0, 0, 0,\n",
       "       0, 0, 0, 0, 0, 0, 0, 0, 0, 0, 0, 0, 0, 0, 0, 0, 0, 0, 0, 0, 0, 0,\n",
       "       0, 0, 0, 0, 0, 0, 0, 0, 0, 0, 0, 0, 0, 0, 0, 0, 0, 0, 0, 0, 0, 0,\n",
       "       0, 0, 0, 0, 0, 0, 0, 0, 0, 0, 0, 0, 0, 0, 0, 0, 0, 0, 0, 0, 0, 0,\n",
       "       0, 0, 0, 0, 0, 0, 0, 0, 0, 0, 0, 0, 0, 0, 0, 0, 0, 0, 0, 0, 0, 0,\n",
       "       0, 0, 0, 0, 0, 0, 0, 0, 0, 0, 0, 0, 0, 0, 0, 0, 0, 0, 0, 0, 0, 0,\n",
       "       0, 0, 0, 0, 0, 0, 0, 0, 0, 0, 0, 0, 0, 0, 0, 0, 0, 0, 0, 0, 0, 0,\n",
       "       0, 0, 0, 0, 0, 0, 0, 0, 0, 0, 0, 0, 0, 0, 0, 0, 0, 0, 0, 0, 0, 0,\n",
       "       0, 0, 0, 0, 0, 0, 0, 0, 0, 0, 0, 0, 0, 0, 0, 0, 0, 0, 0, 0, 0, 0,\n",
       "       0, 0, 0, 0, 0, 0, 0, 0, 0, 0, 0, 0, 0, 0, 0, 0, 0, 0, 0, 0, 0, 0,\n",
       "       0, 0, 0, 0, 0, 0, 0, 0, 0, 0, 0, 0, 0, 0, 0, 0, 0, 0, 0, 0, 0, 0,\n",
       "       0, 0, 0, 0, 0, 0, 0, 0, 0, 0, 0, 0, 0, 0, 0, 0, 0, 0, 0, 0, 0, 0,\n",
       "       0, 0, 0, 0, 0, 0, 0, 0, 0, 0, 0, 0, 0, 0, 0, 0, 0, 0, 0, 0, 0, 0,\n",
       "       0, 0, 0, 0, 0, 0, 0, 0, 0, 0, 0, 0, 0, 0, 0, 0, 0, 0, 0, 0, 0, 0,\n",
       "       0, 0, 0, 0, 0, 0, 0, 0, 0, 0, 0, 0, 0, 0, 0, 0, 0, 0, 0, 0, 0, 0,\n",
       "       0, 0, 0, 0, 0, 0, 0, 0, 0, 0, 0, 0, 0, 0, 0, 0, 0, 0, 0, 0, 0, 0,\n",
       "       0, 0, 0, 0, 0, 0, 0, 0, 0, 0], dtype=int64)"
      ]
     },
     "execution_count": 156,
     "metadata": {},
     "output_type": "execute_result"
    }
   ],
   "source": [
    "x[500]"
   ]
  },
  {
   "cell_type": "code",
   "execution_count": 157,
   "metadata": {},
   "outputs": [
    {
     "data": {
      "text/plain": [
       "array([7, 6, 6, ..., 5, 9, 3], dtype=int64)"
      ]
     },
     "execution_count": 157,
     "metadata": {},
     "output_type": "execute_result"
    }
   ],
   "source": [
    "y = is_vote\n",
    "y"
   ]
  },
  {
   "cell_type": "code",
   "execution_count": 158,
   "metadata": {},
   "outputs": [
    {
     "data": {
      "text/plain": [
       "array([[0, 0, 0, ..., 0, 0, 0],\n",
       "       [0, 0, 0, ..., 0, 0, 0]], dtype=int64)"
      ]
     },
     "execution_count": 158,
     "metadata": {},
     "output_type": "execute_result"
    }
   ],
   "source": [
    "x[0:2]"
   ]
  },
  {
   "cell_type": "code",
   "execution_count": 159,
   "metadata": {},
   "outputs": [],
   "source": [
    "xtrain, xtest, ytrain, ytest = train_test_split(x,y,test_size=0.2,random_state=42,stratify=y)"
   ]
  },
  {
   "cell_type": "code",
   "execution_count": 160,
   "metadata": {},
   "outputs": [
    {
     "name": "stdout",
     "output_type": "stream",
     "text": [
      "(33910, 1000)\n",
      "(8478, 1000)\n",
      "(33910,)\n",
      "(8478,)\n"
     ]
    }
   ],
   "source": [
    "print(xtrain.shape) \n",
    "print(xtest.shape)\n",
    "print(ytrain.shape)\n",
    "print(ytest.shape)"
   ]
  },
  {
   "cell_type": "code",
   "execution_count": 161,
   "metadata": {},
   "outputs": [],
   "source": [
    "def confusion(ytest,y_pred):\n",
    "    names=[\"No Sarcastico\",\"Sarcastico\"]\n",
    "    cm=confusion_matrix(ytest,y_pred)\n",
    "    f,ax=plt.subplots(figsize=(5,5))\n",
    "    sns.heatmap(cm,annot=True,linewidth=.5,linecolor=\"r\",fmt=\".0f\",ax=ax)\n",
    "    plt.xlabel(\"y_pred\")\n",
    "    plt.ylabel(\"y_true\")\n",
    "    ax.set_xticklabels(names)\n",
    "    ax.set_yticklabels(names)\n",
    "    plt.show()\n",
    "\n",
    "    return"
   ]
  },
  {
   "cell_type": "code",
   "execution_count": 162,
   "metadata": {},
   "outputs": [
    {
     "name": "stdout",
     "output_type": "stream",
     "text": [
      "acc :  0.03161122906345836\n"
     ]
    }
   ],
   "source": [
    "nb = GaussianNB()\n",
    "nb.fit(xtrain,ytrain)\n",
    "print(\"acc : \", nb.score(xtest,ytest))"
   ]
  },
  {
   "cell_type": "code",
   "execution_count": 163,
   "metadata": {},
   "outputs": [],
   "source": [
    "# no se puede crear una matriz de confuncion ya que solo maneja 0 y 1 y los valore de calificacion son 1 al 10\n",
    "#y_pred=nb.predict(xtest)\n",
    "#confusion(ytest,y_pred)"
   ]
  },
  {
   "attachments": {},
   "cell_type": "markdown",
   "metadata": {},
   "source": [
    "### Random Forest"
   ]
  },
  {
   "cell_type": "code",
   "execution_count": 164,
   "metadata": {},
   "outputs": [
    {
     "name": "stdout",
     "output_type": "stream",
     "text": [
      "acc:  0.3192970040103798\n"
     ]
    }
   ],
   "source": [
    "rf = RandomForestClassifier(n_estimators = 50, random_state=42)\n",
    "rf.fit(xtrain,ytrain)\n",
    "print(\"acc: \",rf.score(xtest,ytest))"
   ]
  },
  {
   "cell_type": "code",
   "execution_count": 165,
   "metadata": {},
   "outputs": [],
   "source": [
    "#y_pred= rf.predict(xtest)\n",
    "#confusion(ytest,y_pred)"
   ]
  },
  {
   "cell_type": "markdown",
   "metadata": {},
   "source": [
    "SVM"
   ]
  },
  {
   "cell_type": "code",
   "execution_count": 166,
   "metadata": {},
   "outputs": [
    {
     "data": {
      "text/plain": [
       "0.330620429346544"
      ]
     },
     "execution_count": 166,
     "metadata": {},
     "output_type": "execute_result"
    }
   ],
   "source": [
    "# Notar que en vez de utilizar SVC, vamos a usar LinearSVC. \n",
    "# Para el Kernel Lineal, esta función es MUCHO mas rapida que la tradicional SVC.\n",
    "from sklearn.svm import LinearSVC\n",
    "\n",
    "svc = LinearSVC(C = 1)\n",
    "svc.fit(xtrain,ytrain)\n",
    "svc.score(xtest,ytest)"
   ]
  }
 ],
 "metadata": {
  "kernelspec": {
   "display_name": "Python 3",
   "language": "python",
   "name": "python3"
  },
  "language_info": {
   "codemirror_mode": {
    "name": "ipython",
    "version": 3
   },
   "file_extension": ".py",
   "mimetype": "text/x-python",
   "name": "python",
   "nbconvert_exporter": "python",
   "pygments_lexer": "ipython3",
   "version": "3.11.2"
  },
  "orig_nbformat": 4
 },
 "nbformat": 4,
 "nbformat_minor": 2
}
